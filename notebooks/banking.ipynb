{
 "cells": [
  {
   "cell_type": "code",
   "execution_count": 3,
   "id": "b0f1b5a8",
   "metadata": {},
   "outputs": [],
   "source": [
    "# Import necessary libraries\n",
    "from sklearn.linear_model import LogisticRegression\n",
    "from sklearn.tree import DecisionTreeClassifier\n",
    "from sklearn.ensemble import RandomForestClassifier,GradientBoostingClassifier\n",
    "from sklearn.naive_bayes import GaussianNB\n",
    "from sklearn.neighbors import KNeighborsClassifier\n",
    "from sklearn.metrics import (accuracy_score, classification_report, confusion_matrix, \n",
    "                            roc_auc_score, roc_curve,auc)\n",
    "from sklearn.model_selection import train_test_split\n",
    "from sklearn.preprocessing import StandardScaler,OneHotEncoder,LabelEncoder\n",
    "from sklearn.compose import ColumnTransformer\n",
    "from imblearn.over_sampling import SMOTE\n",
    "from sklearn.pipeline import Pipeline\n",
    "import pandas as pd\n",
    "from pathlib import Path\n",
    "import matplotlib.pyplot as plt\n",
    "import seaborn as sns\n",
    "import joblib\n",
    "\n"
   ]
  },
  {
   "cell_type": "code",
   "execution_count": 4,
   "id": "82ad466b",
   "metadata": {},
   "outputs": [
    {
     "name": "stdout",
     "output_type": "stream",
     "text": [
      "Loading data from: /home/tisinr/Dev/models/classifier/dataset/bank.csv\n"
     ]
    }
   ],
   "source": [
    "# Load data\n",
    "notebook_path = Path.cwd()\n",
    "file_path = notebook_path.parent / 'dataset' / 'bank.csv'\n",
    "print(f\"Loading data from: {file_path}\")\n",
    "data = pd.read_csv(file_path, header=0, sep=';')"
   ]
  },
  {
   "cell_type": "code",
   "execution_count": 5,
   "id": "b40ffc9a",
   "metadata": {},
   "outputs": [],
   "source": [
    "def rename_n_change(data):\n",
    "    # Rename columns for better readability\n",
    "    data.rename(columns={\n",
    "        'marital':'marital_status',\n",
    "        'default':'credit_default',\n",
    "        'housing':'housing_loan',\n",
    "        'loan':'personal_loan',\n",
    "        'y':'response'}, inplace=True)\n",
    "    #change data types\n",
    "    data['response'] = data['response'].astype('category')\n",
    "    data['marital_status'] = data['marital_status'].astype('category')\n",
    "    data['education'] = data['education'].astype('category')\n",
    "    data['job'] = data['job'].astype('category')\n",
    "    data['contact'] = data['contact'].astype('category')\n",
    "    data['month'] = data['month'].astype('category')\n",
    "    data['day'] = data['day'].astype('category')\n",
    "    data['credit_default'] = data['credit_default'].astype('category')\n",
    "    data['housing_loan'] = data['housing_loan'].astype('category')\n",
    "    data['personal_loan'] = data['personal_loan'].astype('category')\n",
    "    return data\n",
    "data=rename_n_change(data)"
   ]
  },
  {
   "cell_type": "code",
   "execution_count": 6,
   "id": "0ea00549",
   "metadata": {},
   "outputs": [],
   "source": [
    "#Assign features and labels\n",
    "X=data.drop(columns=['response'])\n",
    "y=data['response']\n"
   ]
  },
  {
   "cell_type": "markdown",
   "id": "d56c03e1",
   "metadata": {},
   "source": [
    "## Apply preprocessing steps to the dataset"
   ]
  },
  {
   "cell_type": "code",
   "execution_count": 7,
   "id": "06475acb",
   "metadata": {},
   "outputs": [],
   "source": [
    "# Create a pipeline for preprocessing\n",
    "numeric_features = ['age', 'balance', 'day', 'duration', 'campaign', 'pdays', 'previous']\n",
    "categorical_features = ['job', 'marital_status', 'education', 'month', 'housing_loan', 'personal_loan', 'credit_default']\n",
    "# Create a column transformer to apply different preprocessing steps to different columns\n",
    "pre_processor = ColumnTransformer(\n",
    "    transformers=[\n",
    "        ('num', StandardScaler(), numeric_features),\n",
    "        ('cat', OneHotEncoder(handle_unknown='ignore'), categorical_features)\n",
    "    ]\n",
    ")\n",
    "# Create a pipeline that first applies the preprocessor and then fits a classifier\n",
    "pre_pipeline = Pipeline(steps=[\n",
    "    ('preprocessor', pre_processor)\n",
    "])\n",
    "\n",
    "#Split the data into training and testing sets\n",
    "X_train,X_test,y_train,y_test = train_test_split(X,y,train_size=0.8,stratify=y,random_state=78)\n",
    "\n",
    "# Label encode the response variable\n",
    "label_encoder = LabelEncoder()\n",
    "y_train = label_encoder.fit_transform(y_train)\n",
    "y_test = label_encoder.transform(y_test)"
   ]
  },
  {
   "cell_type": "code",
   "execution_count": 8,
   "id": "c82022b2",
   "metadata": {},
   "outputs": [],
   "source": [
    "# Fit preprocessing on training data and transform both sets\n",
    "X_train = pre_pipeline.fit_transform(X_train)\n",
    "X_test = pre_pipeline.transform(X_test)  # No fitting on test data!\n"
   ]
  },
  {
   "cell_type": "code",
   "execution_count": 9,
   "id": "c6516844",
   "metadata": {},
   "outputs": [],
   "source": [
    "smote = SMOTE()\n",
    "X_train ,y_train = smote.fit_resample(X_train, y_train)"
   ]
  },
  {
   "cell_type": "code",
   "execution_count": 10,
   "id": "530f0866",
   "metadata": {},
   "outputs": [],
   "source": [
    "#Declare Models\n",
    "logreg = LogisticRegression(class_weight='balanced')\n",
    "dtree = DecisionTreeClassifier()\n",
    "rforest = RandomForestClassifier(n_estimators=100,class_weight='balanced')\n",
    "gbm = GradientBoostingClassifier()\n",
    "gnb = GaussianNB()\n",
    "knn = KNeighborsClassifier()"
   ]
  },
  {
   "cell_type": "code",
   "execution_count": 11,
   "id": "b5138466",
   "metadata": {},
   "outputs": [],
   "source": [
    "# Define models\n",
    "models = [\n",
    "    ('Logistic Regression', logreg),\n",
    "    ('Decision Tree', dtree),\n",
    "    ('Random Forest', rforest),\n",
    "    ('Gradient Boosting', gbm),\n",
    "    ('Gaussian Naive Bayes', gnb),\n",
    "    ('K Neighbors', knn)\n",
    "]\n"
   ]
  },
  {
   "cell_type": "code",
   "execution_count": 12,
   "id": "37b22786",
   "metadata": {},
   "outputs": [],
   "source": [
    "# Iterate through models and train\n",
    "for model_name, model in models:\n",
    "        # Fit model\n",
    "        model.fit(X_train, y_train)\n",
    "        \n",
    "        # Get predicted probabilities\n",
    "        y_pred = model.predict(X_test)\n",
    "        y_pred_proba = model.predict_proba(X_test)[:, 1]"
   ]
  },
  {
   "cell_type": "code",
   "execution_count": 13,
   "id": "6dae34ee",
   "metadata": {},
   "outputs": [],
   "source": [
    "def models_roc(X_train, y_train, X_test, y_test, models):\n",
    "    \"\"\"\n",
    "    Plot ROC curves for multiple models in a single figure.\n",
    "    \n",
    "    Parameters:\n",
    "    -----------\n",
    "    X_train \n",
    "    y_train\n",
    "    X_test \n",
    "    y_test\n",
    "    models\n",
    "    \n",
    "    Returns:\n",
    "    --------\n",
    "    None (displays the plot)\n",
    "    \"\"\"\n",
    "    plt.figure(figsize=(10, 8))\n",
    "    \n",
    "    # Plot diagonal line\n",
    "    plt.plot([0, 1], [0, 1], 'k--', label='Random Guess')\n",
    "    \n",
    "    # Iterate through models and train\n",
    "    for model_name, model in models:\n",
    "        # Fit model\n",
    "        model.fit(X_train, y_train)\n",
    "        \n",
    "        # Get predicted probabilities\n",
    "        y_pred = model.predict(X_test)\n",
    "        y_pred_proba = model.predict_proba(X_test)[:, 1]\n",
    "        \n",
    "        # Calculate ROC curve and AUC\n",
    "        fpr, tpr, _ = roc_curve(y_test, y_pred_proba)\n",
    "        roc_auc = auc(fpr, tpr)\n",
    "        \n",
    "        # Plot ROC curve\n",
    "        plt.plot(fpr, tpr, label=f'{model_name} (AUC = {roc_auc:.2f})')\n",
    "    \n",
    "    # Customize plot\n",
    "    plt.xlim([0.0, 1.0])\n",
    "    plt.ylim([0.0, 1.05])\n",
    "    plt.xlabel('False Positive Rate')\n",
    "    plt.ylabel('True Positive Rate')\n",
    "    plt.title('Receiver Operating Characteristic - Model Comparison')\n",
    "    plt.legend(loc='lower right')\n",
    "    plt.grid(True)\n",
    "    \n",
    "    # Save plot\n",
    "    plt.savefig('roc_comparison.png')\n",
    "    plt.close()\n",
    "\n",
    "    #Print results\n",
    "    print(\"Confusion Matrix: \\n\",confusion_matrix(y_test,y_pred))\n",
    "    print(\"Classification Report: \\n\",classification_report(y_test,y_pred))\n",
    "\n"
   ]
  },
  {
   "cell_type": "code",
   "execution_count": 14,
   "id": "e67f79fb",
   "metadata": {},
   "outputs": [],
   "source": [
    "def train_model(model_name, model, X_train, y_train, X_test, y_test):\n",
    "    \"\"\"\n",
    "    Helper function to train a single model and compute ROC metrics.\n",
    "    \"\"\"\n",
    "    # Fit model\n",
    "    model.fit(X_train, y_train)\n",
    "    \n",
    "    # Get predicted probabilities\n",
    "    y_pred_proba = model.predict_proba(X_test)[:, 1]\n",
    "    y_pred = model.predict(X_test)\n",
    "    \n",
    "    # Calculate ROC curve and AUC\n",
    "    fpr, tpr, _ = roc_curve(y_test, y_pred_proba)\n",
    "    roc_auc = auc(fpr, tpr)\n",
    "    \n",
    "    # Compute metrics\n",
    "    metrics = {\n",
    "        'confusion_matrix': confusion_matrix(y_test, y_pred),\n",
    "        'classification_report': classification_report(y_test, y_pred, output_dict=True)\n",
    "    }\n",
    "    \n",
    "    return model_name, fpr, tpr, roc_auc, metrics\n",
    "\n",
    "\n",
    "    "
   ]
  },
  {
   "cell_type": "code",
   "execution_count": 15,
   "id": "24b09670",
   "metadata": {},
   "outputs": [],
   "source": [
    "def models_roc(X_train, y_train, X_test, y_test, models, n_jobs=-1):\n",
    "    \"\"\"\n",
    "    Plot ROC curves for multiple models in a single figure using parallel processing.\n",
    "    \n",
    "    Parameters:\n",
    "    -----------\n",
    "    X_train : array-like, training features\n",
    "    y_train : array-like, training response\n",
    "    X_test : array-like, test features\n",
    "    y_test : array-like, test response\n",
    "    models : list of tuples, each containing (model_name, model_instance)\n",
    "    n_jobs : int, number of parallel jobs (-1 uses all available cores)\n",
    "    \n",
    "    Returns:\n",
    "    --------\n",
    "    None (displays the plot and prints metrics)\n",
    "    \"\"\"\n",
    "    # Parallelize model training\n",
    "    results = Parallel(n_jobs=n_jobs)(\n",
    "        delayed(train_model)(model_name, model, X_train, y_train, X_test, y_test)\n",
    "        for model_name, model in models\n",
    "    )\n",
    "    \n",
    "    # Initialize plot\n",
    "    plt.figure(figsize=(10, 8))\n",
    "    plt.plot([0, 1], [0, 1], 'k--', label='Random Guess')\n",
    "\n",
    "\n",
    "    # Plot ROC curves and print metrics\n",
    "    for model_name, fpr, tpr, roc_auc, metrics in results:\n",
    "        plt.plot(fpr, tpr, label=f'{model_name} (AUC = {roc_auc:.2f})')\n",
    "        \n",
    "        # Print metrics for each model\n",
    "        print(f\"\\n{model_name}:\")\n",
    "        print(\"Confusion Matrix:\\n\", metrics['confusion_matrix'])\n",
    "        print(\"Classification Report:\\n\", classification_report(y_test, metrics['confusion_matrix'].argmax(axis=1)))\n",
    "    \n",
    "    # Customize plot\n",
    "    plt.xlim([0.0, 1.0])\n",
    "    plt.ylim([0.0, 1.05])\n",
    "    plt.xlabel('False Positive Rate')\n",
    "    plt.ylabel('True Positive Rate')\n",
    "    plt.title('Receiver Operating Characteristic - Model Comparison')\n",
    "    plt.legend(loc='lower right')\n",
    "    plt.grid(True)\n",
    "    \n",
    "    # Save and close plot\n",
    "    plt.savefig('../plots/roc_comparison.png')\n",
    "    plt.close()"
   ]
  },
  {
   "cell_type": "code",
   "execution_count": 16,
   "id": "c80090e5",
   "metadata": {},
   "outputs": [
    {
     "data": {
      "text/plain": [
       "('K Neighbors',\n",
       " array([0.        , 0.05447714, 0.10757671, 0.15554164, 0.20313087,\n",
       "        0.25698184, 1.        ]),\n",
       " array([0.        , 0.33648393, 0.57655955, 0.70699433, 0.7778828 ,\n",
       "        0.84404537, 1.        ]),\n",
       " np.float64(0.8282721146573265),\n",
       " {'confusion_matrix': array([[6743, 1242],\n",
       "         [ 310,  748]]),\n",
       "  'classification_report': {'0': {'precision': 0.9560470721678719,\n",
       "    'recall': 0.8444583594239199,\n",
       "    'f1-score': 0.8967947865407634,\n",
       "    'support': 7985.0},\n",
       "   '1': {'precision': 0.3758793969849246,\n",
       "    'recall': 0.7069943289224953,\n",
       "    'f1-score': 0.49081364829396323,\n",
       "    'support': 1058.0},\n",
       "   'accuracy': 0.8283755390910096,\n",
       "   'macro avg': {'precision': 0.6659632345763983,\n",
       "    'recall': 0.7757263441732076,\n",
       "    'f1-score': 0.6938042174173633,\n",
       "    'support': 9043.0},\n",
       "   'weighted avg': {'precision': 0.8881694430244949,\n",
       "    'recall': 0.8283755390910096,\n",
       "    'f1-score': 0.8492963850959868,\n",
       "    'support': 9043.0}}})"
      ]
     },
     "execution_count": 16,
     "metadata": {},
     "output_type": "execute_result"
    }
   ],
   "source": [
    "train_model(model_name, model, X_train, y_train, X_test, y_test)"
   ]
  },
  {
   "cell_type": "code",
   "execution_count": 17,
   "id": "83d2ac94",
   "metadata": {},
   "outputs": [
    {
     "ename": "NameError",
     "evalue": "name 'Parallel' is not defined",
     "output_type": "error",
     "traceback": [
      "\u001b[31m---------------------------------------------------------------------------\u001b[39m",
      "\u001b[31mNameError\u001b[39m                                 Traceback (most recent call last)",
      "\u001b[36mCell\u001b[39m\u001b[36m \u001b[39m\u001b[32mIn[17]\u001b[39m\u001b[32m, line 1\u001b[39m\n\u001b[32m----> \u001b[39m\u001b[32m1\u001b[39m \u001b[43mmodels_roc\u001b[49m\u001b[43m(\u001b[49m\u001b[43mX_train\u001b[49m\u001b[43m,\u001b[49m\u001b[43m \u001b[49m\u001b[43my_train\u001b[49m\u001b[43m,\u001b[49m\u001b[43m \u001b[49m\u001b[43mX_test\u001b[49m\u001b[43m,\u001b[49m\u001b[43m \u001b[49m\u001b[43my_test\u001b[49m\u001b[43m,\u001b[49m\u001b[43m \u001b[49m\u001b[43mmodels\u001b[49m\u001b[43m)\u001b[49m\n",
      "\u001b[36mCell\u001b[39m\u001b[36m \u001b[39m\u001b[32mIn[15]\u001b[39m\u001b[32m, line 19\u001b[39m, in \u001b[36mmodels_roc\u001b[39m\u001b[34m(X_train, y_train, X_test, y_test, models, n_jobs)\u001b[39m\n\u001b[32m      2\u001b[39m \u001b[38;5;250m\u001b[39m\u001b[33;03m\"\"\"\u001b[39;00m\n\u001b[32m      3\u001b[39m \u001b[33;03mPlot ROC curves for multiple models in a single figure using parallel processing.\u001b[39;00m\n\u001b[32m      4\u001b[39m \n\u001b[32m   (...)\u001b[39m\u001b[32m     16\u001b[39m \u001b[33;03mNone (displays the plot and prints metrics)\u001b[39;00m\n\u001b[32m     17\u001b[39m \u001b[33;03m\"\"\"\u001b[39;00m\n\u001b[32m     18\u001b[39m \u001b[38;5;66;03m# Parallelize model training\u001b[39;00m\n\u001b[32m---> \u001b[39m\u001b[32m19\u001b[39m results = \u001b[43mParallel\u001b[49m(n_jobs=n_jobs)(\n\u001b[32m     20\u001b[39m     delayed(train_model)(model_name, model, X_train, y_train, X_test, y_test)\n\u001b[32m     21\u001b[39m     \u001b[38;5;28;01mfor\u001b[39;00m model_name, model \u001b[38;5;129;01min\u001b[39;00m models\n\u001b[32m     22\u001b[39m )\n\u001b[32m     24\u001b[39m \u001b[38;5;66;03m# Initialize plot\u001b[39;00m\n\u001b[32m     25\u001b[39m plt.figure(figsize=(\u001b[32m10\u001b[39m, \u001b[32m8\u001b[39m))\n",
      "\u001b[31mNameError\u001b[39m: name 'Parallel' is not defined"
     ]
    }
   ],
   "source": [
    "models_roc(X_train, y_train, X_test, y_test, models)"
   ]
  },
  {
   "cell_type": "code",
   "execution_count": null,
   "id": "b0f027e2",
   "metadata": {},
   "outputs": [],
   "source": [
    "# Create a DataFrame to store the results\n",
    "res = pd.DataFrame({\n",
    "    'Model': ['Logistic Regression', 'Decision Tree', 'Random Forest', 'Gradient Boosting', 'SVC', 'Gaussian Naive Bayes', 'K Neighbors'],\n",
    "    'Accuracy': [accuracy_score(y_test, logreg.predict(X_test)), \n",
    "                 accuracy_score(y_test, dtree.predict(X_test)), \n",
    "                 accuracy_score(y_test, rforest.predict(X_test)), \n",
    "                 accuracy_score(y_test, gbm.predict(X_test)), \n",
    "                 accuracy_score(y_test, svc.predict(X_test)), \n",
    "                 accuracy_score(y_test, gnb.predict(X_test)), \n",
    "                 accuracy_score(y_test, knn.predict(X_test))],\n",
    "    'ROC_AUC_Score': [roc_auc_score(y_test, logreg.predict_proba(X_test)[:, 1]), \n",
    "                      roc_auc_score(y_test, dtree.predict_proba(X_test)[:, 1]), \n",
    "                      roc_auc_score(y_test, rforest.predict_proba(X_test)[:, 1]), \n",
    "                      roc_auc_score(y_test, gbm.predict_proba(X_test)[:, 1]), \n",
    "                      roc_auc_score(y_test, svc.predict_proba(X_test)[:, 1]), \n",
    "                      roc_auc_score(y_test, gnb.predict_proba(X_test)[:, 1]), \n",
    "                      roc_auc_score(y_test, knn.predict_proba(X_test)[:, 1])]\n",
    "})\n",
    "\n",
    "# Sort the results by accuracy\n",
    "res = res.sort_values(by='ROC_AUC_Score', ascending=False)\n",
    "# Display the results\n",
    "print(res)  "
   ]
  }
 ],
 "metadata": {
  "kernelspec": {
   "display_name": "Python 3",
   "language": "python",
   "name": "python3"
  },
  "language_info": {
   "codemirror_mode": {
    "name": "ipython",
    "version": 3
   },
   "file_extension": ".py",
   "mimetype": "text/x-python",
   "name": "python",
   "nbconvert_exporter": "python",
   "pygments_lexer": "ipython3",
   "version": "3.11.13"
  }
 },
 "nbformat": 4,
 "nbformat_minor": 5
}
