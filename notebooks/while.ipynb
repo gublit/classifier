{
 "cells": [
  {
   "cell_type": "code",
   "execution_count": 1,
   "id": "9cd450d7",
   "metadata": {},
   "outputs": [],
   "source": [
    "counter = 5\n"
   ]
  },
  {
   "cell_type": "code",
   "execution_count": 2,
   "id": "cd2e2424",
   "metadata": {},
   "outputs": [
    {
     "name": "stdout",
     "output_type": "stream",
     "text": [
      "Counter is at: 5\n",
      "Counter is at: 4\n",
      "Counter is at: 3\n",
      "Counter is at: 2\n",
      "Counter is at: 1\n"
     ]
    }
   ],
   "source": [
    "while counter > 0:\n",
    "    print(\"Counter is at:\", counter)\n",
    "    counter -= 1"
   ]
  }
 ],
 "metadata": {
  "kernelspec": {
   "display_name": "viz",
   "language": "python",
   "name": "python3"
  },
  "language_info": {
   "codemirror_mode": {
    "name": "ipython",
    "version": 3
   },
   "file_extension": ".py",
   "mimetype": "text/x-python",
   "name": "python",
   "nbconvert_exporter": "python",
   "pygments_lexer": "ipython3",
   "version": "3.12.9"
  }
 },
 "nbformat": 4,
 "nbformat_minor": 5
}
