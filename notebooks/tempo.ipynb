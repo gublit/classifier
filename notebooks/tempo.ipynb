{
 "cells": [
  {
   "cell_type": "code",
   "execution_count": 11,
   "id": "d22146e6",
   "metadata": {},
   "outputs": [],
   "source": [
    "import polars as pl\n",
    "import pyarrow as pa\n",
    "import pyarrow.dataset as ds\n",
    "from huggingface_hub import HfFileSystem\n",
    "\n",
    "\n",
    "df=pl.read_csv(\"hf://datasets/lhoestq/demo1/data/train.csv\")"
   ]
  },
  {
   "cell_type": "code",
   "execution_count": 2,
   "id": "0413918e",
   "metadata": {},
   "outputs": [
    {
     "data": {
      "text/plain": [
       "<bound method DataFrame.head of shape: (5, 6)\n",
       "┌────────────────────┬───────────────────┬───────────────────┬─────────────────┬──────┬────────────┐\n",
       "│ id                 ┆ package_name      ┆ review            ┆ date            ┆ star ┆ version_id │\n",
       "│ ---                ┆ ---               ┆ ---               ┆ ---             ┆ ---  ┆ ---        │\n",
       "│ str                ┆ str               ┆ str               ┆ str             ┆ i64  ┆ i64        │\n",
       "╞════════════════════╪═══════════════════╪═══════════════════╪═════════════════╪══════╪════════════╡\n",
       "│ 7bd227d9-afc9-11e6 ┆ com.mantz_it.rfan ┆ Great app! The    ┆ October 12 2016 ┆ 4    ┆ 1487       │\n",
       "│ -aba1-c4b301…      ┆ alyzer            ┆ new version now…  ┆                 ┆      ┆            │\n",
       "│ 7bd22905-afc9-11e6 ┆ com.mantz_it.rfan ┆ Great It's not    ┆ August 23 2016  ┆ 4    ┆ 1487       │\n",
       "│ -a5dc-c4b301…      ┆ alyzer            ┆ fully optimised…  ┆                 ┆      ┆            │\n",
       "│ 7bd2299c-afc9-11e6 ┆ com.mantz_it.rfan ┆ Works on a Nexus  ┆ August 04 2016  ┆ 5    ┆ 1487       │\n",
       "│ -85d6-c4b301…      ┆ alyzer            ┆ 6p I'm still …    ┆                 ┆      ┆            │\n",
       "│ 7bd22a26-afc9-11e6 ┆ com.mantz_it.rfan ┆ The bandwidth     ┆ July 25 2016    ┆ 3    ┆ 1487       │\n",
       "│ -9309-c4b301…      ┆ alyzer            ┆ seemed to be lim… ┆                 ┆      ┆            │\n",
       "│ 7bd22aba-afc9-11e6 ┆ com.mantz_it.rfan ┆ Works well with   ┆ July 22 2016    ┆ 5    ┆ 1487       │\n",
       "│ -8293-c4b301…      ┆ alyzer            ┆ my Hackrf Hope…   ┆                 ┆      ┆            │\n",
       "└────────────────────┴───────────────────┴───────────────────┴─────────────────┴──────┴────────────┘>"
      ]
     },
     "execution_count": 2,
     "metadata": {},
     "output_type": "execute_result"
    }
   ],
   "source": [
    "df.head"
   ]
  },
  {
   "cell_type": "code",
   "execution_count": 14,
   "id": "d81b846c",
   "metadata": {},
   "outputs": [
    {
     "data": {
      "text/html": [
       "<div><style>\n",
       ".dataframe > thead > tr,\n",
       ".dataframe > tbody > tr {\n",
       "  text-align: right;\n",
       "  white-space: pre-wrap;\n",
       "}\n",
       "</style>\n",
       "<small>shape: (13, 5)</small><table border=\"1\" class=\"dataframe\"><thead><tr><th>suffix</th><th>date</th><th>tld</th><th>pages</th><th>domains</th></tr><tr><td>str</td><td>date</td><td>str</td><td>i64</td><td>f64</td></tr></thead><tbody><tr><td>&quot;a.se&quot;</td><td>2009-01-12</td><td>&quot;se&quot;</td><td>18</td><td>1.0</td></tr><tr><td>&quot;a.se&quot;</td><td>2010-09-25</td><td>&quot;se&quot;</td><td>3462</td><td>151.0</td></tr><tr><td>&quot;a.se&quot;</td><td>2012-11-02</td><td>&quot;se&quot;</td><td>6957</td><td>150.0</td></tr><tr><td>&quot;a.se&quot;</td><td>2013-05-13</td><td>&quot;se&quot;</td><td>613</td><td>46.0</td></tr><tr><td>&quot;a.se&quot;</td><td>2013-11-25</td><td>&quot;se&quot;</td><td>224</td><td>34.0</td></tr><tr><td>&hellip;</td><td>&hellip;</td><td>&hellip;</td><td>&hellip;</td><td>&hellip;</td></tr><tr><td>&quot;a.se&quot;</td><td>2014-08-25</td><td>&quot;se&quot;</td><td>300</td><td>34.0</td></tr><tr><td>&quot;a.se&quot;</td><td>2014-10-06</td><td>&quot;se&quot;</td><td>297</td><td>34.0</td></tr><tr><td>&quot;a.se&quot;</td><td>2014-10-13</td><td>&quot;se&quot;</td><td>593</td><td>34.0</td></tr><tr><td>&quot;a.se&quot;</td><td>2014-12-01</td><td>&quot;se&quot;</td><td>264</td><td>31.0</td></tr><tr><td>&quot;a.se&quot;</td><td>2014-12-22</td><td>&quot;se&quot;</td><td>188</td><td>null</td></tr></tbody></table></div>"
      ],
      "text/plain": [
       "shape: (13, 5)\n",
       "┌────────┬────────────┬─────┬───────┬─────────┐\n",
       "│ suffix ┆ date       ┆ tld ┆ pages ┆ domains │\n",
       "│ ---    ┆ ---        ┆ --- ┆ ---   ┆ ---     │\n",
       "│ str    ┆ date       ┆ str ┆ i64   ┆ f64     │\n",
       "╞════════╪════════════╪═════╪═══════╪═════════╡\n",
       "│ a.se   ┆ 2009-01-12 ┆ se  ┆ 18    ┆ 1.0     │\n",
       "│ a.se   ┆ 2010-09-25 ┆ se  ┆ 3462  ┆ 151.0   │\n",
       "│ a.se   ┆ 2012-11-02 ┆ se  ┆ 6957  ┆ 150.0   │\n",
       "│ a.se   ┆ 2013-05-13 ┆ se  ┆ 613   ┆ 46.0    │\n",
       "│ a.se   ┆ 2013-11-25 ┆ se  ┆ 224   ┆ 34.0    │\n",
       "│ …      ┆ …          ┆ …   ┆ …     ┆ …       │\n",
       "│ a.se   ┆ 2014-08-25 ┆ se  ┆ 300   ┆ 34.0    │\n",
       "│ a.se   ┆ 2014-10-06 ┆ se  ┆ 297   ┆ 34.0    │\n",
       "│ a.se   ┆ 2014-10-13 ┆ se  ┆ 593   ┆ 34.0    │\n",
       "│ a.se   ┆ 2014-12-01 ┆ se  ┆ 264   ┆ 31.0    │\n",
       "│ a.se   ┆ 2014-12-22 ┆ se  ┆ 188   ┆ null    │\n",
       "└────────┴────────────┴─────┴───────┴─────────┘"
      ]
     },
     "execution_count": 14,
     "metadata": {},
     "output_type": "execute_result"
    }
   ],
   "source": [
    "df1 = pl.read_csv(\n",
    "    \"hf://datasets/commoncrawl/statistics/tlds.csv\",\n",
    "    try_parse_dates=True,\n",
    ")\n",
    "\n",
    "df1.head\n",
    "\n",
    "df1 = df1.select(\"suffix\", \"date\", \"tld\", \"pages\", \"domains\")\n",
    "df1.head(13)"
   ]
  },
  {
   "cell_type": "code",
   "execution_count": 15,
   "id": "19c2c5d2",
   "metadata": {},
   "outputs": [],
   "source": [
    "\n",
    "# Create a Hugging Face filesystem object\n",
    "hf_fs = HfFileSystem()\n",
    "\n",
    "# Define the dataset using the Hugging Face filesystem\n",
    "dataset = ds.dataset(\"datasets/commoncrawl/statistics/tlds.csv\", filesystem=hf_fs, format=\"csv\")\n"
   ]
  },
  {
   "cell_type": "code",
   "execution_count": 16,
   "id": "4ad7a324",
   "metadata": {},
   "outputs": [
    {
     "data": {
      "text/html": [
       "<div><style>\n",
       ".dataframe > thead > tr,\n",
       ".dataframe > tbody > tr {\n",
       "  text-align: right;\n",
       "  white-space: pre-wrap;\n",
       "}\n",
       "</style>\n",
       "<small>shape: (15, 11)</small><table border=\"1\" class=\"dataframe\"><thead><tr><th>column_0</th><th>suffix</th><th>crawl</th><th>date</th><th>type</th><th>subtype</th><th>tld</th><th>pages</th><th>urls</th><th>hosts</th><th>domains</th></tr><tr><td>i64</td><td>str</td><td>str</td><td>date</td><td>str</td><td>str</td><td>str</td><td>i64</td><td>i64</td><td>f64</td><td>f64</td></tr></thead><tbody><tr><td>0</td><td>&quot;a.se&quot;</td><td>&quot;CC-MAIN-2008-2009&quot;</td><td>2009-01-12</td><td>&quot;ccTLD&quot;</td><td>&quot;second-level&quot;</td><td>&quot;se&quot;</td><td>18</td><td>18</td><td>1.0</td><td>1.0</td></tr><tr><td>1</td><td>&quot;a.se&quot;</td><td>&quot;CC-MAIN-2009-2010&quot;</td><td>2010-09-25</td><td>&quot;ccTLD&quot;</td><td>&quot;second-level&quot;</td><td>&quot;se&quot;</td><td>3462</td><td>3259</td><td>166.0</td><td>151.0</td></tr><tr><td>2</td><td>&quot;a.se&quot;</td><td>&quot;CC-MAIN-2012&quot;</td><td>2012-11-02</td><td>&quot;ccTLD&quot;</td><td>&quot;second-level&quot;</td><td>&quot;se&quot;</td><td>6957</td><td>6794</td><td>172.0</td><td>150.0</td></tr><tr><td>3</td><td>&quot;a.se&quot;</td><td>&quot;CC-MAIN-2013-20&quot;</td><td>2013-05-13</td><td>&quot;ccTLD&quot;</td><td>&quot;second-level&quot;</td><td>&quot;se&quot;</td><td>613</td><td>600</td><td>50.0</td><td>46.0</td></tr><tr><td>4</td><td>&quot;a.se&quot;</td><td>&quot;CC-MAIN-2013-48&quot;</td><td>2013-11-25</td><td>&quot;ccTLD&quot;</td><td>&quot;second-level&quot;</td><td>&quot;se&quot;</td><td>224</td><td>222</td><td>35.0</td><td>34.0</td></tr><tr><td>&hellip;</td><td>&hellip;</td><td>&hellip;</td><td>&hellip;</td><td>&hellip;</td><td>&hellip;</td><td>&hellip;</td><td>&hellip;</td><td>&hellip;</td><td>&hellip;</td><td>&hellip;</td></tr><tr><td>10</td><td>&quot;a.se&quot;</td><td>&quot;CC-MAIN-2014-42&quot;</td><td>2014-10-13</td><td>&quot;ccTLD&quot;</td><td>&quot;second-level&quot;</td><td>&quot;se&quot;</td><td>593</td><td>189</td><td>36.0</td><td>34.0</td></tr><tr><td>11</td><td>&quot;a.se&quot;</td><td>&quot;CC-MAIN-2014-49&quot;</td><td>2014-12-01</td><td>&quot;ccTLD&quot;</td><td>&quot;second-level&quot;</td><td>&quot;se&quot;</td><td>264</td><td>167</td><td>32.0</td><td>31.0</td></tr><tr><td>12</td><td>&quot;a.se&quot;</td><td>&quot;CC-MAIN-2014-52&quot;</td><td>2014-12-22</td><td>&quot;ccTLD&quot;</td><td>&quot;second-level&quot;</td><td>&quot;se&quot;</td><td>188</td><td>184</td><td>null</td><td>null</td></tr><tr><td>13</td><td>&quot;a.se&quot;</td><td>&quot;CC-MAIN-2015-06&quot;</td><td>2015-02-02</td><td>&quot;ccTLD&quot;</td><td>&quot;second-level&quot;</td><td>&quot;se&quot;</td><td>182</td><td>180</td><td>null</td><td>null</td></tr><tr><td>14</td><td>&quot;a.se&quot;</td><td>&quot;CC-MAIN-2015-11&quot;</td><td>2015-03-09</td><td>&quot;ccTLD&quot;</td><td>&quot;second-level&quot;</td><td>&quot;se&quot;</td><td>176</td><td>175</td><td>null</td><td>null</td></tr></tbody></table></div>"
      ],
      "text/plain": [
       "shape: (15, 11)\n",
       "┌──────────┬────────┬───────────────────┬────────────┬───┬───────┬──────┬───────┬─────────┐\n",
       "│ column_0 ┆ suffix ┆ crawl             ┆ date       ┆ … ┆ pages ┆ urls ┆ hosts ┆ domains │\n",
       "│ ---      ┆ ---    ┆ ---               ┆ ---        ┆   ┆ ---   ┆ ---  ┆ ---   ┆ ---     │\n",
       "│ i64      ┆ str    ┆ str               ┆ date       ┆   ┆ i64   ┆ i64  ┆ f64   ┆ f64     │\n",
       "╞══════════╪════════╪═══════════════════╪════════════╪═══╪═══════╪══════╪═══════╪═════════╡\n",
       "│ 0        ┆ a.se   ┆ CC-MAIN-2008-2009 ┆ 2009-01-12 ┆ … ┆ 18    ┆ 18   ┆ 1.0   ┆ 1.0     │\n",
       "│ 1        ┆ a.se   ┆ CC-MAIN-2009-2010 ┆ 2010-09-25 ┆ … ┆ 3462  ┆ 3259 ┆ 166.0 ┆ 151.0   │\n",
       "│ 2        ┆ a.se   ┆ CC-MAIN-2012      ┆ 2012-11-02 ┆ … ┆ 6957  ┆ 6794 ┆ 172.0 ┆ 150.0   │\n",
       "│ 3        ┆ a.se   ┆ CC-MAIN-2013-20   ┆ 2013-05-13 ┆ … ┆ 613   ┆ 600  ┆ 50.0  ┆ 46.0    │\n",
       "│ 4        ┆ a.se   ┆ CC-MAIN-2013-48   ┆ 2013-11-25 ┆ … ┆ 224   ┆ 222  ┆ 35.0  ┆ 34.0    │\n",
       "│ …        ┆ …      ┆ …                 ┆ …          ┆ … ┆ …     ┆ …    ┆ …     ┆ …       │\n",
       "│ 10       ┆ a.se   ┆ CC-MAIN-2014-42   ┆ 2014-10-13 ┆ … ┆ 593   ┆ 189  ┆ 36.0  ┆ 34.0    │\n",
       "│ 11       ┆ a.se   ┆ CC-MAIN-2014-49   ┆ 2014-12-01 ┆ … ┆ 264   ┆ 167  ┆ 32.0  ┆ 31.0    │\n",
       "│ 12       ┆ a.se   ┆ CC-MAIN-2014-52   ┆ 2014-12-22 ┆ … ┆ 188   ┆ 184  ┆ null  ┆ null    │\n",
       "│ 13       ┆ a.se   ┆ CC-MAIN-2015-06   ┆ 2015-02-02 ┆ … ┆ 182   ┆ 180  ┆ null  ┆ null    │\n",
       "│ 14       ┆ a.se   ┆ CC-MAIN-2015-11   ┆ 2015-03-09 ┆ … ┆ 176   ┆ 175  ┆ null  ┆ null    │\n",
       "└──────────┴────────┴───────────────────┴────────────┴───┴───────┴──────┴───────┴─────────┘"
      ]
     },
     "execution_count": 16,
     "metadata": {},
     "output_type": "execute_result"
    }
   ],
   "source": [
    "# Read the dataset into a PyArrow Table\n",
    "table = dataset.to_table()\n",
    "# Convert the PyArrow Table to a Polars DataFrame\n",
    "df2 = pl.from_arrow(table)\n",
    "df2.head(15)"
   ]
  },
  {
   "cell_type": "markdown",
   "id": "7d61a263",
   "metadata": {},
   "source": [
    "UCI dataset\n"
   ]
  },
  {
   "cell_type": "code",
   "execution_count": 5,
   "id": "fc783c79",
   "metadata": {},
   "outputs": [
    {
     "data": {
      "text/plain": [
       "OpenML Dataset\n",
       "==============\n",
       "Name.........: albert\n",
       "Version......: 1\n",
       "Format.......: ARFF\n",
       "Upload Date..: 2018-08-15 23:55:47\n",
       "Licence......: Public\n",
       "Download URL.: https://api.openml.org/data/v1/download/19335520/albert.arff\n",
       "OpenML URL...: https://www.openml.org/d/41147\n",
       "# of features: None"
      ]
     },
     "execution_count": 5,
     "metadata": {},
     "output_type": "execute_result"
    }
   ],
   "source": [
    "import openml\n",
    "dataset = openml.datasets.get_dataset(41147)  # Example ID for a large dataset\n",
    "dataset"
   ]
  },
  {
   "cell_type": "code",
   "execution_count": 2,
   "id": "e137161d",
   "metadata": {},
   "outputs": [],
   "source": [
    "from sklearn.datasets import fetch_covtype\n",
    "import polars as pl\n",
    "X, y = fetch_covtype(return_X_y=True)"
   ]
  },
  {
   "cell_type": "code",
   "execution_count": 2,
   "id": "09e658a9",
   "metadata": {},
   "outputs": [
    {
     "data": {
      "text/plain": [
       "((581012, 54), (581012,))"
      ]
     },
     "execution_count": 2,
     "metadata": {},
     "output_type": "execute_result"
    }
   ],
   "source": [
    "X.shape, y.shape"
   ]
  },
  {
   "cell_type": "code",
   "execution_count": 6,
   "id": "ae5f467b",
   "metadata": {},
   "outputs": [
    {
     "data": {
      "text/plain": [
       "<bound method DataFrame.head of shape: (581_012, 54)\n",
       "┌──────────┬──────────┬──────────┬──────────┬───┬───────────┬───────────┬───────────┬───────────┐\n",
       "│ column_0 ┆ column_1 ┆ column_2 ┆ column_3 ┆ … ┆ column_50 ┆ column_51 ┆ column_52 ┆ column_53 │\n",
       "│ ---      ┆ ---      ┆ ---      ┆ ---      ┆   ┆ ---       ┆ ---       ┆ ---       ┆ ---       │\n",
       "│ f64      ┆ f64      ┆ f64      ┆ f64      ┆   ┆ f64       ┆ f64       ┆ f64       ┆ f64       │\n",
       "╞══════════╪══════════╪══════════╪══════════╪═══╪═══════════╪═══════════╪═══════════╪═══════════╡\n",
       "│ 2596.0   ┆ 51.0     ┆ 3.0      ┆ 258.0    ┆ … ┆ 0.0       ┆ 0.0       ┆ 0.0       ┆ 0.0       │\n",
       "│ 2590.0   ┆ 56.0     ┆ 2.0      ┆ 212.0    ┆ … ┆ 0.0       ┆ 0.0       ┆ 0.0       ┆ 0.0       │\n",
       "│ 2804.0   ┆ 139.0    ┆ 9.0      ┆ 268.0    ┆ … ┆ 0.0       ┆ 0.0       ┆ 0.0       ┆ 0.0       │\n",
       "│ 2785.0   ┆ 155.0    ┆ 18.0     ┆ 242.0    ┆ … ┆ 0.0       ┆ 0.0       ┆ 0.0       ┆ 0.0       │\n",
       "│ 2595.0   ┆ 45.0     ┆ 2.0      ┆ 153.0    ┆ … ┆ 0.0       ┆ 0.0       ┆ 0.0       ┆ 0.0       │\n",
       "│ …        ┆ …        ┆ …        ┆ …        ┆ … ┆ …         ┆ …         ┆ …         ┆ …         │\n",
       "│ 2396.0   ┆ 153.0    ┆ 20.0     ┆ 85.0     ┆ … ┆ 0.0       ┆ 0.0       ┆ 0.0       ┆ 0.0       │\n",
       "│ 2391.0   ┆ 152.0    ┆ 19.0     ┆ 67.0     ┆ … ┆ 0.0       ┆ 0.0       ┆ 0.0       ┆ 0.0       │\n",
       "│ 2386.0   ┆ 159.0    ┆ 17.0     ┆ 60.0     ┆ … ┆ 0.0       ┆ 0.0       ┆ 0.0       ┆ 0.0       │\n",
       "│ 2384.0   ┆ 170.0    ┆ 15.0     ┆ 60.0     ┆ … ┆ 0.0       ┆ 0.0       ┆ 0.0       ┆ 0.0       │\n",
       "│ 2383.0   ┆ 165.0    ┆ 13.0     ┆ 60.0     ┆ … ┆ 0.0       ┆ 0.0       ┆ 0.0       ┆ 0.0       │\n",
       "└──────────┴──────────┴──────────┴──────────┴───┴───────────┴───────────┴───────────┴───────────┘>"
      ]
     },
     "execution_count": 6,
     "metadata": {},
     "output_type": "execute_result"
    }
   ],
   "source": [
    "X.view()\n",
    "# Convert to a Polars DataFrame\n",
    "df = pl.DataFrame(X)\n",
    "# Convert to a PyArrow Table\n",
    "\n",
    "df.head"
   ]
  },
  {
   "cell_type": "code",
   "execution_count": null,
   "id": "e9111dac",
   "metadata": {},
   "outputs": [
    {
     "data": {
      "text/plain": [
       "<bound method DataFrame.glimpse of shape: (581_012, 54)\n",
       "┌──────────┬──────────┬──────────┬──────────┬───┬───────────┬───────────┬───────────┬───────────┐\n",
       "│ column_0 ┆ column_1 ┆ column_2 ┆ column_3 ┆ … ┆ column_50 ┆ column_51 ┆ column_52 ┆ column_53 │\n",
       "│ ---      ┆ ---      ┆ ---      ┆ ---      ┆   ┆ ---       ┆ ---       ┆ ---       ┆ ---       │\n",
       "│ f64      ┆ f64      ┆ f64      ┆ f64      ┆   ┆ f64       ┆ f64       ┆ f64       ┆ f64       │\n",
       "╞══════════╪══════════╪══════════╪══════════╪═══╪═══════════╪═══════════╪═══════════╪═══════════╡\n",
       "│ 2596.0   ┆ 51.0     ┆ 3.0      ┆ 258.0    ┆ … ┆ 0.0       ┆ 0.0       ┆ 0.0       ┆ 0.0       │\n",
       "│ 2590.0   ┆ 56.0     ┆ 2.0      ┆ 212.0    ┆ … ┆ 0.0       ┆ 0.0       ┆ 0.0       ┆ 0.0       │\n",
       "│ 2804.0   ┆ 139.0    ┆ 9.0      ┆ 268.0    ┆ … ┆ 0.0       ┆ 0.0       ┆ 0.0       ┆ 0.0       │\n",
       "│ 2785.0   ┆ 155.0    ┆ 18.0     ┆ 242.0    ┆ … ┆ 0.0       ┆ 0.0       ┆ 0.0       ┆ 0.0       │\n",
       "│ 2595.0   ┆ 45.0     ┆ 2.0      ┆ 153.0    ┆ … ┆ 0.0       ┆ 0.0       ┆ 0.0       ┆ 0.0       │\n",
       "│ …        ┆ …        ┆ …        ┆ …        ┆ … ┆ …         ┆ …         ┆ …         ┆ …         │\n",
       "│ 2396.0   ┆ 153.0    ┆ 20.0     ┆ 85.0     ┆ … ┆ 0.0       ┆ 0.0       ┆ 0.0       ┆ 0.0       │\n",
       "│ 2391.0   ┆ 152.0    ┆ 19.0     ┆ 67.0     ┆ … ┆ 0.0       ┆ 0.0       ┆ 0.0       ┆ 0.0       │\n",
       "│ 2386.0   ┆ 159.0    ┆ 17.0     ┆ 60.0     ┆ … ┆ 0.0       ┆ 0.0       ┆ 0.0       ┆ 0.0       │\n",
       "│ 2384.0   ┆ 170.0    ┆ 15.0     ┆ 60.0     ┆ … ┆ 0.0       ┆ 0.0       ┆ 0.0       ┆ 0.0       │\n",
       "│ 2383.0   ┆ 165.0    ┆ 13.0     ┆ 60.0     ┆ … ┆ 0.0       ┆ 0.0       ┆ 0.0       ┆ 0.0       │\n",
       "└──────────┴──────────┴──────────┴──────────┴───┴───────────┴───────────┴───────────┴───────────┘>"
      ]
     },
     "execution_count": 10,
     "metadata": {},
     "output_type": "execute_result"
    }
   ],
   "source": [
    "df."
   ]
  },
  {
   "cell_type": "code",
   "execution_count": 11,
   "id": "1ed16bff",
   "metadata": {},
   "outputs": [
    {
     "name": "stdout",
     "output_type": "stream",
     "text": [
      "{'uci_id': 799, 'name': 'Single Elder Home Monitoring: Gas and Position', 'repository_url': 'https://archive.ics.uci.edu/dataset/799/single+elder+home+monitoring+gas+and+position', 'data_url': 'https://archive.ics.uci.edu/static/public/799/data.csv', 'abstract': 'This dataset contains gas and temperature sensors as well as movement infra-red sensors from the monitoring of an elder person living alone in their own home from 2019-11-06 to 2020-02-13. The measurings have a temporal resolution of 20 seconds. The air and gas sensors measure temperature, humidity, CO2, CO and MOX readings. The data from the position sensors are binary; for each room, a 1 means that movement has been detected in that room while a 0 means that the sensor has gone back to baseline. The attached figure represents a simple layout of the monitored home as well as the sensors locations. The dataset also includes 19 days of measurements (from 2020-01-25 to 2020-02-13) where noone was occupying the room (except for an esporadic visit the 2020-01-29 at 15:), as reference data', 'area': 'Engineering', 'tasks': ['Classification'], 'characteristics': ['Tabular'], 'num_instances': 444631, 'num_features': 10, 'feature_types': ['Real'], 'demographics': [], 'target_col': None, 'index_col': None, 'has_missing_values': 'no', 'missing_values_symbol': None, 'year_of_dataset_creation': 2023, 'last_updated': 'Tue Apr 09 2024', 'dataset_doi': '10.24432/C5762W', 'creators': ['Daniel Marín López', 'Daniel Marín', 'Jordi Fonollosa', 'Joshua Llano', 'Alexandre Perera', 'Zouhair Haddi'], 'intro_paper': {'ID': 200, 'type': 'NATIVE', 'title': 'Home monitoring system based on a gas sensor arrayfor elderly people living alone', 'authors': 'Daniel Marín, Joshua Llano, Zouhair Haddi, Alexandre Perera-Lluna, Jordi Fonollosa', 'venue': 'B2SLab, Departament d’Enginyeria de Sistemes, Automàtica i Informàtica Industrial, Universitat Politècnica de Catalunya, Barcelona, 08028, Spain', 'year': 2023, 'journal': 'Sensors and Actuators B: Chemical', 'DOI': None, 'URL': 'https://www.sciencedirect.com/science/article/pii/S0925400523007517', 'sha': None, 'corpus': None, 'arxiv': None, 'mag': None, 'acl': None, 'pmid': None, 'pmcid': None}, 'additional_info': {'summary': None, 'purpose': 'This dataset was created in order to build a model that could translate the information gathered by a gas array sensor installed in a single elder person living alone into a safety monitoring system. Gas sensors are non-invasive, and with the control data from the movement sensors, the gas data could be used as an indicator of activity anomaly.', 'funded_by': 'The European Commission Program Horizon 2020', 'instances_represent': 'Each instance ir a measure by either the gas and temperature sensors or the movement sensors with its corresponding timestamp.', 'recommended_data_splits': 'The only recommended split is the reference data, which is already provided in a different file.', 'sensitive_data': 'No.', 'preprocessing_description': 'No.', 'variable_info': None, 'citation': 'Please, cite the referenced work when using this dataset.'}}\n",
      "            name     role         type demographic description units  \\\n",
      "0      timestamp  Feature  Categorical        None        None  None   \n",
      "1    temperature  Feature   Continuous        None        None  None   \n",
      "2       humidity  Feature   Continuous        None        None  None   \n",
      "3  CO2CosIRValue  Feature   Continuous        None        None  None   \n",
      "4  CO2MG811Value  Feature   Continuous        None        None  None   \n",
      "5           MOX1  Feature   Continuous        None        None  None   \n",
      "6           MOX2  Feature   Continuous        None        None  None   \n",
      "7           MOX3  Feature   Continuous        None        None  None   \n",
      "8           MOX4  Feature   Continuous        None        None  None   \n",
      "9        COValue  Feature   Continuous        None        None  None   \n",
      "\n",
      "  missing_values  \n",
      "0             no  \n",
      "1             no  \n",
      "2             no  \n",
      "3             no  \n",
      "4             no  \n",
      "5             no  \n",
      "6             no  \n",
      "7             no  \n",
      "8             no  \n",
      "9             no  \n"
     ]
    }
   ],
   "source": [
    "from ucimlrepo import fetch_ucirepo \n",
    "  \n",
    "# fetch dataset \n",
    "single_elder_home_monitoring_gas_and_position = fetch_ucirepo(id=799) \n",
    "  \n",
    "# data (as pandas dataframes) \n",
    "X = single_elder_home_monitoring_gas_and_position.data.features \n",
    "y = single_elder_home_monitoring_gas_and_position.data.targets \n",
    "  \n",
    "# metadata \n",
    "print(single_elder_home_monitoring_gas_and_position.metadata) \n",
    "  \n",
    "# variable information \n",
    "print(single_elder_home_monitoring_gas_and_position.variables) \n"
   ]
  },
  {
   "cell_type": "code",
   "execution_count": 18,
   "id": "3825e90c",
   "metadata": {},
   "outputs": [
    {
     "data": {
      "text/plain": [
       "<bound method DataFrame.items of                                timestamp  temperature  humidity  \\\n",
       "0       2019-11-06 11:37:13.038174+01:00        19.48     54.86   \n",
       "1       2019-11-06 11:37:32.744996+01:00        19.59     54.23   \n",
       "2       2019-11-06 11:37:53.018087+01:00        19.63     54.05   \n",
       "3       2019-11-06 11:38:13.093151+01:00        19.64     53.74   \n",
       "4       2019-11-06 11:38:33.032832+01:00        19.67     53.53   \n",
       "...                                  ...          ...       ...   \n",
       "416148  2020-02-13 11:56:53.929978+01:00        20.62     57.75   \n",
       "416149  2020-02-13 11:57:14.204458+01:00        20.62     57.75   \n",
       "416150  2020-02-13 11:57:33.983249+01:00        20.62     57.75   \n",
       "416151  2020-02-13 11:57:54.058349+01:00        20.62     57.74   \n",
       "416152  2020-02-13 11:58:14.014336+01:00        20.62     57.74   \n",
       "\n",
       "        CO2CosIRValue  CO2MG811Value   MOX1   MOX2   MOX3   MOX4  COValue  \n",
       "0               128.0          563.0  476.0  731.0  649.0  565.0    128.0  \n",
       "1               129.0          563.0  477.0  731.0  649.0  565.0    125.0  \n",
       "2               128.0          566.0  478.0  732.0  649.0  565.0    125.0  \n",
       "3               128.0          566.0  478.0  732.0  649.0  565.0    125.0  \n",
       "4               128.0          569.0  480.0  732.0  650.0  565.0    125.0  \n",
       "...               ...            ...    ...    ...    ...    ...      ...  \n",
       "416148           62.0          518.0  524.0  698.0  642.0  591.0    157.0  \n",
       "416149           62.0          518.0  524.0  698.0  641.0  591.0    157.0  \n",
       "416150           62.0          518.0  524.0  698.0  641.0  591.0    157.0  \n",
       "416151           63.0          518.0  524.0  698.0  641.0  591.0    157.0  \n",
       "416152           63.0          518.0  524.0  698.0  641.0  591.0    157.0  \n",
       "\n",
       "[416153 rows x 10 columns]>"
      ]
     },
     "execution_count": 18,
     "metadata": {},
     "output_type": "execute_result"
    }
   ],
   "source": [
    "X.items"
   ]
  }
 ],
 "metadata": {
  "kernelspec": {
   "display_name": "huf",
   "language": "python",
   "name": "python3"
  },
  "language_info": {
   "codemirror_mode": {
    "name": "ipython",
    "version": 3
   },
   "file_extension": ".py",
   "mimetype": "text/x-python",
   "name": "python",
   "nbconvert_exporter": "python",
   "pygments_lexer": "ipython3",
   "version": "3.12.9"
  }
 },
 "nbformat": 4,
 "nbformat_minor": 5
}
