{
 "cells": [
  {
   "cell_type": "code",
   "execution_count": 6,
   "id": "d22146e6",
   "metadata": {},
   "outputs": [],
   "source": [
    "import polars as pl\n",
    "\n",
    "df=pl.read_csv(\"hf://datasets/lhoestq/demo1/data/train.csv\")"
   ]
  },
  {
   "cell_type": "code",
   "execution_count": 7,
   "id": "0413918e",
   "metadata": {},
   "outputs": [
    {
     "data": {
      "text/plain": [
       "<bound method DataFrame.head of shape: (5, 6)\n",
       "┌────────────────────┬───────────────────┬───────────────────┬─────────────────┬──────┬────────────┐\n",
       "│ id                 ┆ package_name      ┆ review            ┆ date            ┆ star ┆ version_id │\n",
       "│ ---                ┆ ---               ┆ ---               ┆ ---             ┆ ---  ┆ ---        │\n",
       "│ str                ┆ str               ┆ str               ┆ str             ┆ i64  ┆ i64        │\n",
       "╞════════════════════╪═══════════════════╪═══════════════════╪═════════════════╪══════╪════════════╡\n",
       "│ 7bd227d9-afc9-11e6 ┆ com.mantz_it.rfan ┆ Great app! The    ┆ October 12 2016 ┆ 4    ┆ 1487       │\n",
       "│ -aba1-c4b301…      ┆ alyzer            ┆ new version now…  ┆                 ┆      ┆            │\n",
       "│ 7bd22905-afc9-11e6 ┆ com.mantz_it.rfan ┆ Great It's not    ┆ August 23 2016  ┆ 4    ┆ 1487       │\n",
       "│ -a5dc-c4b301…      ┆ alyzer            ┆ fully optimised…  ┆                 ┆      ┆            │\n",
       "│ 7bd2299c-afc9-11e6 ┆ com.mantz_it.rfan ┆ Works on a Nexus  ┆ August 04 2016  ┆ 5    ┆ 1487       │\n",
       "│ -85d6-c4b301…      ┆ alyzer            ┆ 6p I'm still …    ┆                 ┆      ┆            │\n",
       "│ 7bd22a26-afc9-11e6 ┆ com.mantz_it.rfan ┆ The bandwidth     ┆ July 25 2016    ┆ 3    ┆ 1487       │\n",
       "│ -9309-c4b301…      ┆ alyzer            ┆ seemed to be lim… ┆                 ┆      ┆            │\n",
       "│ 7bd22aba-afc9-11e6 ┆ com.mantz_it.rfan ┆ Works well with   ┆ July 22 2016    ┆ 5    ┆ 1487       │\n",
       "│ -8293-c4b301…      ┆ alyzer            ┆ my Hackrf Hope…   ┆                 ┆      ┆            │\n",
       "└────────────────────┴───────────────────┴───────────────────┴─────────────────┴──────┴────────────┘>"
      ]
     },
     "execution_count": 7,
     "metadata": {},
     "output_type": "execute_result"
    }
   ],
   "source": [
    "df.head"
   ]
  },
  {
   "cell_type": "code",
   "execution_count": 13,
   "id": "d81b846c",
   "metadata": {},
   "outputs": [
    {
     "data": {
      "text/html": [
       "<div><style>\n",
       ".dataframe > thead > tr,\n",
       ".dataframe > tbody > tr {\n",
       "  text-align: right;\n",
       "  white-space: pre-wrap;\n",
       "}\n",
       "</style>\n",
       "<small>shape: (13, 5)</small><table border=\"1\" class=\"dataframe\"><thead><tr><th>suffix</th><th>date</th><th>tld</th><th>pages</th><th>domains</th></tr><tr><td>str</td><td>date</td><td>str</td><td>i64</td><td>f64</td></tr></thead><tbody><tr><td>&quot;a.se&quot;</td><td>2009-01-12</td><td>&quot;se&quot;</td><td>18</td><td>1.0</td></tr><tr><td>&quot;a.se&quot;</td><td>2010-09-25</td><td>&quot;se&quot;</td><td>3462</td><td>151.0</td></tr><tr><td>&quot;a.se&quot;</td><td>2012-11-02</td><td>&quot;se&quot;</td><td>6957</td><td>150.0</td></tr><tr><td>&quot;a.se&quot;</td><td>2013-05-13</td><td>&quot;se&quot;</td><td>613</td><td>46.0</td></tr><tr><td>&quot;a.se&quot;</td><td>2013-11-25</td><td>&quot;se&quot;</td><td>224</td><td>34.0</td></tr><tr><td>&hellip;</td><td>&hellip;</td><td>&hellip;</td><td>&hellip;</td><td>&hellip;</td></tr><tr><td>&quot;a.se&quot;</td><td>2014-08-25</td><td>&quot;se&quot;</td><td>300</td><td>34.0</td></tr><tr><td>&quot;a.se&quot;</td><td>2014-10-06</td><td>&quot;se&quot;</td><td>297</td><td>34.0</td></tr><tr><td>&quot;a.se&quot;</td><td>2014-10-13</td><td>&quot;se&quot;</td><td>593</td><td>34.0</td></tr><tr><td>&quot;a.se&quot;</td><td>2014-12-01</td><td>&quot;se&quot;</td><td>264</td><td>31.0</td></tr><tr><td>&quot;a.se&quot;</td><td>2014-12-22</td><td>&quot;se&quot;</td><td>188</td><td>null</td></tr></tbody></table></div>"
      ],
      "text/plain": [
       "shape: (13, 5)\n",
       "┌────────┬────────────┬─────┬───────┬─────────┐\n",
       "│ suffix ┆ date       ┆ tld ┆ pages ┆ domains │\n",
       "│ ---    ┆ ---        ┆ --- ┆ ---   ┆ ---     │\n",
       "│ str    ┆ date       ┆ str ┆ i64   ┆ f64     │\n",
       "╞════════╪════════════╪═════╪═══════╪═════════╡\n",
       "│ a.se   ┆ 2009-01-12 ┆ se  ┆ 18    ┆ 1.0     │\n",
       "│ a.se   ┆ 2010-09-25 ┆ se  ┆ 3462  ┆ 151.0   │\n",
       "│ a.se   ┆ 2012-11-02 ┆ se  ┆ 6957  ┆ 150.0   │\n",
       "│ a.se   ┆ 2013-05-13 ┆ se  ┆ 613   ┆ 46.0    │\n",
       "│ a.se   ┆ 2013-11-25 ┆ se  ┆ 224   ┆ 34.0    │\n",
       "│ …      ┆ …          ┆ …   ┆ …     ┆ …       │\n",
       "│ a.se   ┆ 2014-08-25 ┆ se  ┆ 300   ┆ 34.0    │\n",
       "│ a.se   ┆ 2014-10-06 ┆ se  ┆ 297   ┆ 34.0    │\n",
       "│ a.se   ┆ 2014-10-13 ┆ se  ┆ 593   ┆ 34.0    │\n",
       "│ a.se   ┆ 2014-12-01 ┆ se  ┆ 264   ┆ 31.0    │\n",
       "│ a.se   ┆ 2014-12-22 ┆ se  ┆ 188   ┆ null    │\n",
       "└────────┴────────────┴─────┴───────┴─────────┘"
      ]
     },
     "execution_count": 13,
     "metadata": {},
     "output_type": "execute_result"
    }
   ],
   "source": [
    "df1 = pl.read_csv(\n",
    "    \"hf://datasets/commoncrawl/statistics/tlds.csv\",\n",
    "    try_parse_dates=True,\n",
    ")\n",
    "\n",
    "df1.head\n",
    "\n",
    "df1 = df1.select(\"suffix\", \"date\", \"tld\", \"pages\", \"domains\")\n",
    "df1.head(13)"
   ]
  }
 ],
 "metadata": {
  "kernelspec": {
   "display_name": "ml_clasfi",
   "language": "python",
   "name": "python3"
  },
  "language_info": {
   "codemirror_mode": {
    "name": "ipython",
    "version": 3
   },
   "file_extension": ".py",
   "mimetype": "text/x-python",
   "name": "python",
   "nbconvert_exporter": "python",
   "pygments_lexer": "ipython3",
   "version": "3.12.9"
  }
 },
 "nbformat": 4,
 "nbformat_minor": 5
}
