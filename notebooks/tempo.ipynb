{
 "cells": [
  {
   "cell_type": "code",
   "execution_count": 7,
   "id": "d22146e6",
   "metadata": {},
   "outputs": [],
   "source": [
    "import polars as pl\n",
    "import pyarrow as pa\n",
    "import pyarrow.dataset as ds\n",
    "from huggingface_hub import HfFileSystem\n",
    "\n",
    "\n",
    "df=pl.read_csv(\"hf://datasets/lhoestq/demo1/data/train.csv\")"
   ]
  },
  {
   "cell_type": "code",
   "execution_count": 2,
   "id": "0413918e",
   "metadata": {},
   "outputs": [
    {
     "data": {
      "text/plain": [
       "<bound method DataFrame.head of shape: (5, 6)\n",
       "┌────────────────────┬───────────────────┬───────────────────┬─────────────────┬──────┬────────────┐\n",
       "│ id                 ┆ package_name      ┆ review            ┆ date            ┆ star ┆ version_id │\n",
       "│ ---                ┆ ---               ┆ ---               ┆ ---             ┆ ---  ┆ ---        │\n",
       "│ str                ┆ str               ┆ str               ┆ str             ┆ i64  ┆ i64        │\n",
       "╞════════════════════╪═══════════════════╪═══════════════════╪═════════════════╪══════╪════════════╡\n",
       "│ 7bd227d9-afc9-11e6 ┆ com.mantz_it.rfan ┆ Great app! The    ┆ October 12 2016 ┆ 4    ┆ 1487       │\n",
       "│ -aba1-c4b301…      ┆ alyzer            ┆ new version now…  ┆                 ┆      ┆            │\n",
       "│ 7bd22905-afc9-11e6 ┆ com.mantz_it.rfan ┆ Great It's not    ┆ August 23 2016  ┆ 4    ┆ 1487       │\n",
       "│ -a5dc-c4b301…      ┆ alyzer            ┆ fully optimised…  ┆                 ┆      ┆            │\n",
       "│ 7bd2299c-afc9-11e6 ┆ com.mantz_it.rfan ┆ Works on a Nexus  ┆ August 04 2016  ┆ 5    ┆ 1487       │\n",
       "│ -85d6-c4b301…      ┆ alyzer            ┆ 6p I'm still …    ┆                 ┆      ┆            │\n",
       "│ 7bd22a26-afc9-11e6 ┆ com.mantz_it.rfan ┆ The bandwidth     ┆ July 25 2016    ┆ 3    ┆ 1487       │\n",
       "│ -9309-c4b301…      ┆ alyzer            ┆ seemed to be lim… ┆                 ┆      ┆            │\n",
       "│ 7bd22aba-afc9-11e6 ┆ com.mantz_it.rfan ┆ Works well with   ┆ July 22 2016    ┆ 5    ┆ 1487       │\n",
       "│ -8293-c4b301…      ┆ alyzer            ┆ my Hackrf Hope…   ┆                 ┆      ┆            │\n",
       "└────────────────────┴───────────────────┴───────────────────┴─────────────────┴──────┴────────────┘>"
      ]
     },
     "execution_count": 2,
     "metadata": {},
     "output_type": "execute_result"
    }
   ],
   "source": [
    "df.head"
   ]
  },
  {
   "cell_type": "code",
   "execution_count": 14,
   "id": "d81b846c",
   "metadata": {},
   "outputs": [
    {
     "data": {
      "text/html": [
       "<div><style>\n",
       ".dataframe > thead > tr,\n",
       ".dataframe > tbody > tr {\n",
       "  text-align: right;\n",
       "  white-space: pre-wrap;\n",
       "}\n",
       "</style>\n",
       "<small>shape: (13, 5)</small><table border=\"1\" class=\"dataframe\"><thead><tr><th>suffix</th><th>date</th><th>tld</th><th>pages</th><th>domains</th></tr><tr><td>str</td><td>date</td><td>str</td><td>i64</td><td>f64</td></tr></thead><tbody><tr><td>&quot;a.se&quot;</td><td>2009-01-12</td><td>&quot;se&quot;</td><td>18</td><td>1.0</td></tr><tr><td>&quot;a.se&quot;</td><td>2010-09-25</td><td>&quot;se&quot;</td><td>3462</td><td>151.0</td></tr><tr><td>&quot;a.se&quot;</td><td>2012-11-02</td><td>&quot;se&quot;</td><td>6957</td><td>150.0</td></tr><tr><td>&quot;a.se&quot;</td><td>2013-05-13</td><td>&quot;se&quot;</td><td>613</td><td>46.0</td></tr><tr><td>&quot;a.se&quot;</td><td>2013-11-25</td><td>&quot;se&quot;</td><td>224</td><td>34.0</td></tr><tr><td>&hellip;</td><td>&hellip;</td><td>&hellip;</td><td>&hellip;</td><td>&hellip;</td></tr><tr><td>&quot;a.se&quot;</td><td>2014-08-25</td><td>&quot;se&quot;</td><td>300</td><td>34.0</td></tr><tr><td>&quot;a.se&quot;</td><td>2014-10-06</td><td>&quot;se&quot;</td><td>297</td><td>34.0</td></tr><tr><td>&quot;a.se&quot;</td><td>2014-10-13</td><td>&quot;se&quot;</td><td>593</td><td>34.0</td></tr><tr><td>&quot;a.se&quot;</td><td>2014-12-01</td><td>&quot;se&quot;</td><td>264</td><td>31.0</td></tr><tr><td>&quot;a.se&quot;</td><td>2014-12-22</td><td>&quot;se&quot;</td><td>188</td><td>null</td></tr></tbody></table></div>"
      ],
      "text/plain": [
       "shape: (13, 5)\n",
       "┌────────┬────────────┬─────┬───────┬─────────┐\n",
       "│ suffix ┆ date       ┆ tld ┆ pages ┆ domains │\n",
       "│ ---    ┆ ---        ┆ --- ┆ ---   ┆ ---     │\n",
       "│ str    ┆ date       ┆ str ┆ i64   ┆ f64     │\n",
       "╞════════╪════════════╪═════╪═══════╪═════════╡\n",
       "│ a.se   ┆ 2009-01-12 ┆ se  ┆ 18    ┆ 1.0     │\n",
       "│ a.se   ┆ 2010-09-25 ┆ se  ┆ 3462  ┆ 151.0   │\n",
       "│ a.se   ┆ 2012-11-02 ┆ se  ┆ 6957  ┆ 150.0   │\n",
       "│ a.se   ┆ 2013-05-13 ┆ se  ┆ 613   ┆ 46.0    │\n",
       "│ a.se   ┆ 2013-11-25 ┆ se  ┆ 224   ┆ 34.0    │\n",
       "│ …      ┆ …          ┆ …   ┆ …     ┆ …       │\n",
       "│ a.se   ┆ 2014-08-25 ┆ se  ┆ 300   ┆ 34.0    │\n",
       "│ a.se   ┆ 2014-10-06 ┆ se  ┆ 297   ┆ 34.0    │\n",
       "│ a.se   ┆ 2014-10-13 ┆ se  ┆ 593   ┆ 34.0    │\n",
       "│ a.se   ┆ 2014-12-01 ┆ se  ┆ 264   ┆ 31.0    │\n",
       "│ a.se   ┆ 2014-12-22 ┆ se  ┆ 188   ┆ null    │\n",
       "└────────┴────────────┴─────┴───────┴─────────┘"
      ]
     },
     "execution_count": 14,
     "metadata": {},
     "output_type": "execute_result"
    }
   ],
   "source": [
    "df1 = pl.read_csv(\n",
    "    \"hf://datasets/commoncrawl/statistics/tlds.csv\",\n",
    "    try_parse_dates=True,\n",
    ")\n",
    "\n",
    "df1.head\n",
    "\n",
    "df1 = df1.select(\"suffix\", \"date\", \"tld\", \"pages\", \"domains\")\n",
    "df1.head(13)"
   ]
  },
  {
   "cell_type": "code",
   "execution_count": 15,
   "id": "19c2c5d2",
   "metadata": {},
   "outputs": [],
   "source": [
    "\n",
    "# Create a Hugging Face filesystem object\n",
    "hf_fs = HfFileSystem()\n",
    "\n",
    "# Define the dataset using the Hugging Face filesystem\n",
    "dataset = ds.dataset(\"datasets/commoncrawl/statistics/tlds.csv\", filesystem=hf_fs, format=\"csv\")\n"
   ]
  },
  {
   "cell_type": "code",
   "execution_count": 16,
   "id": "4ad7a324",
   "metadata": {},
   "outputs": [
    {
     "data": {
      "text/html": [
       "<div><style>\n",
       ".dataframe > thead > tr,\n",
       ".dataframe > tbody > tr {\n",
       "  text-align: right;\n",
       "  white-space: pre-wrap;\n",
       "}\n",
       "</style>\n",
       "<small>shape: (15, 11)</small><table border=\"1\" class=\"dataframe\"><thead><tr><th>column_0</th><th>suffix</th><th>crawl</th><th>date</th><th>type</th><th>subtype</th><th>tld</th><th>pages</th><th>urls</th><th>hosts</th><th>domains</th></tr><tr><td>i64</td><td>str</td><td>str</td><td>date</td><td>str</td><td>str</td><td>str</td><td>i64</td><td>i64</td><td>f64</td><td>f64</td></tr></thead><tbody><tr><td>0</td><td>&quot;a.se&quot;</td><td>&quot;CC-MAIN-2008-2009&quot;</td><td>2009-01-12</td><td>&quot;ccTLD&quot;</td><td>&quot;second-level&quot;</td><td>&quot;se&quot;</td><td>18</td><td>18</td><td>1.0</td><td>1.0</td></tr><tr><td>1</td><td>&quot;a.se&quot;</td><td>&quot;CC-MAIN-2009-2010&quot;</td><td>2010-09-25</td><td>&quot;ccTLD&quot;</td><td>&quot;second-level&quot;</td><td>&quot;se&quot;</td><td>3462</td><td>3259</td><td>166.0</td><td>151.0</td></tr><tr><td>2</td><td>&quot;a.se&quot;</td><td>&quot;CC-MAIN-2012&quot;</td><td>2012-11-02</td><td>&quot;ccTLD&quot;</td><td>&quot;second-level&quot;</td><td>&quot;se&quot;</td><td>6957</td><td>6794</td><td>172.0</td><td>150.0</td></tr><tr><td>3</td><td>&quot;a.se&quot;</td><td>&quot;CC-MAIN-2013-20&quot;</td><td>2013-05-13</td><td>&quot;ccTLD&quot;</td><td>&quot;second-level&quot;</td><td>&quot;se&quot;</td><td>613</td><td>600</td><td>50.0</td><td>46.0</td></tr><tr><td>4</td><td>&quot;a.se&quot;</td><td>&quot;CC-MAIN-2013-48&quot;</td><td>2013-11-25</td><td>&quot;ccTLD&quot;</td><td>&quot;second-level&quot;</td><td>&quot;se&quot;</td><td>224</td><td>222</td><td>35.0</td><td>34.0</td></tr><tr><td>&hellip;</td><td>&hellip;</td><td>&hellip;</td><td>&hellip;</td><td>&hellip;</td><td>&hellip;</td><td>&hellip;</td><td>&hellip;</td><td>&hellip;</td><td>&hellip;</td><td>&hellip;</td></tr><tr><td>10</td><td>&quot;a.se&quot;</td><td>&quot;CC-MAIN-2014-42&quot;</td><td>2014-10-13</td><td>&quot;ccTLD&quot;</td><td>&quot;second-level&quot;</td><td>&quot;se&quot;</td><td>593</td><td>189</td><td>36.0</td><td>34.0</td></tr><tr><td>11</td><td>&quot;a.se&quot;</td><td>&quot;CC-MAIN-2014-49&quot;</td><td>2014-12-01</td><td>&quot;ccTLD&quot;</td><td>&quot;second-level&quot;</td><td>&quot;se&quot;</td><td>264</td><td>167</td><td>32.0</td><td>31.0</td></tr><tr><td>12</td><td>&quot;a.se&quot;</td><td>&quot;CC-MAIN-2014-52&quot;</td><td>2014-12-22</td><td>&quot;ccTLD&quot;</td><td>&quot;second-level&quot;</td><td>&quot;se&quot;</td><td>188</td><td>184</td><td>null</td><td>null</td></tr><tr><td>13</td><td>&quot;a.se&quot;</td><td>&quot;CC-MAIN-2015-06&quot;</td><td>2015-02-02</td><td>&quot;ccTLD&quot;</td><td>&quot;second-level&quot;</td><td>&quot;se&quot;</td><td>182</td><td>180</td><td>null</td><td>null</td></tr><tr><td>14</td><td>&quot;a.se&quot;</td><td>&quot;CC-MAIN-2015-11&quot;</td><td>2015-03-09</td><td>&quot;ccTLD&quot;</td><td>&quot;second-level&quot;</td><td>&quot;se&quot;</td><td>176</td><td>175</td><td>null</td><td>null</td></tr></tbody></table></div>"
      ],
      "text/plain": [
       "shape: (15, 11)\n",
       "┌──────────┬────────┬───────────────────┬────────────┬───┬───────┬──────┬───────┬─────────┐\n",
       "│ column_0 ┆ suffix ┆ crawl             ┆ date       ┆ … ┆ pages ┆ urls ┆ hosts ┆ domains │\n",
       "│ ---      ┆ ---    ┆ ---               ┆ ---        ┆   ┆ ---   ┆ ---  ┆ ---   ┆ ---     │\n",
       "│ i64      ┆ str    ┆ str               ┆ date       ┆   ┆ i64   ┆ i64  ┆ f64   ┆ f64     │\n",
       "╞══════════╪════════╪═══════════════════╪════════════╪═══╪═══════╪══════╪═══════╪═════════╡\n",
       "│ 0        ┆ a.se   ┆ CC-MAIN-2008-2009 ┆ 2009-01-12 ┆ … ┆ 18    ┆ 18   ┆ 1.0   ┆ 1.0     │\n",
       "│ 1        ┆ a.se   ┆ CC-MAIN-2009-2010 ┆ 2010-09-25 ┆ … ┆ 3462  ┆ 3259 ┆ 166.0 ┆ 151.0   │\n",
       "│ 2        ┆ a.se   ┆ CC-MAIN-2012      ┆ 2012-11-02 ┆ … ┆ 6957  ┆ 6794 ┆ 172.0 ┆ 150.0   │\n",
       "│ 3        ┆ a.se   ┆ CC-MAIN-2013-20   ┆ 2013-05-13 ┆ … ┆ 613   ┆ 600  ┆ 50.0  ┆ 46.0    │\n",
       "│ 4        ┆ a.se   ┆ CC-MAIN-2013-48   ┆ 2013-11-25 ┆ … ┆ 224   ┆ 222  ┆ 35.0  ┆ 34.0    │\n",
       "│ …        ┆ …      ┆ …                 ┆ …          ┆ … ┆ …     ┆ …    ┆ …     ┆ …       │\n",
       "│ 10       ┆ a.se   ┆ CC-MAIN-2014-42   ┆ 2014-10-13 ┆ … ┆ 593   ┆ 189  ┆ 36.0  ┆ 34.0    │\n",
       "│ 11       ┆ a.se   ┆ CC-MAIN-2014-49   ┆ 2014-12-01 ┆ … ┆ 264   ┆ 167  ┆ 32.0  ┆ 31.0    │\n",
       "│ 12       ┆ a.se   ┆ CC-MAIN-2014-52   ┆ 2014-12-22 ┆ … ┆ 188   ┆ 184  ┆ null  ┆ null    │\n",
       "│ 13       ┆ a.se   ┆ CC-MAIN-2015-06   ┆ 2015-02-02 ┆ … ┆ 182   ┆ 180  ┆ null  ┆ null    │\n",
       "│ 14       ┆ a.se   ┆ CC-MAIN-2015-11   ┆ 2015-03-09 ┆ … ┆ 176   ┆ 175  ┆ null  ┆ null    │\n",
       "└──────────┴────────┴───────────────────┴────────────┴───┴───────┴──────┴───────┴─────────┘"
      ]
     },
     "execution_count": 16,
     "metadata": {},
     "output_type": "execute_result"
    }
   ],
   "source": [
    "# Read the dataset into a PyArrow Table\n",
    "table = dataset.to_table()\n",
    "# Convert the PyArrow Table to a Polars DataFrame\n",
    "df2 = pl.from_arrow(table)\n",
    "df2.head(15)"
   ]
  },
  {
   "cell_type": "markdown",
   "id": "7d61a263",
   "metadata": {},
   "source": [
    "UCI dataset\n"
   ]
  },
  {
   "cell_type": "code",
   "execution_count": 5,
   "id": "baa6efbb",
   "metadata": {},
   "outputs": [
    {
     "name": "stdout",
     "output_type": "stream",
     "text": [
      "\n",
      "\n",
      "\u001b7\u001b[1A\u001b[1G\u001b[27G[Files: 0  Bytes: 0  [0 B/s] Re]\u001b8\u001b7\u001b[2A\u001b[1G\u001b[27G[http://archive.ics.uci.edu/ml/]\u001b8\u001b7\u001b[1S\u001b[3A\u001b[1G\u001b[0JSaving 'auto-mpg.data.4'\n",
      "\u001b8\u001b7\u001b[2A\u001b[1Gauto-mpg.data.4        0% [<=>                           ]   22.14K    --.-KB/s\u001b8\u001b7\u001b[1A\u001b[1G\u001b[27G[Files: 0  Bytes: 0  [0 B/s] Re]\u001b8\u001b7\u001b[2A\u001b[1Gauto-mpg.data.4      100% [=============================>]   30.86K   13.06KB/s\u001b8\u001b7\u001b[1S\u001b[3A\u001b[1G\u001b[0JHTTP response 200 OK [http://archive.ics.uci.edu/ml/machine-learning-databases/auto-mpg/auto-mpg.data]\n",
      "\u001b8\u001b7\u001b[2A\u001b[1Gauto-mpg.data.4      100% [=============================>]   30.86K   13.06KB/s\u001b8\u001b7\u001b[1A\u001b[1G\u001b[27G[Files: 1  Bytes: 30.86K [18.49]\u001b8\u001b[m\u001b[m\u001b[m\u001b[m"
     ]
    }
   ],
   "source": [
    "!wget \"http://archive.ics.uci.edu/ml/machine-learning-databases/auto-mpg/auto-mpg.data\"\n"
   ]
  },
  {
   "cell_type": "code",
   "execution_count": null,
   "id": "1c869660",
   "metadata": {},
   "outputs": [],
   "source": [
    "import numpy as np\n",
    "import pandas as pd\n",
    "import matplotlib.pyplot as plt\n",
    "import seaborn as sns"
   ]
  }
 ],
 "metadata": {
  "kernelspec": {
   "display_name": "ml_clasfi",
   "language": "python",
   "name": "python3"
  },
  "language_info": {
   "codemirror_mode": {
    "name": "ipython",
    "version": 3
   },
   "file_extension": ".py",
   "mimetype": "text/x-python",
   "name": "python",
   "nbconvert_exporter": "python",
   "pygments_lexer": "ipython3",
   "version": "3.12.9"
  }
 },
 "nbformat": 4,
 "nbformat_minor": 5
}
