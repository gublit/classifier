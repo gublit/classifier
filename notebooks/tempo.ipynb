{
 "cells": [
  {
   "cell_type": "code",
   "execution_count": 11,
   "id": "d22146e6",
   "metadata": {},
   "outputs": [],
   "source": [
    "import polars as pl\n",
    "import pyarrow as pa\n",
    "import pyarrow.dataset as ds\n",
    "from huggingface_hub import HfFileSystem\n",
    "\n",
    "\n",
    "df=pl.read_csv(\"hf://datasets/lhoestq/demo1/data/train.csv\")"
   ]
  },
  {
   "cell_type": "code",
   "execution_count": 2,
   "id": "0413918e",
   "metadata": {},
   "outputs": [
    {
     "data": {
      "text/plain": [
       "<bound method DataFrame.head of shape: (5, 6)\n",
       "┌────────────────────┬───────────────────┬───────────────────┬─────────────────┬──────┬────────────┐\n",
       "│ id                 ┆ package_name      ┆ review            ┆ date            ┆ star ┆ version_id │\n",
       "│ ---                ┆ ---               ┆ ---               ┆ ---             ┆ ---  ┆ ---        │\n",
       "│ str                ┆ str               ┆ str               ┆ str             ┆ i64  ┆ i64        │\n",
       "╞════════════════════╪═══════════════════╪═══════════════════╪═════════════════╪══════╪════════════╡\n",
       "│ 7bd227d9-afc9-11e6 ┆ com.mantz_it.rfan ┆ Great app! The    ┆ October 12 2016 ┆ 4    ┆ 1487       │\n",
       "│ -aba1-c4b301…      ┆ alyzer            ┆ new version now…  ┆                 ┆      ┆            │\n",
       "│ 7bd22905-afc9-11e6 ┆ com.mantz_it.rfan ┆ Great It's not    ┆ August 23 2016  ┆ 4    ┆ 1487       │\n",
       "│ -a5dc-c4b301…      ┆ alyzer            ┆ fully optimised…  ┆                 ┆      ┆            │\n",
       "│ 7bd2299c-afc9-11e6 ┆ com.mantz_it.rfan ┆ Works on a Nexus  ┆ August 04 2016  ┆ 5    ┆ 1487       │\n",
       "│ -85d6-c4b301…      ┆ alyzer            ┆ 6p I'm still …    ┆                 ┆      ┆            │\n",
       "│ 7bd22a26-afc9-11e6 ┆ com.mantz_it.rfan ┆ The bandwidth     ┆ July 25 2016    ┆ 3    ┆ 1487       │\n",
       "│ -9309-c4b301…      ┆ alyzer            ┆ seemed to be lim… ┆                 ┆      ┆            │\n",
       "│ 7bd22aba-afc9-11e6 ┆ com.mantz_it.rfan ┆ Works well with   ┆ July 22 2016    ┆ 5    ┆ 1487       │\n",
       "│ -8293-c4b301…      ┆ alyzer            ┆ my Hackrf Hope…   ┆                 ┆      ┆            │\n",
       "└────────────────────┴───────────────────┴───────────────────┴─────────────────┴──────┴────────────┘>"
      ]
     },
     "execution_count": 2,
     "metadata": {},
     "output_type": "execute_result"
    }
   ],
   "source": [
    "df.head"
   ]
  },
  {
   "cell_type": "code",
   "execution_count": 14,
   "id": "d81b846c",
   "metadata": {},
   "outputs": [
    {
     "data": {
      "text/html": [
       "<div><style>\n",
       ".dataframe > thead > tr,\n",
       ".dataframe > tbody > tr {\n",
       "  text-align: right;\n",
       "  white-space: pre-wrap;\n",
       "}\n",
       "</style>\n",
       "<small>shape: (13, 5)</small><table border=\"1\" class=\"dataframe\"><thead><tr><th>suffix</th><th>date</th><th>tld</th><th>pages</th><th>domains</th></tr><tr><td>str</td><td>date</td><td>str</td><td>i64</td><td>f64</td></tr></thead><tbody><tr><td>&quot;a.se&quot;</td><td>2009-01-12</td><td>&quot;se&quot;</td><td>18</td><td>1.0</td></tr><tr><td>&quot;a.se&quot;</td><td>2010-09-25</td><td>&quot;se&quot;</td><td>3462</td><td>151.0</td></tr><tr><td>&quot;a.se&quot;</td><td>2012-11-02</td><td>&quot;se&quot;</td><td>6957</td><td>150.0</td></tr><tr><td>&quot;a.se&quot;</td><td>2013-05-13</td><td>&quot;se&quot;</td><td>613</td><td>46.0</td></tr><tr><td>&quot;a.se&quot;</td><td>2013-11-25</td><td>&quot;se&quot;</td><td>224</td><td>34.0</td></tr><tr><td>&hellip;</td><td>&hellip;</td><td>&hellip;</td><td>&hellip;</td><td>&hellip;</td></tr><tr><td>&quot;a.se&quot;</td><td>2014-08-25</td><td>&quot;se&quot;</td><td>300</td><td>34.0</td></tr><tr><td>&quot;a.se&quot;</td><td>2014-10-06</td><td>&quot;se&quot;</td><td>297</td><td>34.0</td></tr><tr><td>&quot;a.se&quot;</td><td>2014-10-13</td><td>&quot;se&quot;</td><td>593</td><td>34.0</td></tr><tr><td>&quot;a.se&quot;</td><td>2014-12-01</td><td>&quot;se&quot;</td><td>264</td><td>31.0</td></tr><tr><td>&quot;a.se&quot;</td><td>2014-12-22</td><td>&quot;se&quot;</td><td>188</td><td>null</td></tr></tbody></table></div>"
      ],
      "text/plain": [
       "shape: (13, 5)\n",
       "┌────────┬────────────┬─────┬───────┬─────────┐\n",
       "│ suffix ┆ date       ┆ tld ┆ pages ┆ domains │\n",
       "│ ---    ┆ ---        ┆ --- ┆ ---   ┆ ---     │\n",
       "│ str    ┆ date       ┆ str ┆ i64   ┆ f64     │\n",
       "╞════════╪════════════╪═════╪═══════╪═════════╡\n",
       "│ a.se   ┆ 2009-01-12 ┆ se  ┆ 18    ┆ 1.0     │\n",
       "│ a.se   ┆ 2010-09-25 ┆ se  ┆ 3462  ┆ 151.0   │\n",
       "│ a.se   ┆ 2012-11-02 ┆ se  ┆ 6957  ┆ 150.0   │\n",
       "│ a.se   ┆ 2013-05-13 ┆ se  ┆ 613   ┆ 46.0    │\n",
       "│ a.se   ┆ 2013-11-25 ┆ se  ┆ 224   ┆ 34.0    │\n",
       "│ …      ┆ …          ┆ …   ┆ …     ┆ …       │\n",
       "│ a.se   ┆ 2014-08-25 ┆ se  ┆ 300   ┆ 34.0    │\n",
       "│ a.se   ┆ 2014-10-06 ┆ se  ┆ 297   ┆ 34.0    │\n",
       "│ a.se   ┆ 2014-10-13 ┆ se  ┆ 593   ┆ 34.0    │\n",
       "│ a.se   ┆ 2014-12-01 ┆ se  ┆ 264   ┆ 31.0    │\n",
       "│ a.se   ┆ 2014-12-22 ┆ se  ┆ 188   ┆ null    │\n",
       "└────────┴────────────┴─────┴───────┴─────────┘"
      ]
     },
     "execution_count": 14,
     "metadata": {},
     "output_type": "execute_result"
    }
   ],
   "source": [
    "df1 = pl.read_csv(\n",
    "    \"hf://datasets/commoncrawl/statistics/tlds.csv\",\n",
    "    try_parse_dates=True,\n",
    ")\n",
    "\n",
    "df1.head\n",
    "\n",
    "df1 = df1.select(\"suffix\", \"date\", \"tld\", \"pages\", \"domains\")\n",
    "df1.head(13)"
   ]
  },
  {
   "cell_type": "code",
   "execution_count": 15,
   "id": "19c2c5d2",
   "metadata": {},
   "outputs": [],
   "source": [
    "\n",
    "# Create a Hugging Face filesystem object\n",
    "hf_fs = HfFileSystem()\n",
    "\n",
    "# Define the dataset using the Hugging Face filesystem\n",
    "dataset = ds.dataset(\"datasets/commoncrawl/statistics/tlds.csv\", filesystem=hf_fs, format=\"csv\")\n"
   ]
  },
  {
   "cell_type": "code",
   "execution_count": 16,
   "id": "4ad7a324",
   "metadata": {},
   "outputs": [
    {
     "data": {
      "text/html": [
       "<div><style>\n",
       ".dataframe > thead > tr,\n",
       ".dataframe > tbody > tr {\n",
       "  text-align: right;\n",
       "  white-space: pre-wrap;\n",
       "}\n",
       "</style>\n",
       "<small>shape: (15, 11)</small><table border=\"1\" class=\"dataframe\"><thead><tr><th>column_0</th><th>suffix</th><th>crawl</th><th>date</th><th>type</th><th>subtype</th><th>tld</th><th>pages</th><th>urls</th><th>hosts</th><th>domains</th></tr><tr><td>i64</td><td>str</td><td>str</td><td>date</td><td>str</td><td>str</td><td>str</td><td>i64</td><td>i64</td><td>f64</td><td>f64</td></tr></thead><tbody><tr><td>0</td><td>&quot;a.se&quot;</td><td>&quot;CC-MAIN-2008-2009&quot;</td><td>2009-01-12</td><td>&quot;ccTLD&quot;</td><td>&quot;second-level&quot;</td><td>&quot;se&quot;</td><td>18</td><td>18</td><td>1.0</td><td>1.0</td></tr><tr><td>1</td><td>&quot;a.se&quot;</td><td>&quot;CC-MAIN-2009-2010&quot;</td><td>2010-09-25</td><td>&quot;ccTLD&quot;</td><td>&quot;second-level&quot;</td><td>&quot;se&quot;</td><td>3462</td><td>3259</td><td>166.0</td><td>151.0</td></tr><tr><td>2</td><td>&quot;a.se&quot;</td><td>&quot;CC-MAIN-2012&quot;</td><td>2012-11-02</td><td>&quot;ccTLD&quot;</td><td>&quot;second-level&quot;</td><td>&quot;se&quot;</td><td>6957</td><td>6794</td><td>172.0</td><td>150.0</td></tr><tr><td>3</td><td>&quot;a.se&quot;</td><td>&quot;CC-MAIN-2013-20&quot;</td><td>2013-05-13</td><td>&quot;ccTLD&quot;</td><td>&quot;second-level&quot;</td><td>&quot;se&quot;</td><td>613</td><td>600</td><td>50.0</td><td>46.0</td></tr><tr><td>4</td><td>&quot;a.se&quot;</td><td>&quot;CC-MAIN-2013-48&quot;</td><td>2013-11-25</td><td>&quot;ccTLD&quot;</td><td>&quot;second-level&quot;</td><td>&quot;se&quot;</td><td>224</td><td>222</td><td>35.0</td><td>34.0</td></tr><tr><td>&hellip;</td><td>&hellip;</td><td>&hellip;</td><td>&hellip;</td><td>&hellip;</td><td>&hellip;</td><td>&hellip;</td><td>&hellip;</td><td>&hellip;</td><td>&hellip;</td><td>&hellip;</td></tr><tr><td>10</td><td>&quot;a.se&quot;</td><td>&quot;CC-MAIN-2014-42&quot;</td><td>2014-10-13</td><td>&quot;ccTLD&quot;</td><td>&quot;second-level&quot;</td><td>&quot;se&quot;</td><td>593</td><td>189</td><td>36.0</td><td>34.0</td></tr><tr><td>11</td><td>&quot;a.se&quot;</td><td>&quot;CC-MAIN-2014-49&quot;</td><td>2014-12-01</td><td>&quot;ccTLD&quot;</td><td>&quot;second-level&quot;</td><td>&quot;se&quot;</td><td>264</td><td>167</td><td>32.0</td><td>31.0</td></tr><tr><td>12</td><td>&quot;a.se&quot;</td><td>&quot;CC-MAIN-2014-52&quot;</td><td>2014-12-22</td><td>&quot;ccTLD&quot;</td><td>&quot;second-level&quot;</td><td>&quot;se&quot;</td><td>188</td><td>184</td><td>null</td><td>null</td></tr><tr><td>13</td><td>&quot;a.se&quot;</td><td>&quot;CC-MAIN-2015-06&quot;</td><td>2015-02-02</td><td>&quot;ccTLD&quot;</td><td>&quot;second-level&quot;</td><td>&quot;se&quot;</td><td>182</td><td>180</td><td>null</td><td>null</td></tr><tr><td>14</td><td>&quot;a.se&quot;</td><td>&quot;CC-MAIN-2015-11&quot;</td><td>2015-03-09</td><td>&quot;ccTLD&quot;</td><td>&quot;second-level&quot;</td><td>&quot;se&quot;</td><td>176</td><td>175</td><td>null</td><td>null</td></tr></tbody></table></div>"
      ],
      "text/plain": [
       "shape: (15, 11)\n",
       "┌──────────┬────────┬───────────────────┬────────────┬───┬───────┬──────┬───────┬─────────┐\n",
       "│ column_0 ┆ suffix ┆ crawl             ┆ date       ┆ … ┆ pages ┆ urls ┆ hosts ┆ domains │\n",
       "│ ---      ┆ ---    ┆ ---               ┆ ---        ┆   ┆ ---   ┆ ---  ┆ ---   ┆ ---     │\n",
       "│ i64      ┆ str    ┆ str               ┆ date       ┆   ┆ i64   ┆ i64  ┆ f64   ┆ f64     │\n",
       "╞══════════╪════════╪═══════════════════╪════════════╪═══╪═══════╪══════╪═══════╪═════════╡\n",
       "│ 0        ┆ a.se   ┆ CC-MAIN-2008-2009 ┆ 2009-01-12 ┆ … ┆ 18    ┆ 18   ┆ 1.0   ┆ 1.0     │\n",
       "│ 1        ┆ a.se   ┆ CC-MAIN-2009-2010 ┆ 2010-09-25 ┆ … ┆ 3462  ┆ 3259 ┆ 166.0 ┆ 151.0   │\n",
       "│ 2        ┆ a.se   ┆ CC-MAIN-2012      ┆ 2012-11-02 ┆ … ┆ 6957  ┆ 6794 ┆ 172.0 ┆ 150.0   │\n",
       "│ 3        ┆ a.se   ┆ CC-MAIN-2013-20   ┆ 2013-05-13 ┆ … ┆ 613   ┆ 600  ┆ 50.0  ┆ 46.0    │\n",
       "│ 4        ┆ a.se   ┆ CC-MAIN-2013-48   ┆ 2013-11-25 ┆ … ┆ 224   ┆ 222  ┆ 35.0  ┆ 34.0    │\n",
       "│ …        ┆ …      ┆ …                 ┆ …          ┆ … ┆ …     ┆ …    ┆ …     ┆ …       │\n",
       "│ 10       ┆ a.se   ┆ CC-MAIN-2014-42   ┆ 2014-10-13 ┆ … ┆ 593   ┆ 189  ┆ 36.0  ┆ 34.0    │\n",
       "│ 11       ┆ a.se   ┆ CC-MAIN-2014-49   ┆ 2014-12-01 ┆ … ┆ 264   ┆ 167  ┆ 32.0  ┆ 31.0    │\n",
       "│ 12       ┆ a.se   ┆ CC-MAIN-2014-52   ┆ 2014-12-22 ┆ … ┆ 188   ┆ 184  ┆ null  ┆ null    │\n",
       "│ 13       ┆ a.se   ┆ CC-MAIN-2015-06   ┆ 2015-02-02 ┆ … ┆ 182   ┆ 180  ┆ null  ┆ null    │\n",
       "│ 14       ┆ a.se   ┆ CC-MAIN-2015-11   ┆ 2015-03-09 ┆ … ┆ 176   ┆ 175  ┆ null  ┆ null    │\n",
       "└──────────┴────────┴───────────────────┴────────────┴───┴───────┴──────┴───────┴─────────┘"
      ]
     },
     "execution_count": 16,
     "metadata": {},
     "output_type": "execute_result"
    }
   ],
   "source": [
    "# Read the dataset into a PyArrow Table\n",
    "table = dataset.to_table()\n",
    "# Convert the PyArrow Table to a Polars DataFrame\n",
    "df2 = pl.from_arrow(table)\n",
    "df2.head(15)"
   ]
  },
  {
   "cell_type": "markdown",
   "id": "7d61a263",
   "metadata": {},
   "source": [
    "UCI dataset\n"
   ]
  },
  {
   "cell_type": "code",
   "execution_count": 5,
   "id": "fc783c79",
   "metadata": {},
   "outputs": [
    {
     "data": {
      "text/plain": [
       "OpenML Dataset\n",
       "==============\n",
       "Name.........: albert\n",
       "Version......: 1\n",
       "Format.......: ARFF\n",
       "Upload Date..: 2018-08-15 23:55:47\n",
       "Licence......: Public\n",
       "Download URL.: https://api.openml.org/data/v1/download/19335520/albert.arff\n",
       "OpenML URL...: https://www.openml.org/d/41147\n",
       "# of features: None"
      ]
     },
     "execution_count": 5,
     "metadata": {},
     "output_type": "execute_result"
    }
   ],
   "source": [
    "import openml\n",
    "dataset = openml.datasets.get_dataset(41147)  # Example ID for a large dataset\n",
    "dataset"
   ]
  },
  {
   "cell_type": "code",
   "execution_count": 2,
   "id": "e137161d",
   "metadata": {},
   "outputs": [],
   "source": [
    "from sklearn.datasets import fetch_covtype\n",
    "import polars as pl\n",
    "X, y = fetch_covtype(return_X_y=True)"
   ]
  },
  {
   "cell_type": "code",
   "execution_count": 2,
   "id": "09e658a9",
   "metadata": {},
   "outputs": [
    {
     "data": {
      "text/plain": [
       "((581012, 54), (581012,))"
      ]
     },
     "execution_count": 2,
     "metadata": {},
     "output_type": "execute_result"
    }
   ],
   "source": [
    "X.shape, y.shape"
   ]
  },
  {
   "cell_type": "code",
   "execution_count": 6,
   "id": "ae5f467b",
   "metadata": {},
   "outputs": [
    {
     "data": {
      "text/plain": [
       "<bound method DataFrame.head of shape: (581_012, 54)\n",
       "┌──────────┬──────────┬──────────┬──────────┬───┬───────────┬───────────┬───────────┬───────────┐\n",
       "│ column_0 ┆ column_1 ┆ column_2 ┆ column_3 ┆ … ┆ column_50 ┆ column_51 ┆ column_52 ┆ column_53 │\n",
       "│ ---      ┆ ---      ┆ ---      ┆ ---      ┆   ┆ ---       ┆ ---       ┆ ---       ┆ ---       │\n",
       "│ f64      ┆ f64      ┆ f64      ┆ f64      ┆   ┆ f64       ┆ f64       ┆ f64       ┆ f64       │\n",
       "╞══════════╪══════════╪══════════╪══════════╪═══╪═══════════╪═══════════╪═══════════╪═══════════╡\n",
       "│ 2596.0   ┆ 51.0     ┆ 3.0      ┆ 258.0    ┆ … ┆ 0.0       ┆ 0.0       ┆ 0.0       ┆ 0.0       │\n",
       "│ 2590.0   ┆ 56.0     ┆ 2.0      ┆ 212.0    ┆ … ┆ 0.0       ┆ 0.0       ┆ 0.0       ┆ 0.0       │\n",
       "│ 2804.0   ┆ 139.0    ┆ 9.0      ┆ 268.0    ┆ … ┆ 0.0       ┆ 0.0       ┆ 0.0       ┆ 0.0       │\n",
       "│ 2785.0   ┆ 155.0    ┆ 18.0     ┆ 242.0    ┆ … ┆ 0.0       ┆ 0.0       ┆ 0.0       ┆ 0.0       │\n",
       "│ 2595.0   ┆ 45.0     ┆ 2.0      ┆ 153.0    ┆ … ┆ 0.0       ┆ 0.0       ┆ 0.0       ┆ 0.0       │\n",
       "│ …        ┆ …        ┆ …        ┆ …        ┆ … ┆ …         ┆ …         ┆ …         ┆ …         │\n",
       "│ 2396.0   ┆ 153.0    ┆ 20.0     ┆ 85.0     ┆ … ┆ 0.0       ┆ 0.0       ┆ 0.0       ┆ 0.0       │\n",
       "│ 2391.0   ┆ 152.0    ┆ 19.0     ┆ 67.0     ┆ … ┆ 0.0       ┆ 0.0       ┆ 0.0       ┆ 0.0       │\n",
       "│ 2386.0   ┆ 159.0    ┆ 17.0     ┆ 60.0     ┆ … ┆ 0.0       ┆ 0.0       ┆ 0.0       ┆ 0.0       │\n",
       "│ 2384.0   ┆ 170.0    ┆ 15.0     ┆ 60.0     ┆ … ┆ 0.0       ┆ 0.0       ┆ 0.0       ┆ 0.0       │\n",
       "│ 2383.0   ┆ 165.0    ┆ 13.0     ┆ 60.0     ┆ … ┆ 0.0       ┆ 0.0       ┆ 0.0       ┆ 0.0       │\n",
       "└──────────┴──────────┴──────────┴──────────┴───┴───────────┴───────────┴───────────┴───────────┘>"
      ]
     },
     "execution_count": 6,
     "metadata": {},
     "output_type": "execute_result"
    }
   ],
   "source": [
    "X.view()\n",
    "# Convert to a Polars DataFrame\n",
    "df = pl.DataFrame(X)\n",
    "# Convert to a PyArrow Table\n",
    "\n",
    "df.head"
   ]
  },
  {
   "cell_type": "code",
   "execution_count": null,
   "id": "e9111dac",
   "metadata": {},
   "outputs": [
    {
     "data": {
      "text/plain": [
       "<bound method DataFrame.glimpse of shape: (581_012, 54)\n",
       "┌──────────┬──────────┬──────────┬──────────┬───┬───────────┬───────────┬───────────┬───────────┐\n",
       "│ column_0 ┆ column_1 ┆ column_2 ┆ column_3 ┆ … ┆ column_50 ┆ column_51 ┆ column_52 ┆ column_53 │\n",
       "│ ---      ┆ ---      ┆ ---      ┆ ---      ┆   ┆ ---       ┆ ---       ┆ ---       ┆ ---       │\n",
       "│ f64      ┆ f64      ┆ f64      ┆ f64      ┆   ┆ f64       ┆ f64       ┆ f64       ┆ f64       │\n",
       "╞══════════╪══════════╪══════════╪══════════╪═══╪═══════════╪═══════════╪═══════════╪═══════════╡\n",
       "│ 2596.0   ┆ 51.0     ┆ 3.0      ┆ 258.0    ┆ … ┆ 0.0       ┆ 0.0       ┆ 0.0       ┆ 0.0       │\n",
       "│ 2590.0   ┆ 56.0     ┆ 2.0      ┆ 212.0    ┆ … ┆ 0.0       ┆ 0.0       ┆ 0.0       ┆ 0.0       │\n",
       "│ 2804.0   ┆ 139.0    ┆ 9.0      ┆ 268.0    ┆ … ┆ 0.0       ┆ 0.0       ┆ 0.0       ┆ 0.0       │\n",
       "│ 2785.0   ┆ 155.0    ┆ 18.0     ┆ 242.0    ┆ … ┆ 0.0       ┆ 0.0       ┆ 0.0       ┆ 0.0       │\n",
       "│ 2595.0   ┆ 45.0     ┆ 2.0      ┆ 153.0    ┆ … ┆ 0.0       ┆ 0.0       ┆ 0.0       ┆ 0.0       │\n",
       "│ …        ┆ …        ┆ …        ┆ …        ┆ … ┆ …         ┆ …         ┆ …         ┆ …         │\n",
       "│ 2396.0   ┆ 153.0    ┆ 20.0     ┆ 85.0     ┆ … ┆ 0.0       ┆ 0.0       ┆ 0.0       ┆ 0.0       │\n",
       "│ 2391.0   ┆ 152.0    ┆ 19.0     ┆ 67.0     ┆ … ┆ 0.0       ┆ 0.0       ┆ 0.0       ┆ 0.0       │\n",
       "│ 2386.0   ┆ 159.0    ┆ 17.0     ┆ 60.0     ┆ … ┆ 0.0       ┆ 0.0       ┆ 0.0       ┆ 0.0       │\n",
       "│ 2384.0   ┆ 170.0    ┆ 15.0     ┆ 60.0     ┆ … ┆ 0.0       ┆ 0.0       ┆ 0.0       ┆ 0.0       │\n",
       "│ 2383.0   ┆ 165.0    ┆ 13.0     ┆ 60.0     ┆ … ┆ 0.0       ┆ 0.0       ┆ 0.0       ┆ 0.0       │\n",
       "└──────────┴──────────┴──────────┴──────────┴───┴───────────┴───────────┴───────────┴───────────┘>"
      ]
     },
     "execution_count": 10,
     "metadata": {},
     "output_type": "execute_result"
    }
   ],
   "source": [
    "df."
   ]
  },
  {
   "cell_type": "code",
   "execution_count": 11,
   "id": "1ed16bff",
   "metadata": {},
   "outputs": [
    {
     "name": "stdout",
     "output_type": "stream",
     "text": [
      "{'uci_id': 799, 'name': 'Single Elder Home Monitoring: Gas and Position', 'repository_url': 'https://archive.ics.uci.edu/dataset/799/single+elder+home+monitoring+gas+and+position', 'data_url': 'https://archive.ics.uci.edu/static/public/799/data.csv', 'abstract': 'This dataset contains gas and temperature sensors as well as movement infra-red sensors from the monitoring of an elder person living alone in their own home from 2019-11-06 to 2020-02-13. The measurings have a temporal resolution of 20 seconds. The air and gas sensors measure temperature, humidity, CO2, CO and MOX readings. The data from the position sensors are binary; for each room, a 1 means that movement has been detected in that room while a 0 means that the sensor has gone back to baseline. The attached figure represents a simple layout of the monitored home as well as the sensors locations. The dataset also includes 19 days of measurements (from 2020-01-25 to 2020-02-13) where noone was occupying the room (except for an esporadic visit the 2020-01-29 at 15:), as reference data', 'area': 'Engineering', 'tasks': ['Classification'], 'characteristics': ['Tabular'], 'num_instances': 444631, 'num_features': 10, 'feature_types': ['Real'], 'demographics': [], 'target_col': None, 'index_col': None, 'has_missing_values': 'no', 'missing_values_symbol': None, 'year_of_dataset_creation': 2023, 'last_updated': 'Tue Apr 09 2024', 'dataset_doi': '10.24432/C5762W', 'creators': ['Daniel Marín López', 'Daniel Marín', 'Jordi Fonollosa', 'Joshua Llano', 'Alexandre Perera', 'Zouhair Haddi'], 'intro_paper': {'ID': 200, 'type': 'NATIVE', 'title': 'Home monitoring system based on a gas sensor arrayfor elderly people living alone', 'authors': 'Daniel Marín, Joshua Llano, Zouhair Haddi, Alexandre Perera-Lluna, Jordi Fonollosa', 'venue': 'B2SLab, Departament d’Enginyeria de Sistemes, Automàtica i Informàtica Industrial, Universitat Politècnica de Catalunya, Barcelona, 08028, Spain', 'year': 2023, 'journal': 'Sensors and Actuators B: Chemical', 'DOI': None, 'URL': 'https://www.sciencedirect.com/science/article/pii/S0925400523007517', 'sha': None, 'corpus': None, 'arxiv': None, 'mag': None, 'acl': None, 'pmid': None, 'pmcid': None}, 'additional_info': {'summary': None, 'purpose': 'This dataset was created in order to build a model that could translate the information gathered by a gas array sensor installed in a single elder person living alone into a safety monitoring system. Gas sensors are non-invasive, and with the control data from the movement sensors, the gas data could be used as an indicator of activity anomaly.', 'funded_by': 'The European Commission Program Horizon 2020', 'instances_represent': 'Each instance ir a measure by either the gas and temperature sensors or the movement sensors with its corresponding timestamp.', 'recommended_data_splits': 'The only recommended split is the reference data, which is already provided in a different file.', 'sensitive_data': 'No.', 'preprocessing_description': 'No.', 'variable_info': None, 'citation': 'Please, cite the referenced work when using this dataset.'}}\n",
      "            name     role         type demographic description units  \\\n",
      "0      timestamp  Feature  Categorical        None        None  None   \n",
      "1    temperature  Feature   Continuous        None        None  None   \n",
      "2       humidity  Feature   Continuous        None        None  None   \n",
      "3  CO2CosIRValue  Feature   Continuous        None        None  None   \n",
      "4  CO2MG811Value  Feature   Continuous        None        None  None   \n",
      "5           MOX1  Feature   Continuous        None        None  None   \n",
      "6           MOX2  Feature   Continuous        None        None  None   \n",
      "7           MOX3  Feature   Continuous        None        None  None   \n",
      "8           MOX4  Feature   Continuous        None        None  None   \n",
      "9        COValue  Feature   Continuous        None        None  None   \n",
      "\n",
      "  missing_values  \n",
      "0             no  \n",
      "1             no  \n",
      "2             no  \n",
      "3             no  \n",
      "4             no  \n",
      "5             no  \n",
      "6             no  \n",
      "7             no  \n",
      "8             no  \n",
      "9             no  \n"
     ]
    }
   ],
   "source": [
    "from ucimlrepo import fetch_ucirepo \n",
    "  \n",
    "# fetch dataset \n",
    "single_elder_home_monitoring_gas_and_position = fetch_ucirepo(id=799) \n",
    "  \n",
    "# data (as pandas dataframes) \n",
    "X = single_elder_home_monitoring_gas_and_position.data.features \n",
    "y = single_elder_home_monitoring_gas_and_position.data.targets \n",
    "  \n",
    "# metadata \n",
    "print(single_elder_home_monitoring_gas_and_position.metadata) \n",
    "  \n",
    "# variable information \n",
    "print(single_elder_home_monitoring_gas_and_position.variables) \n"
   ]
  },
  {
   "cell_type": "code",
   "execution_count": 18,
   "id": "3825e90c",
   "metadata": {},
   "outputs": [
    {
     "data": {
      "text/plain": [
       "<bound method DataFrame.items of                                timestamp  temperature  humidity  \\\n",
       "0       2019-11-06 11:37:13.038174+01:00        19.48     54.86   \n",
       "1       2019-11-06 11:37:32.744996+01:00        19.59     54.23   \n",
       "2       2019-11-06 11:37:53.018087+01:00        19.63     54.05   \n",
       "3       2019-11-06 11:38:13.093151+01:00        19.64     53.74   \n",
       "4       2019-11-06 11:38:33.032832+01:00        19.67     53.53   \n",
       "...                                  ...          ...       ...   \n",
       "416148  2020-02-13 11:56:53.929978+01:00        20.62     57.75   \n",
       "416149  2020-02-13 11:57:14.204458+01:00        20.62     57.75   \n",
       "416150  2020-02-13 11:57:33.983249+01:00        20.62     57.75   \n",
       "416151  2020-02-13 11:57:54.058349+01:00        20.62     57.74   \n",
       "416152  2020-02-13 11:58:14.014336+01:00        20.62     57.74   \n",
       "\n",
       "        CO2CosIRValue  CO2MG811Value   MOX1   MOX2   MOX3   MOX4  COValue  \n",
       "0               128.0          563.0  476.0  731.0  649.0  565.0    128.0  \n",
       "1               129.0          563.0  477.0  731.0  649.0  565.0    125.0  \n",
       "2               128.0          566.0  478.0  732.0  649.0  565.0    125.0  \n",
       "3               128.0          566.0  478.0  732.0  649.0  565.0    125.0  \n",
       "4               128.0          569.0  480.0  732.0  650.0  565.0    125.0  \n",
       "...               ...            ...    ...    ...    ...    ...      ...  \n",
       "416148           62.0          518.0  524.0  698.0  642.0  591.0    157.0  \n",
       "416149           62.0          518.0  524.0  698.0  641.0  591.0    157.0  \n",
       "416150           62.0          518.0  524.0  698.0  641.0  591.0    157.0  \n",
       "416151           63.0          518.0  524.0  698.0  641.0  591.0    157.0  \n",
       "416152           63.0          518.0  524.0  698.0  641.0  591.0    157.0  \n",
       "\n",
       "[416153 rows x 10 columns]>"
      ]
     },
     "execution_count": 18,
     "metadata": {},
     "output_type": "execute_result"
    }
   ],
   "source": [
    "X.items"
   ]
  },
  {
   "cell_type": "code",
   "execution_count": 1,
   "id": "589cb7d8",
   "metadata": {},
   "outputs": [
    {
     "data": {
      "text/plain": [
       "[Text(0.5, 0.9166666666666666, 'x[3] <= 0.8\\ngini = 0.667\\nsamples = 150\\nvalue = [50, 50, 50]'),\n",
       " Text(0.4230769230769231, 0.75, 'gini = 0.0\\nsamples = 50\\nvalue = [50, 0, 0]'),\n",
       " Text(0.46153846153846156, 0.8333333333333333, 'True  '),\n",
       " Text(0.5769230769230769, 0.75, 'x[3] <= 1.75\\ngini = 0.5\\nsamples = 100\\nvalue = [0, 50, 50]'),\n",
       " Text(0.5384615384615384, 0.8333333333333333, '  False'),\n",
       " Text(0.3076923076923077, 0.5833333333333334, 'x[2] <= 4.95\\ngini = 0.168\\nsamples = 54\\nvalue = [0, 49, 5]'),\n",
       " Text(0.15384615384615385, 0.4166666666666667, 'x[3] <= 1.65\\ngini = 0.041\\nsamples = 48\\nvalue = [0, 47, 1]'),\n",
       " Text(0.07692307692307693, 0.25, 'gini = 0.0\\nsamples = 47\\nvalue = [0, 47, 0]'),\n",
       " Text(0.23076923076923078, 0.25, 'gini = 0.0\\nsamples = 1\\nvalue = [0, 0, 1]'),\n",
       " Text(0.46153846153846156, 0.4166666666666667, 'x[3] <= 1.55\\ngini = 0.444\\nsamples = 6\\nvalue = [0, 2, 4]'),\n",
       " Text(0.38461538461538464, 0.25, 'gini = 0.0\\nsamples = 3\\nvalue = [0, 0, 3]'),\n",
       " Text(0.5384615384615384, 0.25, 'x[2] <= 5.45\\ngini = 0.444\\nsamples = 3\\nvalue = [0, 2, 1]'),\n",
       " Text(0.46153846153846156, 0.08333333333333333, 'gini = 0.0\\nsamples = 2\\nvalue = [0, 2, 0]'),\n",
       " Text(0.6153846153846154, 0.08333333333333333, 'gini = 0.0\\nsamples = 1\\nvalue = [0, 0, 1]'),\n",
       " Text(0.8461538461538461, 0.5833333333333334, 'x[2] <= 4.85\\ngini = 0.043\\nsamples = 46\\nvalue = [0, 1, 45]'),\n",
       " Text(0.7692307692307693, 0.4166666666666667, 'x[1] <= 3.1\\ngini = 0.444\\nsamples = 3\\nvalue = [0, 1, 2]'),\n",
       " Text(0.6923076923076923, 0.25, 'gini = 0.0\\nsamples = 2\\nvalue = [0, 0, 2]'),\n",
       " Text(0.8461538461538461, 0.25, 'gini = 0.0\\nsamples = 1\\nvalue = [0, 1, 0]'),\n",
       " Text(0.9230769230769231, 0.4166666666666667, 'gini = 0.0\\nsamples = 43\\nvalue = [0, 0, 43]')]"
      ]
     },
     "execution_count": 1,
     "metadata": {},
     "output_type": "execute_result"
    },
    {
     "data": {
      "image/png": "[encoded data removed]",
      "text/plain": [
       "<Figure size 640x480 with 1 Axes>"
      ]
     },
     "metadata": {},
     "output_type": "display_data"
    }
   ],
   "source": [
    "from sklearn.datasets import load_iris\n",
    "from sklearn import tree\n",
    "clf = tree.DecisionTreeClassifier(random_state=0)\n",
    "iris = load_iris()\n",
    "clf = clf.fit(iris.data, iris.target)\n",
    "tree.plot_tree(clf)"
   ]
  },
  {
   "cell_type": "code",
   "execution_count": 114,
   "id": "f6489599",
   "metadata": {},
   "outputs": [
    {
     "name": "stderr",
     "output_type": "stream",
     "text": [
      "Updating and loading repositories:\n",
      " pgadmin4                               100% |   3.3 KiB/s |   3.8 KiB |  00m01s\n",
      ">>> Librepo error: repomd.xml GPG signature verification error: Signing key not \n",
      " PostgreSQL common RPMs for Fedora 42 - 100% |   2.5 KiB/s |   3.7 KiB |  00m01s\n",
      ">>> Librepo error: repomd.xml GPG signature verification error: Signing key not \n",
      " LibreWolf Software Repository          100% |   1.5 KiB/s |   3.8 KiB |  00m03s\n",
      ">>> Librepo error: repomd.xml GPG signature verification error: Signing key not \n",
      " PostgreSQL 16 for Fedora 42 - x86_64   100% |   4.7 KiB/s |   4.1 KiB |  00m01s\n",
      ">>> Librepo error: repomd.xml GPG signature verification error: Signing key not \n",
      " https://rpm.librewolf.net/pubkey.gpg   100% |  11.6 KiB/s |   6.8 KiB |  00m01s\n",
      " pgadmin4                               100% |   3.6 KiB/s |   3.8 KiB |  00m01s\n",
      ">>> Librepo error: repomd.xml GPG signature verification error: Signing key not \n",
      " PostgreSQL common RPMs for Fedora 42 - 100% |   5.6 KiB/s |   3.7 KiB |  00m01s\n",
      ">>> Librepo error: repomd.xml GPG signature verification error: Signing key not \n",
      " LibreWolf Software Repository          100% |   2.5 KiB/s |   3.8 KiB |  00m02s\n",
      ">>> Librepo error: repomd.xml GPG signature verification error: Signing key not \n",
      " PostgreSQL 16 for Fedora 42 - x86_64   100% |   7.1 KiB/s |   4.1 KiB |  00m01s\n",
      ">>> Librepo error: repomd.xml GPG signature verification error: Signing key not \n",
      "Repositories loaded.\n",
      "Problem 1: installed package libheif-freeworld-1.19.7-1.fc42.x86_64 requires libheif(x86-64) = 1.19.7, but none of the providers can be installed\n",
      "  - cannot install both libheif-1.19.8-1.fc42.x86_64 from updates and libheif-1.19.7-1.fc42.x86_64 from @System\n",
      "  - cannot install both libheif-1.19.7-1.fc42.x86_64 from fedora and libheif-1.19.8-1.fc42.x86_64 from updates\n",
      "  - cannot install the best update candidate for package libheif-freeworld-1.19.7-1.fc42.x86_64\n",
      "  - cannot install the best update candidate for package libheif-1.19.7-1.fc42.x86_64\n",
      " Problem 2: installed package telegram-desktop-5.13.1-1.fc42.x86_64 requires libQt6Core.so.6(Qt_6.8_PRIVATE_API)(64bit), but none of the providers can be installed\n",
      "  - cannot install both qt6-qtbase-6.9.0-2.fc42.x86_64 from updates and qt6-qtbase-6.8.2-3.fc42.x86_64 from @System\n",
      "  - cannot install both qt6-qtbase-6.8.2-3.fc42.x86_64 from fedora and qt6-qtbase-6.9.0-2.fc42.x86_64 from updates\n",
      "  - cannot install the best update candidate for package telegram-desktop-5.13.1-1.fc42.x86_64\n",
      "  - cannot install the best update candidate for package qt6-qtbase-6.8.2-3.fc42.x86_64\n",
      " Problem 3: problem with installed package\n",
      "  - installed package telegram-desktop-5.13.1-1.fc42.x86_64 requires libQt6Gui.so.6(Qt_6.8_PRIVATE_API)(64bit), but none of the providers can be installed\n",
      "  - installed package telegram-desktop-5.13.1-1.fc42.x86_64 requires libQt6Widgets.so.6(Qt_6.8_PRIVATE_API)(64bit), but none of the providers can be installed\n",
      "  - package telegram-desktop-5.13.1-1.fc42.x86_64 from rpmfusion-free requires libQt6Gui.so.6(Qt_6.8_PRIVATE_API)(64bit), but none of the providers can be installed\n",
      "  - package telegram-desktop-5.13.1-1.fc42.x86_64 from rpmfusion-free requires libQt6Widgets.so.6(Qt_6.8_PRIVATE_API)(64bit), but none of the providers can be installed\n",
      "  - cannot install both qt6-qtbase-gui-6.9.0-2.fc42.x86_64 from updates and qt6-qtbase-gui-6.8.2-3.fc42.x86_64 from @System\n",
      "  - cannot install both qt6-qtbase-gui-6.8.2-3.fc42.x86_64 from fedora and qt6-qtbase-gui-6.9.0-2.fc42.x86_64 from updates\n",
      "  - cannot install the best update candidate for package qt6-qtbase-gui-6.8.2-3.fc42.x86_64\n",
      "\n"
     ]
    },
    {
     "name": "stdout",
     "output_type": "stream",
     "text": [
      "Package           Arch   Version       Repository          Size\n",
      "Skipping packages with conflicts:\n",
      " libheif          x86_64 1.19.8-1.fc42 updates          1.3 MiB\n",
      " qt6-qtbase       x86_64 6.9.0-2.fc42  updates         12.8 MiB\n",
      " qt6-qtbase-gui   x86_64 6.9.0-2.fc42  updates         23.6 MiB\n",
      "Skipping packages with broken dependencies:\n",
      " telegram-desktop x86_64 5.13.1-1.fc42 rpmfusion-free 104.4 MiB\n",
      "\n",
      "Nothing to do.\n"
     ]
    }
   ],
   "source": [
    "%%bash\n",
    "dnf upgrade --refresh --assumeno"
   ]
  },
  {
   "cell_type": "code",
   "execution_count": 19,
   "id": "e50ecd52",
   "metadata": {},
   "outputs": [
    {
     "name": "stdout",
     "output_type": "stream",
     "text": [
      "244 ns ± 7.49 ns per loop (mean ± std. dev. of 7 runs, 1,000,000 loops each)\n"
     ]
    }
   ],
   "source": [
    "%%timeit\n",
    "import pandas as pd\n",
    "import polars as pl"
   ]
  },
  {
   "cell_type": "code",
   "execution_count": 115,
   "id": "59b8ba17",
   "metadata": {},
   "outputs": [
    {
     "data": {
      "text/html": [
       "<div>\n",
       "<style scoped>\n",
       "    .dataframe tbody tr th:only-of-type {\n",
       "        vertical-align: middle;\n",
       "    }\n",
       "\n",
       "    .dataframe tbody tr th {\n",
       "        vertical-align: top;\n",
       "    }\n",
       "\n",
       "    .dataframe thead th {\n",
       "        text-align: right;\n",
       "    }\n",
       "</style>\n",
       "<table border=\"1\" class=\"dataframe\">\n",
       "  <thead>\n",
       "    <tr style=\"text-align: right;\">\n",
       "      <th></th>\n",
       "      <th>age</th>\n",
       "      <th>job</th>\n",
       "      <th>marital</th>\n",
       "      <th>education</th>\n",
       "      <th>default</th>\n",
       "      <th>balance</th>\n",
       "      <th>housing</th>\n",
       "      <th>loan</th>\n",
       "      <th>contact</th>\n",
       "      <th>day</th>\n",
       "      <th>month</th>\n",
       "      <th>duration</th>\n",
       "      <th>campaign</th>\n",
       "      <th>pdays</th>\n",
       "      <th>previous</th>\n",
       "      <th>poutcome</th>\n",
       "      <th>y</th>\n",
       "    </tr>\n",
       "  </thead>\n",
       "  <tbody>\n",
       "    <tr>\n",
       "      <th>0</th>\n",
       "      <td>58</td>\n",
       "      <td>management</td>\n",
       "      <td>married</td>\n",
       "      <td>tertiary</td>\n",
       "      <td>no</td>\n",
       "      <td>2143</td>\n",
       "      <td>yes</td>\n",
       "      <td>no</td>\n",
       "      <td>unknown</td>\n",
       "      <td>5</td>\n",
       "      <td>may</td>\n",
       "      <td>261</td>\n",
       "      <td>1</td>\n",
       "      <td>-1</td>\n",
       "      <td>0</td>\n",
       "      <td>unknown</td>\n",
       "      <td>no</td>\n",
       "    </tr>\n",
       "    <tr>\n",
       "      <th>1</th>\n",
       "      <td>44</td>\n",
       "      <td>technician</td>\n",
       "      <td>single</td>\n",
       "      <td>secondary</td>\n",
       "      <td>no</td>\n",
       "      <td>29</td>\n",
       "      <td>yes</td>\n",
       "      <td>no</td>\n",
       "      <td>unknown</td>\n",
       "      <td>5</td>\n",
       "      <td>may</td>\n",
       "      <td>151</td>\n",
       "      <td>1</td>\n",
       "      <td>-1</td>\n",
       "      <td>0</td>\n",
       "      <td>unknown</td>\n",
       "      <td>no</td>\n",
       "    </tr>\n",
       "    <tr>\n",
       "      <th>2</th>\n",
       "      <td>33</td>\n",
       "      <td>entrepreneur</td>\n",
       "      <td>married</td>\n",
       "      <td>secondary</td>\n",
       "      <td>no</td>\n",
       "      <td>2</td>\n",
       "      <td>yes</td>\n",
       "      <td>yes</td>\n",
       "      <td>unknown</td>\n",
       "      <td>5</td>\n",
       "      <td>may</td>\n",
       "      <td>76</td>\n",
       "      <td>1</td>\n",
       "      <td>-1</td>\n",
       "      <td>0</td>\n",
       "      <td>unknown</td>\n",
       "      <td>no</td>\n",
       "    </tr>\n",
       "    <tr>\n",
       "      <th>3</th>\n",
       "      <td>47</td>\n",
       "      <td>blue-collar</td>\n",
       "      <td>married</td>\n",
       "      <td>unknown</td>\n",
       "      <td>no</td>\n",
       "      <td>1506</td>\n",
       "      <td>yes</td>\n",
       "      <td>no</td>\n",
       "      <td>unknown</td>\n",
       "      <td>5</td>\n",
       "      <td>may</td>\n",
       "      <td>92</td>\n",
       "      <td>1</td>\n",
       "      <td>-1</td>\n",
       "      <td>0</td>\n",
       "      <td>unknown</td>\n",
       "      <td>no</td>\n",
       "    </tr>\n",
       "    <tr>\n",
       "      <th>4</th>\n",
       "      <td>33</td>\n",
       "      <td>unknown</td>\n",
       "      <td>single</td>\n",
       "      <td>unknown</td>\n",
       "      <td>no</td>\n",
       "      <td>1</td>\n",
       "      <td>no</td>\n",
       "      <td>no</td>\n",
       "      <td>unknown</td>\n",
       "      <td>5</td>\n",
       "      <td>may</td>\n",
       "      <td>198</td>\n",
       "      <td>1</td>\n",
       "      <td>-1</td>\n",
       "      <td>0</td>\n",
       "      <td>unknown</td>\n",
       "      <td>no</td>\n",
       "    </tr>\n",
       "    <tr>\n",
       "      <th>...</th>\n",
       "      <td>...</td>\n",
       "      <td>...</td>\n",
       "      <td>...</td>\n",
       "      <td>...</td>\n",
       "      <td>...</td>\n",
       "      <td>...</td>\n",
       "      <td>...</td>\n",
       "      <td>...</td>\n",
       "      <td>...</td>\n",
       "      <td>...</td>\n",
       "      <td>...</td>\n",
       "      <td>...</td>\n",
       "      <td>...</td>\n",
       "      <td>...</td>\n",
       "      <td>...</td>\n",
       "      <td>...</td>\n",
       "      <td>...</td>\n",
       "    </tr>\n",
       "    <tr>\n",
       "      <th>45206</th>\n",
       "      <td>51</td>\n",
       "      <td>technician</td>\n",
       "      <td>married</td>\n",
       "      <td>tertiary</td>\n",
       "      <td>no</td>\n",
       "      <td>825</td>\n",
       "      <td>no</td>\n",
       "      <td>no</td>\n",
       "      <td>cellular</td>\n",
       "      <td>17</td>\n",
       "      <td>nov</td>\n",
       "      <td>977</td>\n",
       "      <td>3</td>\n",
       "      <td>-1</td>\n",
       "      <td>0</td>\n",
       "      <td>unknown</td>\n",
       "      <td>yes</td>\n",
       "    </tr>\n",
       "    <tr>\n",
       "      <th>45207</th>\n",
       "      <td>71</td>\n",
       "      <td>retired</td>\n",
       "      <td>divorced</td>\n",
       "      <td>primary</td>\n",
       "      <td>no</td>\n",
       "      <td>1729</td>\n",
       "      <td>no</td>\n",
       "      <td>no</td>\n",
       "      <td>cellular</td>\n",
       "      <td>17</td>\n",
       "      <td>nov</td>\n",
       "      <td>456</td>\n",
       "      <td>2</td>\n",
       "      <td>-1</td>\n",
       "      <td>0</td>\n",
       "      <td>unknown</td>\n",
       "      <td>yes</td>\n",
       "    </tr>\n",
       "    <tr>\n",
       "      <th>45208</th>\n",
       "      <td>72</td>\n",
       "      <td>retired</td>\n",
       "      <td>married</td>\n",
       "      <td>secondary</td>\n",
       "      <td>no</td>\n",
       "      <td>5715</td>\n",
       "      <td>no</td>\n",
       "      <td>no</td>\n",
       "      <td>cellular</td>\n",
       "      <td>17</td>\n",
       "      <td>nov</td>\n",
       "      <td>1127</td>\n",
       "      <td>5</td>\n",
       "      <td>184</td>\n",
       "      <td>3</td>\n",
       "      <td>success</td>\n",
       "      <td>yes</td>\n",
       "    </tr>\n",
       "    <tr>\n",
       "      <th>45209</th>\n",
       "      <td>57</td>\n",
       "      <td>blue-collar</td>\n",
       "      <td>married</td>\n",
       "      <td>secondary</td>\n",
       "      <td>no</td>\n",
       "      <td>668</td>\n",
       "      <td>no</td>\n",
       "      <td>no</td>\n",
       "      <td>telephone</td>\n",
       "      <td>17</td>\n",
       "      <td>nov</td>\n",
       "      <td>508</td>\n",
       "      <td>4</td>\n",
       "      <td>-1</td>\n",
       "      <td>0</td>\n",
       "      <td>unknown</td>\n",
       "      <td>no</td>\n",
       "    </tr>\n",
       "    <tr>\n",
       "      <th>45210</th>\n",
       "      <td>37</td>\n",
       "      <td>entrepreneur</td>\n",
       "      <td>married</td>\n",
       "      <td>secondary</td>\n",
       "      <td>no</td>\n",
       "      <td>2971</td>\n",
       "      <td>no</td>\n",
       "      <td>no</td>\n",
       "      <td>cellular</td>\n",
       "      <td>17</td>\n",
       "      <td>nov</td>\n",
       "      <td>361</td>\n",
       "      <td>2</td>\n",
       "      <td>188</td>\n",
       "      <td>11</td>\n",
       "      <td>other</td>\n",
       "      <td>no</td>\n",
       "    </tr>\n",
       "  </tbody>\n",
       "</table>\n",
       "<p>45211 rows × 17 columns</p>\n",
       "</div>"
      ],
      "text/plain": [
       "       age           job   marital  education default  balance housing loan  \\\n",
       "0       58    management   married   tertiary      no     2143     yes   no   \n",
       "1       44    technician    single  secondary      no       29     yes   no   \n",
       "2       33  entrepreneur   married  secondary      no        2     yes  yes   \n",
       "3       47   blue-collar   married    unknown      no     1506     yes   no   \n",
       "4       33       unknown    single    unknown      no        1      no   no   \n",
       "...    ...           ...       ...        ...     ...      ...     ...  ...   \n",
       "45206   51    technician   married   tertiary      no      825      no   no   \n",
       "45207   71       retired  divorced    primary      no     1729      no   no   \n",
       "45208   72       retired   married  secondary      no     5715      no   no   \n",
       "45209   57   blue-collar   married  secondary      no      668      no   no   \n",
       "45210   37  entrepreneur   married  secondary      no     2971      no   no   \n",
       "\n",
       "         contact  day month  duration  campaign  pdays  previous poutcome    y  \n",
       "0        unknown    5   may       261         1     -1         0  unknown   no  \n",
       "1        unknown    5   may       151         1     -1         0  unknown   no  \n",
       "2        unknown    5   may        76         1     -1         0  unknown   no  \n",
       "3        unknown    5   may        92         1     -1         0  unknown   no  \n",
       "4        unknown    5   may       198         1     -1         0  unknown   no  \n",
       "...          ...  ...   ...       ...       ...    ...       ...      ...  ...  \n",
       "45206   cellular   17   nov       977         3     -1         0  unknown  yes  \n",
       "45207   cellular   17   nov       456         2     -1         0  unknown  yes  \n",
       "45208   cellular   17   nov      1127         5    184         3  success  yes  \n",
       "45209  telephone   17   nov       508         4     -1         0  unknown   no  \n",
       "45210   cellular   17   nov       361         2    188        11    other   no  \n",
       "\n",
       "[45211 rows x 17 columns]"
      ]
     },
     "execution_count": 115,
     "metadata": {},
     "output_type": "execute_result"
    }
   ],
   "source": [
    "df=pd.read_csv('/home/tisinr/MEGA/Dev/models/classifier/dataset/bank-full.csv',header=0, sep=';')\n",
    "df"
   ]
  },
  {
   "cell_type": "code",
   "execution_count": 116,
   "id": "c86f07db",
   "metadata": {},
   "outputs": [
    {
     "data": {
      "text/plain": [
       "age          0\n",
       "job          0\n",
       "marital      0\n",
       "education    0\n",
       "default      0\n",
       "balance      0\n",
       "housing      0\n",
       "loan         0\n",
       "contact      0\n",
       "day          0\n",
       "month        0\n",
       "duration     0\n",
       "campaign     0\n",
       "pdays        0\n",
       "previous     0\n",
       "poutcome     0\n",
       "y            0\n",
       "dtype: int64"
      ]
     },
     "execution_count": 116,
     "metadata": {},
     "output_type": "execute_result"
    }
   ],
   "source": [
    "df.isnull().sum()\n",
    "df.isna().sum()"
   ]
  },
  {
   "cell_type": "code",
   "execution_count": 68,
   "id": "cdad2029",
   "metadata": {},
   "outputs": [
    {
     "name": "stdout",
     "output_type": "stream",
     "text": [
      "{'uci_id': 222, 'name': 'Bank Marketing', 'repository_url': 'https://archive.ics.uci.edu/dataset/222/bank+marketing', 'data_url': 'https://archive.ics.uci.edu/static/public/222/data.csv', 'abstract': 'The data is related with direct marketing campaigns (phone calls) of a Portuguese banking institution. The classification goal is to predict if the client will subscribe a term deposit (variable y).', 'area': 'Business', 'tasks': ['Classification'], 'characteristics': ['Multivariate'], 'num_instances': 45211, 'num_features': 16, 'feature_types': ['Categorical', 'Integer'], 'demographics': ['Age', 'Occupation', 'Marital Status', 'Education Level'], 'target_col': ['y'], 'index_col': None, 'has_missing_values': 'yes', 'missing_values_symbol': 'NaN', 'year_of_dataset_creation': 2014, 'last_updated': 'Fri Aug 18 2023', 'dataset_doi': '10.24432/C5K306', 'creators': ['S. Moro', 'P. Rita', 'P. Cortez'], 'intro_paper': {'ID': 277, 'type': 'NATIVE', 'title': 'A data-driven approach to predict the success of bank telemarketing', 'authors': 'Sérgio Moro, P. Cortez, P. Rita', 'venue': 'Decision Support Systems', 'year': 2014, 'journal': None, 'DOI': '10.1016/j.dss.2014.03.001', 'URL': 'https://www.semanticscholar.org/paper/cab86052882d126d43f72108c6cb41b295cc8a9e', 'sha': None, 'corpus': None, 'arxiv': None, 'mag': None, 'acl': None, 'pmid': None, 'pmcid': None}, 'additional_info': {'summary': \"The data is related with direct marketing campaigns of a Portuguese banking institution. The marketing campaigns were based on phone calls. Often, more than one contact to the same client was required, in order to access if the product (bank term deposit) would be ('yes') or not ('no') subscribed. \\n\\nThere are four datasets: \\n1) bank-additional-full.csv with all examples (41188) and 20 inputs, ordered by date (from May 2008 to November 2010), very close to the data analyzed in [Moro et al., 2014]\\n2) bank-additional.csv with 10% of the examples (4119), randomly selected from 1), and 20 inputs.\\n3) bank-full.csv with all examples and 17 inputs, ordered by date (older version of this dataset with less inputs). \\n4) bank.csv with 10% of the examples and 17 inputs, randomly selected from 3 (older version of this dataset with less inputs). \\nThe smallest datasets are provided to test more computationally demanding machine learning algorithms (e.g., SVM). \\n\\nThe classification goal is to predict if the client will subscribe (yes/no) a term deposit (variable y).\", 'purpose': None, 'funded_by': None, 'instances_represent': None, 'recommended_data_splits': None, 'sensitive_data': None, 'preprocessing_description': None, 'variable_info': 'Input variables:\\n   # bank client data:\\n   1 - age (numeric)\\n   2 - job : type of job (categorical: \"admin.\",\"unknown\",\"unemployed\",\"management\",\"housemaid\",\"entrepreneur\",\"student\",\\n                                       \"blue-collar\",\"self-employed\",\"retired\",\"technician\",\"services\") \\n   3 - marital : marital status (categorical: \"married\",\"divorced\",\"single\"; note: \"divorced\" means divorced or widowed)\\n   4 - education (categorical: \"unknown\",\"secondary\",\"primary\",\"tertiary\")\\n   5 - default: has credit in default? (binary: \"yes\",\"no\")\\n   6 - balance: average yearly balance, in euros (numeric) \\n   7 - housing: has housing loan? (binary: \"yes\",\"no\")\\n   8 - loan: has personal loan? (binary: \"yes\",\"no\")\\n   # related with the last contact of the current campaign:\\n   9 - contact: contact communication type (categorical: \"unknown\",\"telephone\",\"cellular\") \\n  10 - day: last contact day of the month (numeric)\\n  11 - month: last contact month of year (categorical: \"jan\", \"feb\", \"mar\", ..., \"nov\", \"dec\")\\n  12 - duration: last contact duration, in seconds (numeric)\\n   # other attributes:\\n  13 - campaign: number of contacts performed during this campaign and for this client (numeric, includes last contact)\\n  14 - pdays: number of days that passed by after the client was last contacted from a previous campaign (numeric, -1 means client was not previously contacted)\\n  15 - previous: number of contacts performed before this campaign and for this client (numeric)\\n  16 - poutcome: outcome of the previous marketing campaign (categorical: \"unknown\",\"other\",\"failure\",\"success\")\\n\\n  Output variable (desired target):\\n  17 - y - has the client subscribed a term deposit? (binary: \"yes\",\"no\")\\n', 'citation': None}}\n",
      "           name     role         type      demographic  \\\n",
      "0           age  Feature      Integer              Age   \n",
      "1           job  Feature  Categorical       Occupation   \n",
      "2       marital  Feature  Categorical   Marital Status   \n",
      "3     education  Feature  Categorical  Education Level   \n",
      "4       default  Feature       Binary             None   \n",
      "5       balance  Feature      Integer             None   \n",
      "6       housing  Feature       Binary             None   \n",
      "7          loan  Feature       Binary             None   \n",
      "8       contact  Feature  Categorical             None   \n",
      "9   day_of_week  Feature         Date             None   \n",
      "10        month  Feature         Date             None   \n",
      "11     duration  Feature      Integer             None   \n",
      "12     campaign  Feature      Integer             None   \n",
      "13        pdays  Feature      Integer             None   \n",
      "14     previous  Feature      Integer             None   \n",
      "15     poutcome  Feature  Categorical             None   \n",
      "16            y   Target       Binary             None   \n",
      "\n",
      "                                          description  units missing_values  \n",
      "0                                                None   None             no  \n",
      "1   type of job (categorical: 'admin.','blue-colla...   None             no  \n",
      "2   marital status (categorical: 'divorced','marri...   None             no  \n",
      "3   (categorical: 'basic.4y','basic.6y','basic.9y'...   None             no  \n",
      "4                              has credit in default?   None             no  \n",
      "5                              average yearly balance  euros             no  \n",
      "6                                   has housing loan?   None             no  \n",
      "7                                  has personal loan?   None             no  \n",
      "8   contact communication type (categorical: 'cell...   None            yes  \n",
      "9                        last contact day of the week   None             no  \n",
      "10  last contact month of year (categorical: 'jan'...   None             no  \n",
      "11   last contact duration, in seconds (numeric). ...   None             no  \n",
      "12  number of contacts performed during this campa...   None             no  \n",
      "13  number of days that passed by after the client...   None            yes  \n",
      "14  number of contacts performed before this campa...   None             no  \n",
      "15  outcome of the previous marketing campaign (ca...   None            yes  \n",
      "16          has the client subscribed a term deposit?   None             no  \n"
     ]
    }
   ],
   "source": [
    "from ucimlrepo import fetch_ucirepo \n",
    "  \n",
    "# fetch dataset \n",
    "bank_marketing = fetch_ucirepo(id=222) \n",
    "  \n",
    "# data (as pandas dataframes) \n",
    "X = bank_marketing.data.features \n",
    "y = bank_marketing.data.targets \n",
    "  \n",
    "# metadata \n",
    "print(bank_marketing.metadata) \n",
    "  \n",
    "# variable information \n",
    "print(bank_marketing.variables) \n"
   ]
  },
  {
   "cell_type": "code",
   "execution_count": 117,
   "id": "1ca69944",
   "metadata": {},
   "outputs": [
    {
     "data": {
      "text/plain": [
       "(45211, 16)"
      ]
     },
     "execution_count": 117,
     "metadata": {},
     "output_type": "execute_result"
    }
   ],
   "source": [
    "X.shape"
   ]
  },
  {
   "cell_type": "code",
   "execution_count": 118,
   "id": "d7b1cd5c",
   "metadata": {},
   "outputs": [
    {
     "data": {
      "text/plain": [
       "age                0\n",
       "job              288\n",
       "marital            0\n",
       "education       1857\n",
       "default            0\n",
       "balance            0\n",
       "housing            0\n",
       "loan               0\n",
       "contact        13020\n",
       "day_of_week        0\n",
       "month              0\n",
       "duration           0\n",
       "campaign           0\n",
       "pdays              0\n",
       "previous           0\n",
       "poutcome       36959\n",
       "dtype: int64"
      ]
     },
     "execution_count": 118,
     "metadata": {},
     "output_type": "execute_result"
    }
   ],
   "source": [
    "#X.isna().sum()\n",
    "X.isnull().sum()"
   ]
  }
 ],
 "metadata": {
  "kernelspec": {
   "display_name": "huf",
   "language": "python",
   "name": "python3"
  },
  "language_info": {
   "codemirror_mode": {
    "name": "ipython",
    "version": 3
   },
   "file_extension": ".py",
   "mimetype": "text/x-python",
   "name": "python",
   "nbconvert_exporter": "python",
   "pygments_lexer": "ipython3",
   "version": "3.12.9"
  }
 },
 "nbformat": 4,
 "nbformat_minor": 5
}
