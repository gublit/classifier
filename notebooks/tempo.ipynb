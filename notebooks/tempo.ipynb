{
 "cells": [
  {
   "cell_type": "code",
   "execution_count": 11,
   "id": "d22146e6",
   "metadata": {},
   "outputs": [],
   "source": [
    "import polars as pl\n",
    "import pyarrow as pa\n",
    "import pyarrow.dataset as ds\n",
    "from huggingface_hub import HfFileSystem\n",
    "\n",
    "\n",
    "df=pl.read_csv(\"hf://datasets/lhoestq/demo1/data/train.csv\")"
   ]
  },
  {
   "cell_type": "code",
   "execution_count": 2,
   "id": "0413918e",
   "metadata": {},
   "outputs": [
    {
     "data": {
      "text/plain": [
       "<bound method DataFrame.head of shape: (5, 6)\n",
       "┌────────────────────┬───────────────────┬───────────────────┬─────────────────┬──────┬────────────┐\n",
       "│ id                 ┆ package_name      ┆ review            ┆ date            ┆ star ┆ version_id │\n",
       "│ ---                ┆ ---               ┆ ---               ┆ ---             ┆ ---  ┆ ---        │\n",
       "│ str                ┆ str               ┆ str               ┆ str             ┆ i64  ┆ i64        │\n",
       "╞════════════════════╪═══════════════════╪═══════════════════╪═════════════════╪══════╪════════════╡\n",
       "│ 7bd227d9-afc9-11e6 ┆ com.mantz_it.rfan ┆ Great app! The    ┆ October 12 2016 ┆ 4    ┆ 1487       │\n",
       "│ -aba1-c4b301…      ┆ alyzer            ┆ new version now…  ┆                 ┆      ┆            │\n",
       "│ 7bd22905-afc9-11e6 ┆ com.mantz_it.rfan ┆ Great It's not    ┆ August 23 2016  ┆ 4    ┆ 1487       │\n",
       "│ -a5dc-c4b301…      ┆ alyzer            ┆ fully optimised…  ┆                 ┆      ┆            │\n",
       "│ 7bd2299c-afc9-11e6 ┆ com.mantz_it.rfan ┆ Works on a Nexus  ┆ August 04 2016  ┆ 5    ┆ 1487       │\n",
       "│ -85d6-c4b301…      ┆ alyzer            ┆ 6p I'm still …    ┆                 ┆      ┆            │\n",
       "│ 7bd22a26-afc9-11e6 ┆ com.mantz_it.rfan ┆ The bandwidth     ┆ July 25 2016    ┆ 3    ┆ 1487       │\n",
       "│ -9309-c4b301…      ┆ alyzer            ┆ seemed to be lim… ┆                 ┆      ┆            │\n",
       "│ 7bd22aba-afc9-11e6 ┆ com.mantz_it.rfan ┆ Works well with   ┆ July 22 2016    ┆ 5    ┆ 1487       │\n",
       "│ -8293-c4b301…      ┆ alyzer            ┆ my Hackrf Hope…   ┆                 ┆      ┆            │\n",
       "└────────────────────┴───────────────────┴───────────────────┴─────────────────┴──────┴────────────┘>"
      ]
     },
     "execution_count": 2,
     "metadata": {},
     "output_type": "execute_result"
    }
   ],
   "source": [
    "df.head"
   ]
  },
  {
   "cell_type": "code",
   "execution_count": 14,
   "id": "d81b846c",
   "metadata": {},
   "outputs": [
    {
     "data": {
      "text/html": [
       "<div><style>\n",
       ".dataframe > thead > tr,\n",
       ".dataframe > tbody > tr {\n",
       "  text-align: right;\n",
       "  white-space: pre-wrap;\n",
       "}\n",
       "</style>\n",
       "<small>shape: (13, 5)</small><table border=\"1\" class=\"dataframe\"><thead><tr><th>suffix</th><th>date</th><th>tld</th><th>pages</th><th>domains</th></tr><tr><td>str</td><td>date</td><td>str</td><td>i64</td><td>f64</td></tr></thead><tbody><tr><td>&quot;a.se&quot;</td><td>2009-01-12</td><td>&quot;se&quot;</td><td>18</td><td>1.0</td></tr><tr><td>&quot;a.se&quot;</td><td>2010-09-25</td><td>&quot;se&quot;</td><td>3462</td><td>151.0</td></tr><tr><td>&quot;a.se&quot;</td><td>2012-11-02</td><td>&quot;se&quot;</td><td>6957</td><td>150.0</td></tr><tr><td>&quot;a.se&quot;</td><td>2013-05-13</td><td>&quot;se&quot;</td><td>613</td><td>46.0</td></tr><tr><td>&quot;a.se&quot;</td><td>2013-11-25</td><td>&quot;se&quot;</td><td>224</td><td>34.0</td></tr><tr><td>&hellip;</td><td>&hellip;</td><td>&hellip;</td><td>&hellip;</td><td>&hellip;</td></tr><tr><td>&quot;a.se&quot;</td><td>2014-08-25</td><td>&quot;se&quot;</td><td>300</td><td>34.0</td></tr><tr><td>&quot;a.se&quot;</td><td>2014-10-06</td><td>&quot;se&quot;</td><td>297</td><td>34.0</td></tr><tr><td>&quot;a.se&quot;</td><td>2014-10-13</td><td>&quot;se&quot;</td><td>593</td><td>34.0</td></tr><tr><td>&quot;a.se&quot;</td><td>2014-12-01</td><td>&quot;se&quot;</td><td>264</td><td>31.0</td></tr><tr><td>&quot;a.se&quot;</td><td>2014-12-22</td><td>&quot;se&quot;</td><td>188</td><td>null</td></tr></tbody></table></div>"
      ],
      "text/plain": [
       "shape: (13, 5)\n",
       "┌────────┬────────────┬─────┬───────┬─────────┐\n",
       "│ suffix ┆ date       ┆ tld ┆ pages ┆ domains │\n",
       "│ ---    ┆ ---        ┆ --- ┆ ---   ┆ ---     │\n",
       "│ str    ┆ date       ┆ str ┆ i64   ┆ f64     │\n",
       "╞════════╪════════════╪═════╪═══════╪═════════╡\n",
       "│ a.se   ┆ 2009-01-12 ┆ se  ┆ 18    ┆ 1.0     │\n",
       "│ a.se   ┆ 2010-09-25 ┆ se  ┆ 3462  ┆ 151.0   │\n",
       "│ a.se   ┆ 2012-11-02 ┆ se  ┆ 6957  ┆ 150.0   │\n",
       "│ a.se   ┆ 2013-05-13 ┆ se  ┆ 613   ┆ 46.0    │\n",
       "│ a.se   ┆ 2013-11-25 ┆ se  ┆ 224   ┆ 34.0    │\n",
       "│ …      ┆ …          ┆ …   ┆ …     ┆ …       │\n",
       "│ a.se   ┆ 2014-08-25 ┆ se  ┆ 300   ┆ 34.0    │\n",
       "│ a.se   ┆ 2014-10-06 ┆ se  ┆ 297   ┆ 34.0    │\n",
       "│ a.se   ┆ 2014-10-13 ┆ se  ┆ 593   ┆ 34.0    │\n",
       "│ a.se   ┆ 2014-12-01 ┆ se  ┆ 264   ┆ 31.0    │\n",
       "│ a.se   ┆ 2014-12-22 ┆ se  ┆ 188   ┆ null    │\n",
       "└────────┴────────────┴─────┴───────┴─────────┘"
      ]
     },
     "execution_count": 14,
     "metadata": {},
     "output_type": "execute_result"
    }
   ],
   "source": [
    "df1 = pl.read_csv(\n",
    "    \"hf://datasets/commoncrawl/statistics/tlds.csv\",\n",
    "    try_parse_dates=True,\n",
    ")\n",
    "\n",
    "df1.head\n",
    "\n",
    "df1 = df1.select(\"suffix\", \"date\", \"tld\", \"pages\", \"domains\")\n",
    "df1.head(13)"
   ]
  },
  {
   "cell_type": "code",
   "execution_count": 15,
   "id": "19c2c5d2",
   "metadata": {},
   "outputs": [],
   "source": [
    "\n",
    "# Create a Hugging Face filesystem object\n",
    "hf_fs = HfFileSystem()\n",
    "\n",
    "# Define the dataset using the Hugging Face filesystem\n",
    "dataset = ds.dataset(\"datasets/commoncrawl/statistics/tlds.csv\", filesystem=hf_fs, format=\"csv\")\n"
   ]
  },
  {
   "cell_type": "code",
   "execution_count": 16,
   "id": "4ad7a324",
   "metadata": {},
   "outputs": [
    {
     "data": {
      "text/html": [
       "<div><style>\n",
       ".dataframe > thead > tr,\n",
       ".dataframe > tbody > tr {\n",
       "  text-align: right;\n",
       "  white-space: pre-wrap;\n",
       "}\n",
       "</style>\n",
       "<small>shape: (15, 11)</small><table border=\"1\" class=\"dataframe\"><thead><tr><th>column_0</th><th>suffix</th><th>crawl</th><th>date</th><th>type</th><th>subtype</th><th>tld</th><th>pages</th><th>urls</th><th>hosts</th><th>domains</th></tr><tr><td>i64</td><td>str</td><td>str</td><td>date</td><td>str</td><td>str</td><td>str</td><td>i64</td><td>i64</td><td>f64</td><td>f64</td></tr></thead><tbody><tr><td>0</td><td>&quot;a.se&quot;</td><td>&quot;CC-MAIN-2008-2009&quot;</td><td>2009-01-12</td><td>&quot;ccTLD&quot;</td><td>&quot;second-level&quot;</td><td>&quot;se&quot;</td><td>18</td><td>18</td><td>1.0</td><td>1.0</td></tr><tr><td>1</td><td>&quot;a.se&quot;</td><td>&quot;CC-MAIN-2009-2010&quot;</td><td>2010-09-25</td><td>&quot;ccTLD&quot;</td><td>&quot;second-level&quot;</td><td>&quot;se&quot;</td><td>3462</td><td>3259</td><td>166.0</td><td>151.0</td></tr><tr><td>2</td><td>&quot;a.se&quot;</td><td>&quot;CC-MAIN-2012&quot;</td><td>2012-11-02</td><td>&quot;ccTLD&quot;</td><td>&quot;second-level&quot;</td><td>&quot;se&quot;</td><td>6957</td><td>6794</td><td>172.0</td><td>150.0</td></tr><tr><td>3</td><td>&quot;a.se&quot;</td><td>&quot;CC-MAIN-2013-20&quot;</td><td>2013-05-13</td><td>&quot;ccTLD&quot;</td><td>&quot;second-level&quot;</td><td>&quot;se&quot;</td><td>613</td><td>600</td><td>50.0</td><td>46.0</td></tr><tr><td>4</td><td>&quot;a.se&quot;</td><td>&quot;CC-MAIN-2013-48&quot;</td><td>2013-11-25</td><td>&quot;ccTLD&quot;</td><td>&quot;second-level&quot;</td><td>&quot;se&quot;</td><td>224</td><td>222</td><td>35.0</td><td>34.0</td></tr><tr><td>&hellip;</td><td>&hellip;</td><td>&hellip;</td><td>&hellip;</td><td>&hellip;</td><td>&hellip;</td><td>&hellip;</td><td>&hellip;</td><td>&hellip;</td><td>&hellip;</td><td>&hellip;</td></tr><tr><td>10</td><td>&quot;a.se&quot;</td><td>&quot;CC-MAIN-2014-42&quot;</td><td>2014-10-13</td><td>&quot;ccTLD&quot;</td><td>&quot;second-level&quot;</td><td>&quot;se&quot;</td><td>593</td><td>189</td><td>36.0</td><td>34.0</td></tr><tr><td>11</td><td>&quot;a.se&quot;</td><td>&quot;CC-MAIN-2014-49&quot;</td><td>2014-12-01</td><td>&quot;ccTLD&quot;</td><td>&quot;second-level&quot;</td><td>&quot;se&quot;</td><td>264</td><td>167</td><td>32.0</td><td>31.0</td></tr><tr><td>12</td><td>&quot;a.se&quot;</td><td>&quot;CC-MAIN-2014-52&quot;</td><td>2014-12-22</td><td>&quot;ccTLD&quot;</td><td>&quot;second-level&quot;</td><td>&quot;se&quot;</td><td>188</td><td>184</td><td>null</td><td>null</td></tr><tr><td>13</td><td>&quot;a.se&quot;</td><td>&quot;CC-MAIN-2015-06&quot;</td><td>2015-02-02</td><td>&quot;ccTLD&quot;</td><td>&quot;second-level&quot;</td><td>&quot;se&quot;</td><td>182</td><td>180</td><td>null</td><td>null</td></tr><tr><td>14</td><td>&quot;a.se&quot;</td><td>&quot;CC-MAIN-2015-11&quot;</td><td>2015-03-09</td><td>&quot;ccTLD&quot;</td><td>&quot;second-level&quot;</td><td>&quot;se&quot;</td><td>176</td><td>175</td><td>null</td><td>null</td></tr></tbody></table></div>"
      ],
      "text/plain": [
       "shape: (15, 11)\n",
       "┌──────────┬────────┬───────────────────┬────────────┬───┬───────┬──────┬───────┬─────────┐\n",
       "│ column_0 ┆ suffix ┆ crawl             ┆ date       ┆ … ┆ pages ┆ urls ┆ hosts ┆ domains │\n",
       "│ ---      ┆ ---    ┆ ---               ┆ ---        ┆   ┆ ---   ┆ ---  ┆ ---   ┆ ---     │\n",
       "│ i64      ┆ str    ┆ str               ┆ date       ┆   ┆ i64   ┆ i64  ┆ f64   ┆ f64     │\n",
       "╞══════════╪════════╪═══════════════════╪════════════╪═══╪═══════╪══════╪═══════╪═════════╡\n",
       "│ 0        ┆ a.se   ┆ CC-MAIN-2008-2009 ┆ 2009-01-12 ┆ … ┆ 18    ┆ 18   ┆ 1.0   ┆ 1.0     │\n",
       "│ 1        ┆ a.se   ┆ CC-MAIN-2009-2010 ┆ 2010-09-25 ┆ … ┆ 3462  ┆ 3259 ┆ 166.0 ┆ 151.0   │\n",
       "│ 2        ┆ a.se   ┆ CC-MAIN-2012      ┆ 2012-11-02 ┆ … ┆ 6957  ┆ 6794 ┆ 172.0 ┆ 150.0   │\n",
       "│ 3        ┆ a.se   ┆ CC-MAIN-2013-20   ┆ 2013-05-13 ┆ … ┆ 613   ┆ 600  ┆ 50.0  ┆ 46.0    │\n",
       "│ 4        ┆ a.se   ┆ CC-MAIN-2013-48   ┆ 2013-11-25 ┆ … ┆ 224   ┆ 222  ┆ 35.0  ┆ 34.0    │\n",
       "│ …        ┆ …      ┆ …                 ┆ …          ┆ … ┆ …     ┆ …    ┆ …     ┆ …       │\n",
       "│ 10       ┆ a.se   ┆ CC-MAIN-2014-42   ┆ 2014-10-13 ┆ … ┆ 593   ┆ 189  ┆ 36.0  ┆ 34.0    │\n",
       "│ 11       ┆ a.se   ┆ CC-MAIN-2014-49   ┆ 2014-12-01 ┆ … ┆ 264   ┆ 167  ┆ 32.0  ┆ 31.0    │\n",
       "│ 12       ┆ a.se   ┆ CC-MAIN-2014-52   ┆ 2014-12-22 ┆ … ┆ 188   ┆ 184  ┆ null  ┆ null    │\n",
       "│ 13       ┆ a.se   ┆ CC-MAIN-2015-06   ┆ 2015-02-02 ┆ … ┆ 182   ┆ 180  ┆ null  ┆ null    │\n",
       "│ 14       ┆ a.se   ┆ CC-MAIN-2015-11   ┆ 2015-03-09 ┆ … ┆ 176   ┆ 175  ┆ null  ┆ null    │\n",
       "└──────────┴────────┴───────────────────┴────────────┴───┴───────┴──────┴───────┴─────────┘"
      ]
     },
     "execution_count": 16,
     "metadata": {},
     "output_type": "execute_result"
    }
   ],
   "source": [
    "# Read the dataset into a PyArrow Table\n",
    "table = dataset.to_table()\n",
    "# Convert the PyArrow Table to a Polars DataFrame\n",
    "df2 = pl.from_arrow(table)\n",
    "df2.head(15)"
   ]
  },
  {
   "cell_type": "markdown",
   "id": "7d61a263",
   "metadata": {},
   "source": [
    "UCI dataset\n"
   ]
  },
  {
   "cell_type": "code",
   "execution_count": null,
   "id": "08082988",
   "metadata": {},
   "outputs": [
    {
     "ename": "ValueError",
     "evalue": "Config name is missing.\nPlease pick one among the available configs: ['preview', 'full']\nExample of usage:\n\t`load_dataset('ylab/methyl-classification', 'preview')`",
     "output_type": "error",
     "traceback": [
      "\u001b[31m---------------------------------------------------------------------------\u001b[39m",
      "\u001b[31mValueError\u001b[39m                                Traceback (most recent call last)",
      "\u001b[36mCell\u001b[39m\u001b[36m \u001b[39m\u001b[32mIn[2]\u001b[39m\u001b[32m, line 9\u001b[39m\n\u001b[32m      6\u001b[39m \u001b[38;5;28;01mimport\u001b[39;00m\u001b[38;5;250m \u001b[39m\u001b[34;01mseaborn\u001b[39;00m\u001b[38;5;250m \u001b[39m\u001b[38;5;28;01mas\u001b[39;00m\u001b[38;5;250m \u001b[39m\u001b[34;01msns\u001b[39;00m\n\u001b[32m      7\u001b[39m \u001b[38;5;28;01mimport\u001b[39;00m\u001b[38;5;250m \u001b[39m\u001b[34;01mmatplotlib\u001b[39;00m\u001b[34;01m.\u001b[39;00m\u001b[34;01mpyplot\u001b[39;00m\u001b[38;5;250m \u001b[39m\u001b[38;5;28;01mas\u001b[39;00m\u001b[38;5;250m \u001b[39m\u001b[34;01mplt\u001b[39;00m\n\u001b[32m----> \u001b[39m\u001b[32m9\u001b[39m train_mv = \u001b[43mload_dataset\u001b[49m\u001b[43m(\u001b[49m\u001b[33;43m\"\u001b[39;49m\u001b[33;43mylab/methyl-classification\u001b[39;49m\u001b[33;43m\"\u001b[39;49m\u001b[43m,\u001b[49m\u001b[43m \u001b[49m\u001b[43msplit\u001b[49m\u001b[43m=\u001b[49m\u001b[33;43m\"\u001b[39;49m\u001b[33;43mtrain\u001b[39;49m\u001b[33;43m\"\u001b[39;49m\u001b[43m)\u001b[49m.to_pandas().set_index(\u001b[33m'\u001b[39m\u001b[33mSample\u001b[39m\u001b[33m'\u001b[39m)\n\u001b[32m     10\u001b[39m test_mv = load_dataset(\u001b[33m\"\u001b[39m\u001b[33mylab/methyl-classification\u001b[39m\u001b[33m\"\u001b[39m, split=\u001b[33m\"\u001b[39m\u001b[33mtest\u001b[39m\u001b[33m\"\u001b[39m).to_pandas().set_index(\u001b[33m'\u001b[39m\u001b[33mSample\u001b[39m\u001b[33m'\u001b[39m)\n\u001b[32m     11\u001b[39m metadata = load_dataset(\n\u001b[32m     12\u001b[39m     \u001b[33m\"\u001b[39m\u001b[33mparquet\u001b[39m\u001b[33m\"\u001b[39m,\n\u001b[32m     13\u001b[39m     data_files=\u001b[33m\"\u001b[39m\u001b[33mhttps://huggingface.co/datasets/ylab/methyl-classification/resolve/main/metadata.parquet\u001b[39m\u001b[33m\"\u001b[39m\n\u001b[32m     14\u001b[39m )[\u001b[33m'\u001b[39m\u001b[33mtrain\u001b[39m\u001b[33m'\u001b[39m].to_pandas().set_index(\u001b[33m'\u001b[39m\u001b[33mSample\u001b[39m\u001b[33m'\u001b[39m)\n",
      "\u001b[36mFile \u001b[39m\u001b[32m~/miniforge3/envs/huf/lib/python3.12/site-packages/datasets/load.py:2061\u001b[39m, in \u001b[36mload_dataset\u001b[39m\u001b[34m(path, name, data_dir, data_files, split, cache_dir, features, download_config, download_mode, verification_mode, keep_in_memory, save_infos, revision, token, streaming, num_proc, storage_options, trust_remote_code, **config_kwargs)\u001b[39m\n\u001b[32m   2056\u001b[39m verification_mode = VerificationMode(\n\u001b[32m   2057\u001b[39m     (verification_mode \u001b[38;5;129;01mor\u001b[39;00m VerificationMode.BASIC_CHECKS) \u001b[38;5;28;01mif\u001b[39;00m \u001b[38;5;129;01mnot\u001b[39;00m save_infos \u001b[38;5;28;01melse\u001b[39;00m VerificationMode.ALL_CHECKS\n\u001b[32m   2058\u001b[39m )\n\u001b[32m   2060\u001b[39m \u001b[38;5;66;03m# Create a dataset builder\u001b[39;00m\n\u001b[32m-> \u001b[39m\u001b[32m2061\u001b[39m builder_instance = \u001b[43mload_dataset_builder\u001b[49m\u001b[43m(\u001b[49m\n\u001b[32m   2062\u001b[39m \u001b[43m    \u001b[49m\u001b[43mpath\u001b[49m\u001b[43m=\u001b[49m\u001b[43mpath\u001b[49m\u001b[43m,\u001b[49m\n\u001b[32m   2063\u001b[39m \u001b[43m    \u001b[49m\u001b[43mname\u001b[49m\u001b[43m=\u001b[49m\u001b[43mname\u001b[49m\u001b[43m,\u001b[49m\n\u001b[32m   2064\u001b[39m \u001b[43m    \u001b[49m\u001b[43mdata_dir\u001b[49m\u001b[43m=\u001b[49m\u001b[43mdata_dir\u001b[49m\u001b[43m,\u001b[49m\n\u001b[32m   2065\u001b[39m \u001b[43m    \u001b[49m\u001b[43mdata_files\u001b[49m\u001b[43m=\u001b[49m\u001b[43mdata_files\u001b[49m\u001b[43m,\u001b[49m\n\u001b[32m   2066\u001b[39m \u001b[43m    \u001b[49m\u001b[43mcache_dir\u001b[49m\u001b[43m=\u001b[49m\u001b[43mcache_dir\u001b[49m\u001b[43m,\u001b[49m\n\u001b[32m   2067\u001b[39m \u001b[43m    \u001b[49m\u001b[43mfeatures\u001b[49m\u001b[43m=\u001b[49m\u001b[43mfeatures\u001b[49m\u001b[43m,\u001b[49m\n\u001b[32m   2068\u001b[39m \u001b[43m    \u001b[49m\u001b[43mdownload_config\u001b[49m\u001b[43m=\u001b[49m\u001b[43mdownload_config\u001b[49m\u001b[43m,\u001b[49m\n\u001b[32m   2069\u001b[39m \u001b[43m    \u001b[49m\u001b[43mdownload_mode\u001b[49m\u001b[43m=\u001b[49m\u001b[43mdownload_mode\u001b[49m\u001b[43m,\u001b[49m\n\u001b[32m   2070\u001b[39m \u001b[43m    \u001b[49m\u001b[43mrevision\u001b[49m\u001b[43m=\u001b[49m\u001b[43mrevision\u001b[49m\u001b[43m,\u001b[49m\n\u001b[32m   2071\u001b[39m \u001b[43m    \u001b[49m\u001b[43mtoken\u001b[49m\u001b[43m=\u001b[49m\u001b[43mtoken\u001b[49m\u001b[43m,\u001b[49m\n\u001b[32m   2072\u001b[39m \u001b[43m    \u001b[49m\u001b[43mstorage_options\u001b[49m\u001b[43m=\u001b[49m\u001b[43mstorage_options\u001b[49m\u001b[43m,\u001b[49m\n\u001b[32m   2073\u001b[39m \u001b[43m    \u001b[49m\u001b[43mtrust_remote_code\u001b[49m\u001b[43m=\u001b[49m\u001b[43mtrust_remote_code\u001b[49m\u001b[43m,\u001b[49m\n\u001b[32m   2074\u001b[39m \u001b[43m    \u001b[49m\u001b[43m_require_default_config_name\u001b[49m\u001b[43m=\u001b[49m\u001b[43mname\u001b[49m\u001b[43m \u001b[49m\u001b[38;5;129;43;01mis\u001b[39;49;00m\u001b[43m \u001b[49m\u001b[38;5;28;43;01mNone\u001b[39;49;00m\u001b[43m,\u001b[49m\n\u001b[32m   2075\u001b[39m \u001b[43m    \u001b[49m\u001b[43m*\u001b[49m\u001b[43m*\u001b[49m\u001b[43mconfig_kwargs\u001b[49m\u001b[43m,\u001b[49m\n\u001b[32m   2076\u001b[39m \u001b[43m\u001b[49m\u001b[43m)\u001b[49m\n\u001b[32m   2078\u001b[39m \u001b[38;5;66;03m# Return iterable dataset in case of streaming\u001b[39;00m\n\u001b[32m   2079\u001b[39m \u001b[38;5;28;01mif\u001b[39;00m streaming:\n",
      "\u001b[36mFile \u001b[39m\u001b[32m~/miniforge3/envs/huf/lib/python3.12/site-packages/datasets/load.py:1818\u001b[39m, in \u001b[36mload_dataset_builder\u001b[39m\u001b[34m(path, name, data_dir, data_files, cache_dir, features, download_config, download_mode, revision, token, storage_options, trust_remote_code, _require_default_config_name, **config_kwargs)\u001b[39m\n\u001b[32m   1816\u001b[39m builder_cls = get_dataset_builder_class(dataset_module, dataset_name=dataset_name)\n\u001b[32m   1817\u001b[39m \u001b[38;5;66;03m# Instantiate the dataset builder\u001b[39;00m\n\u001b[32m-> \u001b[39m\u001b[32m1818\u001b[39m builder_instance: DatasetBuilder = \u001b[43mbuilder_cls\u001b[49m\u001b[43m(\u001b[49m\n\u001b[32m   1819\u001b[39m \u001b[43m    \u001b[49m\u001b[43mcache_dir\u001b[49m\u001b[43m=\u001b[49m\u001b[43mcache_dir\u001b[49m\u001b[43m,\u001b[49m\n\u001b[32m   1820\u001b[39m \u001b[43m    \u001b[49m\u001b[43mdataset_name\u001b[49m\u001b[43m=\u001b[49m\u001b[43mdataset_name\u001b[49m\u001b[43m,\u001b[49m\n\u001b[32m   1821\u001b[39m \u001b[43m    \u001b[49m\u001b[43mconfig_name\u001b[49m\u001b[43m=\u001b[49m\u001b[43mconfig_name\u001b[49m\u001b[43m,\u001b[49m\n\u001b[32m   1822\u001b[39m \u001b[43m    \u001b[49m\u001b[43mdata_dir\u001b[49m\u001b[43m=\u001b[49m\u001b[43mdata_dir\u001b[49m\u001b[43m,\u001b[49m\n\u001b[32m   1823\u001b[39m \u001b[43m    \u001b[49m\u001b[43mdata_files\u001b[49m\u001b[43m=\u001b[49m\u001b[43mdata_files\u001b[49m\u001b[43m,\u001b[49m\n\u001b[32m   1824\u001b[39m \u001b[43m    \u001b[49m\u001b[38;5;28;43mhash\u001b[39;49m\u001b[43m=\u001b[49m\u001b[43mdataset_module\u001b[49m\u001b[43m.\u001b[49m\u001b[43mhash\u001b[49m\u001b[43m,\u001b[49m\n\u001b[32m   1825\u001b[39m \u001b[43m    \u001b[49m\u001b[43minfo\u001b[49m\u001b[43m=\u001b[49m\u001b[43minfo\u001b[49m\u001b[43m,\u001b[49m\n\u001b[32m   1826\u001b[39m \u001b[43m    \u001b[49m\u001b[43mfeatures\u001b[49m\u001b[43m=\u001b[49m\u001b[43mfeatures\u001b[49m\u001b[43m,\u001b[49m\n\u001b[32m   1827\u001b[39m \u001b[43m    \u001b[49m\u001b[43mtoken\u001b[49m\u001b[43m=\u001b[49m\u001b[43mtoken\u001b[49m\u001b[43m,\u001b[49m\n\u001b[32m   1828\u001b[39m \u001b[43m    \u001b[49m\u001b[43mstorage_options\u001b[49m\u001b[43m=\u001b[49m\u001b[43mstorage_options\u001b[49m\u001b[43m,\u001b[49m\n\u001b[32m   1829\u001b[39m \u001b[43m    \u001b[49m\u001b[43m*\u001b[49m\u001b[43m*\u001b[49m\u001b[43mbuilder_kwargs\u001b[49m\u001b[43m,\u001b[49m\n\u001b[32m   1830\u001b[39m \u001b[43m    \u001b[49m\u001b[43m*\u001b[49m\u001b[43m*\u001b[49m\u001b[43mconfig_kwargs\u001b[49m\u001b[43m,\u001b[49m\n\u001b[32m   1831\u001b[39m \u001b[43m\u001b[49m\u001b[43m)\u001b[49m\n\u001b[32m   1832\u001b[39m builder_instance._use_legacy_cache_dir_if_possible(dataset_module)\n\u001b[32m   1834\u001b[39m \u001b[38;5;28;01mreturn\u001b[39;00m builder_instance\n",
      "\u001b[36mFile \u001b[39m\u001b[32m~/miniforge3/envs/huf/lib/python3.12/site-packages/datasets/builder.py:343\u001b[39m, in \u001b[36mDatasetBuilder.__init__\u001b[39m\u001b[34m(self, cache_dir, dataset_name, config_name, hash, base_path, info, features, token, repo_id, data_files, data_dir, storage_options, writer_batch_size, **config_kwargs)\u001b[39m\n\u001b[32m    341\u001b[39m     config_kwargs[\u001b[33m\"\u001b[39m\u001b[33mdata_dir\u001b[39m\u001b[33m\"\u001b[39m] = data_dir\n\u001b[32m    342\u001b[39m \u001b[38;5;28mself\u001b[39m.config_kwargs = config_kwargs\n\u001b[32m--> \u001b[39m\u001b[32m343\u001b[39m \u001b[38;5;28mself\u001b[39m.config, \u001b[38;5;28mself\u001b[39m.config_id = \u001b[38;5;28;43mself\u001b[39;49m\u001b[43m.\u001b[49m\u001b[43m_create_builder_config\u001b[49m\u001b[43m(\u001b[49m\n\u001b[32m    344\u001b[39m \u001b[43m    \u001b[49m\u001b[43mconfig_name\u001b[49m\u001b[43m=\u001b[49m\u001b[43mconfig_name\u001b[49m\u001b[43m,\u001b[49m\n\u001b[32m    345\u001b[39m \u001b[43m    \u001b[49m\u001b[43mcustom_features\u001b[49m\u001b[43m=\u001b[49m\u001b[43mfeatures\u001b[49m\u001b[43m,\u001b[49m\n\u001b[32m    346\u001b[39m \u001b[43m    \u001b[49m\u001b[43m*\u001b[49m\u001b[43m*\u001b[49m\u001b[43mconfig_kwargs\u001b[49m\u001b[43m,\u001b[49m\n\u001b[32m    347\u001b[39m \u001b[43m\u001b[49m\u001b[43m)\u001b[49m\n\u001b[32m    349\u001b[39m \u001b[38;5;66;03m# prepare info: DatasetInfo are a standardized dataclass across all datasets\u001b[39;00m\n\u001b[32m    350\u001b[39m \u001b[38;5;66;03m# Prefill datasetinfo\u001b[39;00m\n\u001b[32m    351\u001b[39m \u001b[38;5;28;01mif\u001b[39;00m info \u001b[38;5;129;01mis\u001b[39;00m \u001b[38;5;28;01mNone\u001b[39;00m:\n\u001b[32m    352\u001b[39m     \u001b[38;5;66;03m# TODO FOR PACKAGED MODULES IT IMPORTS DATA FROM src/packaged_modules which doesn't make sense\u001b[39;00m\n",
      "\u001b[36mFile \u001b[39m\u001b[32m~/miniforge3/envs/huf/lib/python3.12/site-packages/datasets/builder.py:555\u001b[39m, in \u001b[36mDatasetBuilder._create_builder_config\u001b[39m\u001b[34m(self, config_name, custom_features, **config_kwargs)\u001b[39m\n\u001b[32m    551\u001b[39m     \u001b[38;5;28;01mif\u001b[39;00m \u001b[38;5;129;01mnot\u001b[39;00m config_kwargs:\n\u001b[32m    552\u001b[39m         example_of_usage = (\n\u001b[32m    553\u001b[39m             \u001b[33mf\u001b[39m\u001b[33m\"\u001b[39m\u001b[33mload_dataset(\u001b[39m\u001b[33m'\u001b[39m\u001b[38;5;132;01m{\u001b[39;00m\u001b[38;5;28mself\u001b[39m.repo_id\u001b[38;5;250m \u001b[39m\u001b[38;5;129;01mor\u001b[39;00m\u001b[38;5;250m \u001b[39m\u001b[38;5;28mself\u001b[39m.dataset_name\u001b[38;5;132;01m}\u001b[39;00m\u001b[33m'\u001b[39m\u001b[33m, \u001b[39m\u001b[33m'\u001b[39m\u001b[38;5;132;01m{\u001b[39;00m\u001b[38;5;28mself\u001b[39m.BUILDER_CONFIGS[\u001b[32m0\u001b[39m].name\u001b[38;5;132;01m}\u001b[39;00m\u001b[33m'\u001b[39m\u001b[33m)\u001b[39m\u001b[33m\"\u001b[39m\n\u001b[32m    554\u001b[39m         )\n\u001b[32m--> \u001b[39m\u001b[32m555\u001b[39m         \u001b[38;5;28;01mraise\u001b[39;00m \u001b[38;5;167;01mValueError\u001b[39;00m(\n\u001b[32m    556\u001b[39m             \u001b[33m\"\u001b[39m\u001b[33mConfig name is missing.\u001b[39m\u001b[33m\"\u001b[39m\n\u001b[32m    557\u001b[39m             \u001b[33mf\u001b[39m\u001b[33m\"\u001b[39m\u001b[38;5;130;01m\\n\u001b[39;00m\u001b[33mPlease pick one among the available configs: \u001b[39m\u001b[38;5;132;01m{\u001b[39;00m\u001b[38;5;28mlist\u001b[39m(\u001b[38;5;28mself\u001b[39m.builder_configs.keys())\u001b[38;5;132;01m}\u001b[39;00m\u001b[33m\"\u001b[39m\n\u001b[32m    558\u001b[39m             + \u001b[33mf\u001b[39m\u001b[33m\"\u001b[39m\u001b[38;5;130;01m\\n\u001b[39;00m\u001b[33mExample of usage:\u001b[39m\u001b[38;5;130;01m\\n\u001b[39;00m\u001b[38;5;130;01m\\t\u001b[39;00m\u001b[33m`\u001b[39m\u001b[38;5;132;01m{\u001b[39;00mexample_of_usage\u001b[38;5;132;01m}\u001b[39;00m\u001b[33m`\u001b[39m\u001b[33m\"\u001b[39m\n\u001b[32m    559\u001b[39m         )\n\u001b[32m    560\u001b[39m \u001b[38;5;28;01melse\u001b[39;00m:\n\u001b[32m    561\u001b[39m     builder_config = \u001b[38;5;28mself\u001b[39m.BUILDER_CONFIGS[\u001b[32m0\u001b[39m]\n",
      "\u001b[31mValueError\u001b[39m: Config name is missing.\nPlease pick one among the available configs: ['preview', 'full']\nExample of usage:\n\t`load_dataset('ylab/methyl-classification', 'preview')`"
     ]
    }
   ],
   "source": [
    "from datasets import load_dataset\n",
    "import pyarrow.parquet as pq\n",
    "\n",
    "import pandas as pd\n",
    "import networkx as nx\n",
    "import seaborn as sns\n",
    "import matplotlib.pyplot as plt\n",
    "\n",
    "train_mv = load_dataset(\"ylab/methyl-classification\", split=\"train\").to_pandas().set_index('Sample')\n",
    "test_mv = load_dataset(\"ylab/methyl-classification\", split=\"test\").to_pandas().set_index('Sample')\n",
    "metadata = load_dataset(\n",
    "    \"parquet\",\n",
    "    data_files=\"https://huggingface.co/datasets/ylab/methyl-classification/resolve/main/metadata.parquet\"\n",
    ")['train'].to_pandas().set_index('Sample')\n",
    "\n",
    "# View the training set metadata\n",
    "print(metadata.describe())\n",
    "\n",
    "# Plot m-value density plots for first five samples\n",
    "sns.kdeplot(data=train_mv.iloc[:5].T, common_norm=False)\n",
    "plt.xlabel(\"Methylation Value\")\n",
    "plt.ylabel(\"Density\")\n",
    "plt.title(\"Methylation Density for 5 Samples\")\n",
    "plt.show()\n"
   ]
  },
  {
   "cell_type": "code",
   "execution_count": 5,
   "id": "fc783c79",
   "metadata": {},
   "outputs": [
    {
     "data": {
      "text/plain": [
       "OpenML Dataset\n",
       "==============\n",
       "Name.........: albert\n",
       "Version......: 1\n",
       "Format.......: ARFF\n",
       "Upload Date..: 2018-08-15 23:55:47\n",
       "Licence......: Public\n",
       "Download URL.: https://api.openml.org/data/v1/download/19335520/albert.arff\n",
       "OpenML URL...: https://www.openml.org/d/41147\n",
       "# of features: None"
      ]
     },
     "execution_count": 5,
     "metadata": {},
     "output_type": "execute_result"
    }
   ],
   "source": [
    "import openml\n",
    "dataset = openml.datasets.get_dataset(41147)  # Example ID for a large dataset\n",
    "dataset"
   ]
  }
 ],
 "metadata": {
  "kernelspec": {
   "display_name": "huf",
   "language": "python",
   "name": "python3"
  },
  "language_info": {
   "codemirror_mode": {
    "name": "ipython",
    "version": 3
   },
   "file_extension": ".py",
   "mimetype": "text/x-python",
   "name": "python",
   "nbconvert_exporter": "python",
   "pygments_lexer": "ipython3",
   "version": "3.12.9"
  }
 },
 "nbformat": 4,
 "nbformat_minor": 5
}
