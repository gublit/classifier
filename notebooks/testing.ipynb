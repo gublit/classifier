{
 "cells": [
  {
   "cell_type": "markdown",
   "id": "eb681ff5",
   "metadata": {},
   "source": [
    "# Bank Marketing Classification"
   ]
  },
  {
   "cell_type": "markdown",
   "id": "b7c8d9e0",
   "metadata": {},
   "source": [
    "## 1. Introduction\n",
    "\n",
    "This notebook demonstrates a complete machine learning workflow for a tabular classification task. We will use the Bank Marketing dataset from the UCI Machine Learning Repository to predict whether a customer will subscribe to a term deposit.\n",
    "\n",
    "The workflow covers the following steps:\n",
    "1.  **Data Loading and Initial Exploration**: Loading the data and getting a first look at its structure.\n",
    "2.  **Data Preprocessing and Cleaning**: Renaming columns, correcting data types, and handling missing values.\n",
    "3.  **Exploratory Data Analysis (EDA)**: Visualizing the data to understand feature distributions and relationships.\n",
    "4.  **Feature Engineering**: Preparing the data for modeling by scaling and encoding features.\n",
    "5.  **Model Training**: Training multiple classification models.\n",
    "6.  **Model Evaluation**: Evaluating model performance using various metrics.\n",
    "7.  **Prediction**: Using the trained models to make predictions on new data."
   ]
  },
  {
   "cell_type": "markdown",
   "id": "a1b2c3d4",
   "metadata": {},
   "source": [
    "## 2. Setup: Import Libraries"
   ]
  },
  {
   "cell_type": "code",
   "execution_count": 1,
   "id": "91399d33",
   "metadata": {},
   "outputs": [],
   "source": [
    "# Import necessary libraries\n",
    "from sklearn.linear_model import LogisticRegression\n",
    "from sklearn.tree import DecisionTreeClassifier\n",
    "from sklearn.ensemble import RandomForestClassifier,GradientBoostingClassifier\n",
    "from sklearn.naive_bayes import GaussianNB\n",
    "from sklearn.neighbors import KNeighborsClassifier\n",
    "from xgboost import XGBClassifier\n",
    "from lightgbm import LGBMClassifier\n",
    "from sklearn.metrics import (accuracy_score, classification_report, confusion_matrix, \n",
    "                                roc_auc_score, roc_curve,auc)\n",
    "from sklearn.model_selection import train_test_split\n",
    "from sklearn.preprocessing import StandardScaler,OneHotEncoder,LabelEncoder\n",
    "from sklearn.compose import ColumnTransformer\n",
    "from sklearn.pipeline import Pipeline\n",
    "from imblearn.over_sampling import SMOTE\n",
    "import pandas as pd\n",
    "import matplotlib.pyplot as plt\n",
    "import seaborn as sns\n",
    "import joblib\n",
    "import warnings\n",
    "from pathlib import Path\n",
    "warnings.filterwarnings('ignore')"
   ]
  },
  {
   "cell_type": "markdown",
   "id": "e5f6a7b8",
   "metadata": {},
   "source": [
    "## 3. Data Loading"
   ]
  },
  {
   "cell_type": "code",
   "execution_count": 2,
   "id": "69cf433e",
   "metadata": {},
   "outputs": [
    {
     "name": "stdout",
     "output_type": "stream",
     "text": [
      "Loading data from: /home/tisinr/Dev/models/classifier/dataset/bank.csv\n"
     ]
    }
   ],
   "source": [
    "# Load data\n",
    "notebook_path = Path.cwd()\n",
    "file_path = notebook_path.parent / 'dataset' / 'bank.csv'\n",
    "print(f\"Loading data from: {file_path}\")\n",
    "data = pd.read_csv(file_path, header=0, sep=';')"
   ]
  },
  {
   "cell_type": "markdown",
   "id": "c9d0e1f2",
   "metadata": {},
   "source": [
    "## 4. Data Preprocessing and Cleaning"
   ]
  },
  {
   "cell_type": "code",
   "execution_count": 3,
   "id": "95e789dd",
   "metadata": {},
   "outputs": [],
   "source": [
    "def rename_n_change(data):\n",
    "    # Rename columns for better readability\n",
    "    data.rename(columns={\n",
    "        'marital':'marital_status',\n",
    "        'default':'credit_default',\n",
    "        'housing':'housing_loan',\n",
    "        'loan':'personal_loan',\n",
    "        'y':'response'}, inplace=True)\n",
    "    #change data types for faster loading\n",
    "    data['response'] = data['response'].astype('category')\n",
    "    data['marital_status'] = data['marital_status'].astype('category')\n",
    "    data['education'] = data['education'].astype('category')\n",
    "    data['job'] = data['job'].astype('category')\n",
    "    data['contact'] = data['contact'].astype('category')\n",
    "    data['month'] = data['month'].astype('category')\n",
    "    data['day'] = data['day'].astype('category')\n",
    "    data['credit_default'] = data['credit_default'].astype('category')\n",
    "    data['housing_loan'] = data['housing_loan'].astype('category')\n",
    "    data['personal_loan'] = data['personal_loan'].astype('category')\n",
    "    return data\n",
    "data=rename_n_change(data)"
   ]
  },
  {
   "cell_type": "markdown",
   "id": "g3h4i5j6",
   "metadata": {},
   "source": [
    "### 4.1. Handle Missing Values\n",
    "\n",
    "We check the `poutcome` column for missing values and drop it since it contains over 80% unknown values."
   ]
  },
  {
   "cell_type": "code",
   "execution_count": 4,
   "id": "92a551bb",
   "metadata": {},
   "outputs": [
    {
     "data": {
      "text/plain": [
       "poutcome\n",
       "unknown    81.747805\n",
       "failure    10.840282\n",
       "other       4.069806\n",
       "success     3.342107\n",
       "Name: count, dtype: float64"
      ]
     },
     "execution_count": 4,
     "metadata": {},
     "output_type": "execute_result"
    }
   ],
   "source": [
    "data['poutcome'].value_counts(dropna=False)/len(data)*100"
   ]
  },
  {
   "cell_type": "code",
   "execution_count": 5,
   "id": "17f68fa0",
   "metadata": {},
   "outputs": [],
   "source": [
    "# Drop poutcome with more than 80% unknown values\n",
    "data.drop('poutcome', axis=1, inplace=True)"
   ]
  },
  {
   "cell_type": "markdown",
   "id": "k7l8m9n0",
   "metadata": {},
   "source": [
    "## 5. Exploratory Data Analysis (EDA)"
   ]
  },
  {
   "cell_type": "markdown",
   "id": "9ab84ac5",
   "metadata": {},
   "source": [
    "### 5.1. Check for Data Imbalance\n",
    "\n",
    "We visualize the distribution of the target variable `response` to check for class imbalance."
   ]
  },
  {
   "cell_type": "code",
   "execution_count": 8,
   "id": "341a8081",
   "metadata": {},
   "outputs": [
    {
     "data": {
      "image/png": "iVBORw0KGgoAAAANSUhEUgAAAk0AAAHFCAYAAADv8c1wAAAAOnRFWHRTb2Z0d2FyZQBNYXRwbG90bGliIHZlcnNpb24zLjEwLjMsIGh0dHBzOi8vbWF0cGxvdGxpYi5vcmcvZiW1igAAAAlwSFlzAAAPYQAAD2EBqD+naQAATFNJREFUeJzt3XtcFnXe//H3JScR4RJETklkZSShVogiWnlGTSTLTTdaVlrDipRI/dVt3ZvYtpKHdGsts5OWWbSthzKVhTItbsEDLauYubZ5wARxFS/EAyDO749u5vYStdFUQF/Px2MeOfP9zMx3Bi+vd985YDMMwxAAAADOqVlDdwAAAKApIDQBAABYQGgCAACwgNAEAABgAaEJAADAAkITAACABYQmAAAACwhNAAAAFhCaAAAALCA0AZLmz58vm81mTs2bN1dQUJB69+6tjIwMlZWV1VsnPT1dNpvtvPZz9OhRpaena/Xq1ee13pn2dd111ykuLu68tvNzPvjgA/35z38+Y5vNZlN6evpF3d/F9sUXX6hLly7y8vKSzWbT0qVLz1i3c+dOp593s2bN5Ovrq759+y... [truncated]