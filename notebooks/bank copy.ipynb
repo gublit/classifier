{
 "cells": [
  {
   "cell_type": "markdown",
   "id": "eb681ff5",
   "metadata": {},
   "source": [
    "This notebook is desined for tabular classification tasks with pandas and scikit-learn.\n",
    "It is a simple example of how to use pandas and scikit-learn to build a classification model using a tabular dataset. The code includes data preprocessing, model training, and evaluation steps.\n",
    "The dataset used in this example is the bank marketing dataset from the UCI Machine Learning Repository. The dataset contains information about a bank's marketing campaign and whether or not a customer subscribed to a term deposit.\n",
    "The goal is to predict whether a customer will subscribe to a term deposit based on their demographic and behavioral features.\n"
   ]
  },
  {
   "cell_type": "code",
   "execution_count": null,
   "id": "91399d33",
   "metadata": {},
   "outputs": [],
   "source": [
    "# Import necessary libraries\n",
    "from sklearn.linear_model import LogisticRegression\n",
    "from sklearn.tree import DecisionTreeClassifier\n",
    "from sklearn.ensemble import RandomForestClassifier\n",
    "from sklearn.ensemble import GradientBoostingClassifier\n",
    "from sklearn.svm import SVC\n",
    "from sklearn.naive_bayes import GaussianNB\n",
    "from sklearn.neighbors import KNeighborsClassifier\n",
    "from sklearn.metrics import accuracy_score, classification_report, confusion_matrix, roc_auc_score, roc_curve,auc\n",
    "from sklearn.model_selection import train_test_split\n",
    "from sklearn.preprocessing import StandardScaler,OneHotEncoder,LabelEncoder\n",
    "from sklearn.compose import ColumnTransformer\n",
    "from sklearn.pipeline import Pipeline\n",
    "from xgboost import XGBClassifier\n",
    "from lightgbm import LGBMClassifier\n",
    "from imblearn.over_sampling import SMOTE\n",
    "import numpy as np\n",
    "import pandas as pd\n",
    "import matplotlib.pyplot as plt\n",
    "import seaborn as sns\n",
    "import joblib"
   ]
  },
  {
   "cell_type": "code",
   "execution_count": null,
   "id": "b91faeb8",
   "metadata": {},
   "outputs": [],
   "source": [
    "data=pd.read_csv('/home/tisinr/Dev/models/classifier/dataset/bank.csv',header=0, sep=';')\n",
    "# Display the first few rows of the dataset\n",
    "print(data.head())"
   ]
  },
  {
   "cell_type": "code",
   "execution_count": null,
   "id": "e6c19de4",
   "metadata": {},
   "outputs": [],
   "source": [
    "data.info()"
   ]
  },
  {
   "cell_type": "code",
   "execution_count": null,
   "id": "95e789dd",
   "metadata": {},
   "outputs": [],
   "source": [
    "def rename_n_change(data):\n",
    "    # Rename columns for better readability\n",
    "    data.rename(columns={\n",
    "        'marital':'marital_status',\n",
    "        'default':'credit_default',\n",
    "        'housing':'housing_loan',\n",
    "        'loan':'personal_loan',\n",
    "        'y':'response'}, inplace=True)\n",
    "    #change data types for faster loading\n",
    "    data['response'] = data['response'].astype('category')\n",
    "    data['marital_status'] = data['marital_status'].astype('category')\n",
    "    data['education'] = data['education'].astype('category')\n",
    "    data['job'] = data['job'].astype('category')\n",
    "    data['contact'] = data['contact'].astype('category')\n",
    "    data['month'] = data['month'].astype('category')\n",
    "    data['day'] = data['day'].astype('category')\n",
    "    data['credit_default'] = data['credit_default'].astype('category')\n",
    "    data['housing_loan'] = data['housing_loan'].astype('category')\n",
    "    data['personal_loan'] = data['personal_loan'].astype('category')\n",
    "    return data\n",
    "data=rename_n_change(data)"
   ]
  },
  {
   "cell_type": "code",
   "execution_count": null,
   "id": "69d4de59",
   "metadata": {},
   "outputs": [],
   "source": [
    "# Drop poutcome with more than 80% unknown values\n",
    "data.drop('poutcome', axis=1, inplace=True)\n",
    "data.drop('duration', axis=1, inplace=True)\n"
   ]
  },
  {
   "cell_type": "code",
   "execution_count": null,
   "id": "ff4a5ef6",
   "metadata": {},
   "outputs": [],
   "source": [
    "data.isnull().sum()"
   ]
  },
  {
   "cell_type": "markdown",
   "id": "9ab84ac5",
   "metadata": {},
   "source": [
    "Determine if data is imbalance"
   ]
  },
  {
   "cell_type": "code",
   "execution_count": null,
   "id": "341a8081",
   "metadata": {},
   "outputs": [],
   "source": [
    "data['response'].value_counts()/len(data)*100"
   ]
  },
  {
   "cell_type": "code",
   "execution_count": null,
   "id": "5debbc34",
   "metadata": {},
   "outputs": [],
   "source": [
    "data['contact'].value_counts()/len(data)*100"
   ]
  },
  {
   "cell_type": "code",
   "execution_count": null,
   "id": "e8763acf",
   "metadata": {},
   "outputs": [],
   "source": [
    "data['pdays'].value_counts()/len(data)*100"
   ]
  },
  {
   "cell_type": "code",
   "execution_count": null,
   "id": "446412f7",
   "metadata": {},
   "outputs": [],
   "source": [
    "data['previous'].unique()"
   ]
  },
  {
   "cell_type": "code",
   "execution_count": null,
   "id": "445b7121",
   "metadata": {},
   "outputs": [],
   "source": [
    "data['day'].unique()"
   ]
  },
  {
   "cell_type": "code",
   "execution_count": null,
   "id": "ecad0418",
   "metadata": {},
   "outputs": [],
   "source": [
    "data['campaign'].unique()"
   ]
  },
  {
   "cell_type": "code",
   "execution_count": null,
   "id": "3127dfb7",
   "metadata": {},
   "outputs": [],
   "source": [
    "data['campaign'].value_counts()/len(data)*100"
   ]
  },
  {
   "cell_type": "code",
   "execution_count": null,
   "id": "aab4a78e",
   "metadata": {},
   "outputs": [],
   "source": [
    "data['day'].value_counts()/len(data)*100"
   ]
  },
  {
   "cell_type": "code",
   "execution_count": null,
   "id": "953ee522",
   "metadata": {},
   "outputs": [],
   "source": [
    "data['previous'].value_counts()/len(data)*100"
   ]
  },
  {
   "cell_type": "code",
   "execution_count": null,
   "id": "55a4a156",
   "metadata": {},
   "outputs": [],
   "source": [
    "print(data.head(10))"
   ]
  },
  {
   "cell_type": "markdown",
   "id": "31151b5b",
   "metadata": {},
   "source": [
    "Exploratory Data Analysis with Pandas"
   ]
  },
  {
   "cell_type": "code",
   "execution_count": null,
   "id": "a27c6e1b",
   "metadata": {},
   "outputs": [],
   "source": [
    "plt.figure(figsize=(8,12))\n",
    "sns.set_style('whitegrid')\n",
    "sns.pairplot(data,hue='response')\n",
    "plt.show()"
   ]
  },
  {
   "cell_type": "code",
   "execution_count": null,
   "id": "fd69fa4d",
   "metadata": {},
   "outputs": [],
   "source": [
    "data.info()"
   ]
  },
  {
   "cell_type": "code",
   "execution_count": null,
   "id": "267def51",
   "metadata": {},
   "outputs": [],
   "source": [
    "data.describe()"
   ]
  },
  {
   "cell_type": "code",
   "execution_count": null,
   "id": "6aaa1ef5",
   "metadata": {},
   "outputs": [],
   "source": [
    "#Distribution plot of response variable\n",
    "plt.figure(figsize=(8, 6))\n",
    "sns.set_style('darkgrid')\n",
    "sns.countplot(x='response', data=data)\n",
    "plt.title('Distribution of Target Variable')\n",
    "plt.xlabel('response')\n",
    "plt.ylabel('Count')\n",
    "plt.show()\n"
   ]
  },
  {
   "cell_type": "code",
   "execution_count": null,
   "id": "8eef042c",
   "metadata": {},
   "outputs": [],
   "source": [
    "plt.figure(figsize=(8, 6))\n",
    "data['housing_loan'].value_counts().plot(kind='bar',color=['blue', 'orange'])\n",
    "plt.title('Distribution of Housing Loan')\n",
    "plt.xlabel('Housing Loan')\n",
    "plt.ylabel('Count')\n",
    "plt.show()"
   ]
  },
  {
   "cell_type": "code",
   "execution_count": null,
   "id": "7df5778d",
   "metadata": {},
   "outputs": [],
   "source": [
    "# Distribution plot of numeric features\n",
    "plt.figure(figsize=(12, 8))\n",
    "numeric_ft = data[['age', 'balance', 'previous', 'pdays','campaign']]\n",
    "sns.pairplot(numeric_ft)\n",
    "plt.title('Pairplot of Numeric Features')\n",
    "plt.show()\n"
   ]
  },
  {
   "cell_type": "code",
   "execution_count": null,
   "id": "2da4b96f",
   "metadata": {},
   "outputs": [],
   "source": [
    "#Correlation matrix for numeric features\n",
    "plt.figure(figsize=(12, 8))\n",
    "corr_matrix = numeric_ft.corr()\n",
    "sns.heatmap(corr_matrix, annot=True, cmap='coolwarm', fmt='.2f')\n",
    "plt.title('Correlation Matrix')\n",
    "plt.show()\n"
   ]
  },
  {
   "cell_type": "markdown",
   "id": "a3a463e1",
   "metadata": {},
   "source": [
    "Assign features and labels"
   ]
  },
  {
   "cell_type": "code",
   "execution_count": null,
   "id": "b0cd819f",
   "metadata": {},
   "outputs": [],
   "source": [
    "X=data.drop(columns=['response'])\n",
    "y=data['response']\n",
    "print(X.shape)\n",
    "print(y.shape)"
   ]
  },
  {
   "cell_type": "markdown",
   "id": "c8bbcf42",
   "metadata": {},
   "source": [
    "Apply Preprocessing to Data"
   ]
  },
  {
   "cell_type": "code",
   "execution_count": null,
   "id": "8b706feb",
   "metadata": {},
   "outputs": [],
   "source": [
    "# Create a pipeline for preprocessing\n",
    "numeric_features = ['age', 'balance', 'pdays', 'previous','campaign']\n",
    "categorical_features = ['job', 'marital_status', 'education', 'month','day', 'housing_loan', 'personal_loan','contact','credit_default']\n",
    "# Create a column transformer to apply different preprocessing steps to different columns\n",
    "pre_processor = ColumnTransformer(\n",
    "    transformers=[\n",
    "        ('num', StandardScaler(), numeric_features),\n",
    "        ('cat', OneHotEncoder(handle_unknown='ignore'), categorical_features)\n",
    "    ]\n",
    ")\n",
    "# Create a pipeline that first applies the preprocessor and then fits a classifier\n",
    "pre_pipeline = Pipeline(steps=[\n",
    "    ('preprocessor', pre_processor)\n",
    "])"
   ]
  },
  {
   "cell_type": "code",
   "execution_count": null,
   "id": "ec834aeb",
   "metadata": {},
   "outputs": [],
   "source": [
    "# Create subplots for the categorical variables\n",
    "plt.figure(figsize=(18, 12))  \n",
    "for i, variable in enumerate(categorical_features, 1):\n",
    "    plt.subplot(4, 4, i) \n",
    "    sns.countplot(data=data, x=variable, order=data[variable].value_counts().index)\n",
    "    plt.title(f'{variable} Distribution')\n",
    "    plt.xticks(rotation=45, ha='right') \n",
    "plt.tight_layout() \n",
    "plt.show() "
   ]
  },
  {
   "cell_type": "code",
   "execution_count": null,
   "id": "1ab63846",
   "metadata": {},
   "outputs": [],
   "source": [
    "#Split the data into training and testing sets\n",
    "X_train,X_test,y_train,y_test = train_test_split(X,y,train_size=0.8,stratify=y,random_state=78)"
   ]
  },
  {
   "cell_type": "code",
   "execution_count": null,
   "id": "34fff263",
   "metadata": {},
   "outputs": [],
   "source": [
    "# Label encode the target variable\n",
    "label_encoder = LabelEncoder()\n",
    "y_train = label_encoder.fit_transform(y_train)\n",
    "y_test = label_encoder.transform(y_test)"
   ]
  },
  {
   "cell_type": "code",
   "execution_count": null,
   "id": "6d1908c7",
   "metadata": {},
   "outputs": [],
   "source": [
    "# Fit preprocessing on training data and transform both sets\n",
    "X_train = pre_pipeline.fit_transform(X_train)\n",
    "X_test = pre_pipeline.transform(X_test)  # No fitting on test data!"
   ]
  },
  {
   "cell_type": "code",
   "execution_count": null,
   "id": "b9a192fa",
   "metadata": {},
   "outputs": [],
   "source": [
    "print(X_train.shape)\n",
    "print(X_test.shape)\n"
   ]
  },
  {
   "cell_type": "code",
   "execution_count": null,
   "id": "d9c3a7b3",
   "metadata": {},
   "outputs": [],
   "source": [
    "smote = SMOTE()\n",
    "X_train, y_train = smote.fit_resample(X_train, y_train)"
   ]
  },
  {
   "cell_type": "markdown",
   "id": "eddf7fb3",
   "metadata": {},
   "source": [
    "Logistic Regression with Scikit-learn training steps"
   ]
  },
  {
   "cell_type": "code",
   "execution_count": null,
   "id": "06006c52",
   "metadata": {},
   "outputs": [],
   "source": [
    "#Instantiate and train\n",
    "logreg=LogisticRegression(class_weight= 'balanced')\n",
    "logreg.fit(X_train,y_train)"
   ]
  },
  {
   "cell_type": "code",
   "execution_count": null,
   "id": "e047c3a2",
   "metadata": {},
   "outputs": [],
   "source": [
    "logreg.score(X_train,y_train)"
   ]
  },
  {
   "cell_type": "code",
   "execution_count": null,
   "id": "41250ea2",
   "metadata": {},
   "outputs": [],
   "source": [
    "logreg.score(X_test,y_test)"
   ]
  },
  {
   "cell_type": "code",
   "execution_count": null,
   "id": "a2d376cc",
   "metadata": {},
   "outputs": [],
   "source": [
    "# Predict, Evaluate and plot\n",
    "y_pred=logreg.predict(X_test)\n",
    "y_pred_proba=logreg.predict_proba(X_test)[:,1]\n",
    "print(\"Logistic Regression\")\n",
    "print(\"Accuracy: \",accuracy_score(y_test,y_pred))\n",
    "print(\"Classification Report: \\n\",classification_report(y_test,y_pred))\n",
    "print(\"Confusion Matrix: \\n\",confusion_matrix(y_test,y_pred))\n",
    "print(\"ROC_AUC_Score: \",roc_auc_score(y_test,y_pred_proba))\n",
    "fpr, tpr, thresholds = roc_curve(y_test, y_pred_proba)\n",
    "roc_auc = auc(fpr, tpr)\n",
    "plt.figure(figsize=(8, 6))\n",
    "plt.plot(fpr, tpr, label= f'Logistic Regression (area = {roc_auc:.2f}')\n",
    "plt.plot([0, 1], [0, 1], 'k--')\n",
    "plt.xlim([0.0, 1.0])\n",
    "plt.ylim([0.0, 1.05])\n",
    "plt.xlabel('False Positive Rate')\n",
    "plt.ylabel('True Positive Rate')\n",
    "plt.title('Receiver Operating Characteristic')\n",
    "plt.legend(loc='lower right')\n",
    "plt.show()     "
   ]
  },
  {
   "cell_type": "markdown",
   "id": "5b6139f2",
   "metadata": {},
   "source": [
    "Decision Tree with Scikit-learn training steps"
   ]
  },
  {
   "cell_type": "code",
   "execution_count": null,
   "id": "b5e0321b",
   "metadata": {},
   "outputs": [],
   "source": [
    "#Decision Tree Classifier\n",
    "dtree=DecisionTreeClassifier()\n",
    "dtree.fit(X_train,y_train)\n",
    "y_pred=dtree.predict(X_test)\n",
    "y_pred_proba=dtree.predict_proba(X_test)[:,1]\n",
    "print(\"Decision Tree Classifier\")\n",
    "print(\"Accuracy: \",accuracy_score(y_test,y_pred))\n",
    "print(\"Classification Report: \\n\",classification_report(y_test,y_pred))\n",
    "print(\"Confusion Matrix: \\n\",confusion_matrix(y_test,y_pred))\n",
    "print(\"ROC AUC Score: \",roc_auc_score(y_test,y_pred_proba))\n",
    "fpr, tpr, thresholds = roc_curve(y_test, y_pred_proba)\n",
    "roc_auc = auc(fpr, tpr)\n",
    "plt.figure(figsize=(8, 6))\n",
    "plt.plot(fpr, tpr, label= f'Decision Tree Classifier (area = {roc_auc:.2f}')\n",
    "plt.plot([0, 1], [0, 1], 'k--')\n",
    "plt.xlim([0.0, 1.0])\n",
    "plt.ylim([0.0, 1.05])\n",
    "plt.xlabel('False Positive Rate')\n",
    "plt.ylabel('True Positive Rate')\n",
    "plt.title('Receiver Operating Characteristic')\n",
    "plt.legend(loc='lower right')\n",
    "plt.show()"
   ]
  },
  {
   "cell_type": "markdown",
   "id": "9c108883",
   "metadata": {},
   "source": [
    "Random Forest with Scikit-learn training steps"
   ]
  },
  {
   "cell_type": "code",
   "execution_count": null,
   "id": "dcccfd7b",
   "metadata": {},
   "outputs": [],
   "source": [
    "#Random Forest Classifier\n",
    "rforest=RandomForestClassifier(class_weight= 'balanced',n_estimators=100)\n",
    "rforest.fit(X_train,y_train)\n",
    "y_pred=rforest.predict(X_test)\n",
    "y_pred_proba=rforest.predict_proba(X_test)[:,1]\n",
    "print(\"Random Forest Classifier\")\n",
    "print(\"Accuracy: \",accuracy_score(y_test,y_pred))\n",
    "print(\"Classification Report: \\n\",classification_report(y_test,y_pred))\n",
    "print(\"Confusion Matrix: \\n\",confusion_matrix(y_test,y_pred))\n",
    "print(\"ROC AUC Score: \",roc_auc_score(y_test,y_pred_proba))\n",
    "fpr, tpr, thresholds = roc_curve(y_test, y_pred_proba)\n",
    "roc_auc = auc(fpr, tpr)\n",
    "plt.figure(figsize=(8, 6))\n",
    "plt.plot(fpr, tpr, label= f'Random Forest Classifier (area = {roc_auc:.2f}')\n",
    "plt.plot([0, 1], [0, 1], 'k--')\n",
    "plt.xlim([0.0, 1.0])\n",
    "plt.ylim([0.0, 1.05])\n",
    "plt.xlabel('False Positive Rate')\n",
    "plt.ylabel('True Positive Rate')\n",
    "plt.title('Receiver Operating Characteristic')\n",
    "plt.legend(loc='lower right')\n",
    "plt.show()"
   ]
  },
  {
   "cell_type": "markdown",
   "id": "837c525f",
   "metadata": {},
   "source": [
    "Gradient Boosting with Scikit-learn training steps"
   ]
  },
  {
   "cell_type": "code",
   "execution_count": null,
   "id": "dedf0691",
   "metadata": {},
   "outputs": [],
   "source": [
    "#Gradient Boosting Classifier\n",
    "gbm=GradientBoostingClassifier()\n",
    "gbm.fit(X_train,y_train)\n",
    "y_pred=gbm.predict(X_test)\n",
    "y_pred_proba=gbm.predict_proba(X_test)[:,1]\n",
    "print(\"Gradient Boosting Classifier\")\n",
    "print(\"Accuracy: \",accuracy_score(y_test,y_pred))\n",
    "print(\"Classification Report: \\n\",classification_report(y_test,y_pred))\n",
    "print(\"Confusion Matrix: \\n\",confusion_matrix(y_test,y_pred))\n",
    "print(\"ROC AUC Score: \",roc_auc_score(y_test,y_pred_proba))\n",
    "fpr, tpr, thresholds = roc_curve(y_test, y_pred_proba)\n",
    "roc_auc = auc(fpr, tpr)\n",
    "plt.figure(figsize=(8, 6))\n",
    "sns.set_style('darkgrid')\n",
    "plt.plot(fpr, tpr, label= f'Gradient Boosting Classifier (area = {roc_auc:.2f}')\n",
    "plt.plot([0, 1], [0, 1], 'k--')\n",
    "plt.xlim([0.0, 1.0])\n",
    "plt.ylim([0.0, 1.05])\n",
    "plt.xlabel('False Positive Rate')\n",
    "plt.ylabel('True Positive Rate')\n",
    "plt.title('Receiver Operating Characteristic')\n",
    "plt.legend(loc='lower right')\n",
    "plt.show()"
   ]
  },
  {
   "cell_type": "markdown",
   "id": "208e0045",
   "metadata": {},
   "source": [
    "SVC with Scikit-learn training steps"
   ]
  },
  {
   "cell_type": "code",
   "execution_count": null,
   "id": "f2d2dc55",
   "metadata": {},
   "outputs": [],
   "source": [
    "#Support Vector Classifier\n",
    "svc=SVC(class_weight= 'balanced',probability=True)\n",
    "svc.fit(X_train,y_train)\n",
    "y_pred=svc.predict(X_test)\n",
    "y_pred_proba=svc.predict_proba(X_test)[:,1]\n",
    "print(\"Support Vector Classifier\")\n",
    "print(\"Accuracy: \",accuracy_score(y_test,y_pred))\n",
    "print(\"Classification Report: \\n\",classification_report(y_test,y_pred))\n",
    "print(\"Confusion Matrix: \\n\",confusion_matrix(y_test,y_pred))\n",
    "print(\"ROC AUC Score: \",roc_auc_score(y_test,y_pred_proba))\n",
    "fpr, tpr, thresholds = roc_curve(y_test, y_pred_proba)\n",
    "roc_auc = auc(fpr, tpr)\n",
    "plt.figure(figsize=(8, 6))\n",
    "plt.plot(fpr, tpr, label= f'Support Vector Classifier (area = {roc_auc:.2f}')\n",
    "plt.plot([0, 1], [0, 1], 'k--')\n",
    "plt.xlim([0.0, 1.0])\n",
    "plt.ylim([0.0, 1.05])\n",
    "plt.xlabel('False Positive Rate')\n",
    "plt.ylabel('True Positive Rate')\n",
    "plt.title('Receiver Operating Characteristic')\n",
    "plt.legend(loc='lower right')\n",
    "plt.show()"
   ]
  },
  {
   "cell_type": "markdown",
   "id": "f62a014b",
   "metadata": {},
   "source": [
    "GaussianNB with Scikit-learn training steps"
   ]
  },
  {
   "cell_type": "code",
   "execution_count": null,
   "id": "a02299d2",
   "metadata": {},
   "outputs": [],
   "source": [
    "#Gaussian Naive Bayes\n",
    "gnb=GaussianNB()\n",
    "gnb.fit(X_train,y_train)\n",
    "y_pred=gnb.predict(X_test)\n",
    "y_pred_proba=gnb.predict_proba(X_test)[:,1]\n",
    "print(\"Gaussian Naive Bayes\")\n",
    "print(\"Accuracy: \",accuracy_score(y_test,y_pred))\n",
    "print(\"Classification Report: \\n\",classification_report(y_test,y_pred))\n",
    "print(\"Confusion Matrix: \\n\",confusion_matrix(y_test,y_pred))\n",
    "print(\"ROC AUC Score: \",roc_auc_score(y_test,y_pred_proba))\n",
    "fpr, tpr, thresholds = roc_curve(y_test, y_pred_proba)\n",
    "roc_auc = auc(fpr, tpr)\n",
    "plt.figure(figsize=(8, 6))\n",
    "plt.plot(fpr, tpr, label= f'Gaussian Naive Bayes ( area = {roc_auc:.2f}')\n",
    "plt.plot([0, 1], [0, 1], 'k--')\n",
    "plt.xlim([0.0, 1.0])\n",
    "plt.ylim([0.0, 1.05])\n",
    "plt.xlabel('False Positive Rate')\n",
    "plt.ylabel('True Positive Rate')\n",
    "plt.title('Receiver Operating Characteristic')\n",
    "plt.legend(loc='lower right')\n",
    "plt.show()"
   ]
  },
  {
   "cell_type": "markdown",
   "id": "901f275f",
   "metadata": {},
   "source": [
    "KNeighbors with Scikit-learn training steps"
   ]
  },
  {
   "cell_type": "code",
   "execution_count": null,
   "id": "aac419f7",
   "metadata": {},
   "outputs": [],
   "source": [
    "#K Neighbors Classifier\n",
    "knn=KNeighborsClassifier()\n",
    "knn.fit(X_train,y_train)\n",
    "y_pred=knn.predict(X_test)\n",
    "y_pred_proba=knn.predict_proba(X_test)[:,1]\n",
    "print(\"K Neighbors Classifier\")\n",
    "print(\"Accuracy: \",accuracy_score(y_test,y_pred))\n",
    "print(\"Classification Report: \\n\",classification_report(y_test,y_pred))\n",
    "print(\"Confusion Matrix: \\n\",confusion_matrix(y_test,y_pred))\n",
    "print(\"ROC AUC Score: \",roc_auc_score(y_test,y_pred_proba))\n",
    "fpr, tpr, thresholds = roc_curve(y_test, y_pred_proba)\n",
    "roc_auc = auc(fpr, tpr)\n",
    "plt.figure(figsize=(8, 6))\n",
    "plt.plot(fpr, tpr, label='K Neighbors Classifier (area = {:.2f})'.format(roc_auc))\n",
    "plt.plot([0, 1], [0, 1], 'k--')\n",
    "plt.xlim([0.0, 1.0])\n",
    "plt.ylim([0.0, 1.05])\n",
    "plt.xlabel('False Positive Rate')\n",
    "plt.ylabel('True Positive Rate')\n",
    "plt.title('Receiver Operating Characteristic')\n",
    "plt.legend(loc='lower right')\n",
    "plt.show()"
   ]
  },
  {
   "cell_type": "code",
   "execution_count": null,
   "id": "525cc4bf",
   "metadata": {},
   "outputs": [],
   "source": [
    "# Create a DataFrame to store the results\n",
    "results = pd.DataFrame({\n",
    "    'Model': ['Logistic Regression', 'Decision Tree', 'Random Forest', 'Gradient Boosting', 'SVC', 'Gaussian Naive Bayes', 'K Neighbors'],\n",
    "    'Accuracy': [accuracy_score(y_test, logreg.predict(X_test)), \n",
    "                 accuracy_score(y_test, dtree.predict(X_test)), \n",
    "                 accuracy_score(y_test, rforest.predict(X_test)), \n",
    "                 accuracy_score(y_test, gbm.predict(X_test)), \n",
    "                 accuracy_score(y_test, svc.predict(X_test)), \n",
    "                 accuracy_score(y_test, gnb.predict(X_test)), \n",
    "                 accuracy_score(y_test, knn.predict(X_test))],\n",
    "    'ROC_AUC_Score': [roc_auc_score(y_test, logreg.predict_proba(X_test)[:, 1]), \n",
    "                      roc_auc_score(y_test, dtree.predict_proba(X_test)[:, 1]), \n",
    "                      roc_auc_score(y_test, rforest.predict_proba(X_test)[:, 1]), \n",
    "                      roc_auc_score(y_test, gbm.predict_proba(X_test)[:, 1]), \n",
    "                      roc_auc_score(y_test, svc.predict_proba(X_test)[:, 1]), \n",
    "                      roc_auc_score(y_test, gnb.predict_proba(X_test)[:, 1]), \n",
    "                      roc_auc_score(y_test, knn.predict_proba(X_test)[:, 1])]\n",
    "})"
   ]
  },
  {
   "cell_type": "code",
   "execution_count": null,
   "id": "7822452d",
   "metadata": {},
   "outputs": [],
   "source": [
    "# Sort the results by ROC_AUC_Score in descending order\n",
    "results = results.sort_values(by='ROC_AUC_Score', ascending = False,ignore_index = True)\n",
    "# Display the results\n",
    "print(results)"
   ]
  },
  {
   "cell_type": "code",
   "execution_count": null,
   "id": "80453959",
   "metadata": {},
   "outputs": [],
   "source": [
    "# Save the model\n",
    "joblib.dump(logreg, 'logreg_model.pkl')\n",
    "joblib.dump(dtree, 'dtree_model.pkl')\n",
    "joblib.dump(rforest, 'rforest_model.pkl')\n",
    "joblib.dump(gbm, 'gbm_model.pkl')\n",
    "joblib.dump(svc, 'svc_model.pkl')\n",
    "joblib.dump(gnb, 'gnb_model.pkl')\n",
    "joblib.dump(knn, 'knn_model.pkl')\n",
    "joblib.dump(pre_pipeline, 'pre_pipeline.pkl')\n",
    "joblib.dump(label_encoder, 'label_encoder.pkl')"
   ]
  },
  {
   "cell_type": "code",
   "execution_count": null,
   "id": "4d5260cc",
   "metadata": {},
   "outputs": [],
   "source": [
    "# Load the model\n",
    "logreg_ = joblib.load('logreg_model.pkl')\n",
    "dtree_ = joblib.load('dtree_model.pkl')\n",
    "rforest_ = joblib.load('rforest_model.pkl')\n",
    "gbm_ = joblib.load('gbm_model.pkl')\n",
    "svc_ = joblib.load('svc_model.pkl')\n",
    "gnb_ = joblib.load('gnb_model.pkl')\n",
    "knn_ = joblib.load('knn_model.pkl')"
   ]
  },
  {
   "cell_type": "code",
   "execution_count": null,
   "id": "8db8a728",
   "metadata": {},
   "outputs": [],
   "source": [
    "# Make predictions on new data\n",
    "new_data = pd.DataFrame({\n",
    "    'age': [30],\n",
    "    'balance': [1000],\n",
    "    'day': [15],\n",
    "    'duration': [200],\n",
    "    'campaign': [1],\n",
    "    'pdays': [999],\n",
    "    'previous': [0],\n",
    "    'job': ['admin.'],\n",
    "    'contact': ['cellular'],\n",
    "    'marital_status': ['single'],\n",
    "    'education': ['university.degree'],\n",
    "    'month': ['may'],\n",
    "    'housing_loan': ['yes'],\n",
    "    'personal_loan': ['no'],\n",
    "    'credit_default': ['no']\n",
    "})"
   ]
  },
  {
   "cell_type": "code",
   "execution_count": null,
   "id": "39ddf635",
   "metadata": {},
   "outputs": [],
   "source": [
    "# Preprocess the new data\n",
    "new_data = pd.DataFrame(pre_processor.transform(new_data), columns=pre_processor.get_feature_names_out())\n",
    "# Make predictions\n",
    "logreg_pred = logreg_.predict(new_data)\n",
    "dtree_pred = dtree_.predict(new_data)\n",
    "rforest_pred = rforest_.predict(new_data)\n",
    "gbm_pred = gbm_.predict(new_data)\n",
    "svc_pred = svc_.predict(new_data)\n",
    "gnb_pred = gnb_.predict(new_data)\n",
    "knn_pred = knn_.predict(new_data)\n",
    "# Print the predictions\n",
    "print(\"Logistic Regression Prediction: \", logreg_pred)\n",
    "print(\"Decision Tree Prediction: \", dtree_pred)\n",
    "print(\"Random Forest Prediction: \", rforest_pred)\n",
    "print(\"Gradient Boosting Prediction: \", gbm_pred)\n",
    "print(\"SVC Prediction: \", svc_pred)\n",
    "print(\"Gaussian Naive Bayes Prediction: \", gnb_pred)\n",
    "print(\"K Neighbors Prediction: \", knn_pred)"
   ]
  }
 ],
 "metadata": {
  "kernelspec": {
   "display_name": "clasfi",
   "language": "python",
   "name": "python3"
  },
  "language_info": {
   "name": "python"
  }
 },
 "nbformat": 4,
 "nbformat_minor": 5
}
