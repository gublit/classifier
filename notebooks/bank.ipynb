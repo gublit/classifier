{
 "cells": [
  {
   "cell_type": "markdown",
   "id": "eb681ff5",
   "metadata": {},
   "source": [
    "This notebook desined for tabular classification tasks with pandas and scikit-learn.\n",
    "It is a simple example of how to use pandas and scikit-learn to build a classification model using a tabular dataset. The code includes data preprocessing, model training, and evaluation steps.\n",
    "The dataset used in this example is the bank marketing dataset from the UCI Machine Learning Repository. The dataset contains information about a bank's marketing campaign and whether or not a customer subscribed to a term deposit.\n",
    "The goal is to predict whether a customer will subscribe to a term deposit based on their demographic and behavioral features.\n"
   ]
  },
  {
   "cell_type": "code",
   "execution_count": 1,
   "id": "91399d33",
   "metadata": {},
   "outputs": [
    {
     "name": "stderr",
     "output_type": "stream",
     "text": [
      "Matplotlib is building the font cache; this may take a moment.\n"
     ]
    }
   ],
   "source": [
    "# Import necessary libraries\n",
    "from sklearn.model_selection import train_test_split\n",
    "from sklearn.preprocessing import StandardScaler\n",
    "from sklearn.preprocessing import LabelEncoder\n",
    "from sklearn.preprocessing import OneHotEncoder\n",
    "from sklearn.compose import ColumnTransformer\n",
    "from sklearn.pipeline import Pipeline\n",
    "#import numpy as np\n",
    "import pandas as pd\n",
    "import matplotlib.pyplot as plt\n",
    "import seaborn as sns\n",
    "\n"
   ]
  },
  {
   "cell_type": "code",
   "execution_count": 19,
   "id": "b91faeb8",
   "metadata": {},
   "outputs": [
    {
     "name": "stdout",
     "output_type": "stream",
     "text": [
      "    age           job   marital  education default  balance housing loan  \\\n",
      "0    58    management   married   tertiary      no     2143     yes   no   \n",
      "1    44    technician    single  secondary      no       29     yes   no   \n",
      "2    33  entrepreneur   married  secondary      no        2     yes  yes   \n",
      "3    47   blue-collar   married    unknown      no     1506     yes   no   \n",
      "4    33       unknown    single    unknown      no        1      no   no   \n",
      "5    35    management   married   tertiary      no      231     yes   no   \n",
      "6    28    management    single   tertiary      no      447     yes  yes   \n",
      "7    42  entrepreneur  divorced   tertiary     yes        2     yes   no   \n",
      "8    58       retired   married    primary      no      121     yes   no   \n",
      "9    43    technician    single  secondary      no      593     yes   no   \n",
      "10   41        admin.  divorced  secondary      no      270     yes   no   \n",
      "11   29        admin.    single  secondary      no      390     yes   no   \n",
      "12   53    technician   married  secondary      no        6     yes   no   \n",
      "13   58    technician   married    unknown      no       71     yes   no   \n",
      "14   57      services   married  secondary      no      162     yes   no   \n",
      "\n",
      "    contact  day month  duration  campaign  pdays  previous poutcome   y  \n",
      "0   unknown    5   may       261         1     -1         0  unknown  no  \n",
      "1   unknown    5   may       151         1     -1         0  unknown  no  \n",
      "2   unknown    5   may        76         1     -1         0  unknown  no  \n",
      "3   unknown    5   may        92         1     -1         0  unknown  no  \n",
      "4   unknown    5   may       198         1     -1         0  unknown  no  \n",
      "5   unknown    5   may       139         1     -1         0  unknown  no  \n",
      "6   unknown    5   may       217         1     -1         0  unknown  no  \n",
      "7   unknown    5   may       380         1     -1         0  unknown  no  \n",
      "8   unknown    5   may        50         1     -1         0  unknown  no  \n",
      "9   unknown    5   may        55         1     -1         0  unknown  no  \n",
      "10  unknown    5   may       222         1     -1         0  unknown  no  \n",
      "11  unknown    5   may       137         1     -1         0  unknown  no  \n",
      "12  unknown    5   may       517         1     -1         0  unknown  no  \n",
      "13  unknown    5   may        71         1     -1         0  unknown  no  \n",
      "14  unknown    5   may       174         1     -1         0  unknown  no  \n"
     ]
    }
   ],
   "source": [
    "data=pd.read_csv('/home/tisinr/MEGA/Dev/models/classifier/dataset/bank.csv',header=0, sep=';')\n",
    "# Display the first few rows of the dataset\n",
    "print(data.head(15))"
   ]
  },
  {
   "cell_type": "code",
   "execution_count": 20,
   "id": "fca7c7d0",
   "metadata": {},
   "outputs": [],
   "source": [
    "#Rename some columns\n",
    "data.rename(columns={'marital':'marital_status','default':'credit_default','housing':'housing_loan','loan':'personal_loan','y':'target'}, inplace=True)\n",
    "\n",
    "#change data types\n",
    "data['target'] = data['target'].astype('category')\n",
    "data['marital_status'] = data['marital_status'].astype('category')\n",
    "data['education'] = data['education'].astype('category')\n",
    "data['job'] = data['job'].astype('category')\n",
    "data['contact'] = data['contact'].astype('category')\n",
    "data['month'] = data['month'].astype('category')\n",
    "data['day'] = data['day'].astype('category')\n",
    "data['credit_default'] = data['credit_default'].astype('category')\n",
    "data['housing_loan'] = data['housing_loan'].astype('category')\n",
    "data['personal_loan'] = data['personal_loan'].astype('category')"
   ]
  },
  {
   "cell_type": "code",
   "execution_count": 22,
   "id": "b59bfaed",
   "metadata": {},
   "outputs": [],
   "source": [
    "data.replace('unknown', pd.NA, inplace=True)"
   ]
  },
  {
   "cell_type": "code",
   "execution_count": 24,
   "id": "ff4a5ef6",
   "metadata": {},
   "outputs": [
    {
     "data": {
      "text/plain": [
       "age                   0\n",
       "job                 288\n",
       "marital_status        0\n",
       "education          1857\n",
       "credit_default        0\n",
       "balance               0\n",
       "housing_loan          0\n",
       "personal_loan         0\n",
       "contact           13020\n",
       "day                   0\n",
       "month                 0\n",
       "duration              0\n",
       "campaign              0\n",
       "pdays                 0\n",
       "previous              0\n",
       "poutcome          36959\n",
       "target                0\n",
       "dtype: int64"
      ]
     },
     "execution_count": 24,
     "metadata": {},
     "output_type": "execute_result"
    }
   ],
   "source": [
    "data.isnull().sum()"
   ]
  },
  {
   "cell_type": "markdown",
   "id": "31151b5b",
   "metadata": {},
   "source": [
    "Exploratory Data Analysis with Pandas"
   ]
  },
  {
   "cell_type": "code",
   "execution_count": 25,
   "id": "fd69fa4d",
   "metadata": {},
   "outputs": [
    {
     "name": "stdout",
     "output_type": "stream",
     "text": [
      "<class 'pandas.core.frame.DataFrame'>\n",
      "RangeIndex: 45211 entries, 0 to 45210\n",
      "Data columns (total 17 columns):\n",
      " #   Column          Non-Null Count  Dtype   \n",
      "---  ------          --------------  -----   \n",
      " 0   age             45211 non-null  int64   \n",
      " 1   job             44923 non-null  category\n",
      " 2   marital_status  45211 non-null  category\n",
      " 3   education       43354 non-null  category\n",
      " 4   credit_default  45211 non-null  category\n",
      " 5   balance         45211 non-null  int64   \n",
      " 6   housing_loan    45211 non-null  category\n",
      " 7   personal_loan   45211 non-null  category\n",
      " 8   contact         32191 non-null  category\n",
      " 9   day             45211 non-null  category\n",
      " 10  month           45211 non-null  category\n",
      " 11  duration        45211 non-null  int64   \n",
      " 12  campaign        45211 non-null  int64   \n",
      " 13  pdays           45211 non-null  int64   \n",
      " 14  previous        45211 non-null  int64   \n",
      " 15  poutcome        8252 non-null   object  \n",
      " 16  target          45211 non-null  category\n",
      "dtypes: category(10), int64(6), object(1)\n",
      "memory usage: 2.8+ MB\n"
     ]
    }
   ],
   "source": [
    "data.info()"
   ]
  },
  {
   "cell_type": "code",
   "execution_count": 7,
   "id": "267def51",
   "metadata": {},
   "outputs": [
    {
     "data": {
      "text/html": [
       "<div>\n",
       "<style scoped>\n",
       "    .dataframe tbody tr th:only-of-type {\n",
       "        vertical-align: middle;\n",
       "    }\n",
       "\n",
       "    .dataframe tbody tr th {\n",
       "        vertical-align: top;\n",
       "    }\n",
       "\n",
       "    .dataframe thead th {\n",
       "        text-align: right;\n",
       "    }\n",
       "</style>\n",
       "<table border=\"1\" class=\"dataframe\">\n",
       "  <thead>\n",
       "    <tr style=\"text-align: right;\">\n",
       "      <th></th>\n",
       "      <th>age</th>\n",
       "      <th>balance</th>\n",
       "      <th>day</th>\n",
       "      <th>duration</th>\n",
       "      <th>campaign</th>\n",
       "      <th>pdays</th>\n",
       "      <th>previous</th>\n",
       "    </tr>\n",
       "  </thead>\n",
       "  <tbody>\n",
       "    <tr>\n",
       "      <th>count</th>\n",
       "      <td>45211.000000</td>\n",
       "      <td>45211.000000</td>\n",
       "      <td>45211.000000</td>\n",
       "      <td>45211.000000</td>\n",
       "      <td>45211.000000</td>\n",
       "      <td>45211.000000</td>\n",
       "      <td>45211.000000</td>\n",
       "    </tr>\n",
       "    <tr>\n",
       "      <th>mean</th>\n",
       "      <td>40.936210</td>\n",
       "      <td>1362.272058</td>\n",
       "      <td>15.806419</td>\n",
       "      <td>258.163080</td>\n",
       "      <td>2.763841</td>\n",
       "      <td>40.197828</td>\n",
       "      <td>0.580323</td>\n",
       "    </tr>\n",
       "    <tr>\n",
       "      <th>std</th>\n",
       "      <td>10.618762</td>\n",
       "      <td>3044.765829</td>\n",
       "      <td>8.322476</td>\n",
       "      <td>257.527812</td>\n",
       "      <td>3.098021</td>\n",
       "      <td>100.128746</td>\n",
       "      <td>2.303441</td>\n",
       "    </tr>\n",
       "    <tr>\n",
       "      <th>min</th>\n",
       "      <td>18.000000</td>\n",
       "      <td>-8019.000000</td>\n",
       "      <td>1.000000</td>\n",
       "      <td>0.000000</td>\n",
       "      <td>1.000000</td>\n",
       "      <td>-1.000000</td>\n",
       "      <td>0.000000</td>\n",
       "    </tr>\n",
       "    <tr>\n",
       "      <th>25%</th>\n",
       "      <td>33.000000</td>\n",
       "      <td>72.000000</td>\n",
       "      <td>8.000000</td>\n",
       "      <td>103.000000</td>\n",
       "      <td>1.000000</td>\n",
       "      <td>-1.000000</td>\n",
       "      <td>0.000000</td>\n",
       "    </tr>\n",
       "    <tr>\n",
       "      <th>50%</th>\n",
       "      <td>39.000000</td>\n",
       "      <td>448.000000</td>\n",
       "      <td>16.000000</td>\n",
       "      <td>180.000000</td>\n",
       "      <td>2.000000</td>\n",
       "      <td>-1.000000</td>\n",
       "      <td>0.000000</td>\n",
       "    </tr>\n",
       "    <tr>\n",
       "      <th>75%</th>\n",
       "      <td>48.000000</td>\n",
       "      <td>1428.000000</td>\n",
       "      <td>21.000000</td>\n",
       "      <td>319.000000</td>\n",
       "      <td>3.000000</td>\n",
       "      <td>-1.000000</td>\n",
       "      <td>0.000000</td>\n",
       "    </tr>\n",
       "    <tr>\n",
       "      <th>max</th>\n",
       "      <td>95.000000</td>\n",
       "      <td>102127.000000</td>\n",
       "      <td>31.000000</td>\n",
       "      <td>4918.000000</td>\n",
       "      <td>63.000000</td>\n",
       "      <td>871.000000</td>\n",
       "      <td>275.000000</td>\n",
       "    </tr>\n",
       "  </tbody>\n",
       "</table>\n",
       "</div>"
      ],
      "text/plain": [
       "                age        balance           day      duration      campaign  \\\n",
       "count  45211.000000   45211.000000  45211.000000  45211.000000  45211.000000   \n",
       "mean      40.936210    1362.272058     15.806419    258.163080      2.763841   \n",
       "std       10.618762    3044.765829      8.322476    257.527812      3.098021   \n",
       "min       18.000000   -8019.000000      1.000000      0.000000      1.000000   \n",
       "25%       33.000000      72.000000      8.000000    103.000000      1.000000   \n",
       "50%       39.000000     448.000000     16.000000    180.000000      2.000000   \n",
       "75%       48.000000    1428.000000     21.000000    319.000000      3.000000   \n",
       "max       95.000000  102127.000000     31.000000   4918.000000     63.000000   \n",
       "\n",
       "              pdays      previous  \n",
       "count  45211.000000  45211.000000  \n",
       "mean      40.197828      0.580323  \n",
       "std      100.128746      2.303441  \n",
       "min       -1.000000      0.000000  \n",
       "25%       -1.000000      0.000000  \n",
       "50%       -1.000000      0.000000  \n",
       "75%       -1.000000      0.000000  \n",
       "max      871.000000    275.000000  "
      ]
     },
     "execution_count": 7,
     "metadata": {},
     "output_type": "execute_result"
    }
   ],
   "source": [
    "data.describe()"
   ]
  },
  {
   "cell_type": "code",
   "execution_count": 12,
   "id": "6aaa1ef5",
   "metadata": {},
   "outputs": [
    {
     "data": {
      "image/png": "[encoded data removed]",
      "text/plain": [
       "<Figure size 800x600 with 1 Axes>"
      ]
     },
     "metadata": {},
     "output_type": "display_data"
    }
   ],
   "source": [
    "#Distribution plot of target variable\n",
    "plt.figure(figsize=(8, 6))\n",
    "data['target'].value_counts().plot(kind='bar')\n",
    "plt.title('Distribution of Target Variable')\n",
    "plt.xlabel('target')\n",
    "plt.ylabel('Count')\n",
    "plt.show()\n",
    "\n"
   ]
  },
  {
   "cell_type": "code",
   "execution_count": 13,
   "id": "8659cfdf",
   "metadata": {},
   "outputs": [
    {
     "data": {
      "text/plain": [
       "age                int64\n",
       "job               object\n",
       "marital_status    object\n",
       "education         object\n",
       "credit_default    object\n",
       "balance            int64\n",
       "housing_loan      object\n",
       "personal_loan     object\n",
       "contact           object\n",
       "day                int64\n",
       "month             object\n",
       "duration           int64\n",
       "campaign           int64\n",
       "pdays              int64\n",
       "previous           int64\n",
       "poutcome          object\n",
       "target            object\n",
       "dtype: object"
      ]
     },
     "execution_count": 13,
     "metadata": {},
     "output_type": "execute_result"
    }
   ],
   "source": [
    "data.dtypes"
   ]
  },
  {
   "cell_type": "code",
   "execution_count": null,
   "id": "a649178a",
   "metadata": {},
   "outputs": [],
   "source": [
    "data['poutcome'].value_counts()"
   ]
  },
  {
   "cell_type": "code",
   "execution_count": null,
   "id": "ba14627c",
   "metadata": {},
   "outputs": [],
   "source": [
    "##category distribution\n",
    "data['job'].value_counts()/len(data)*100\n"
   ]
  },
  {
   "cell_type": "code",
   "execution_count": null,
   "id": "b0cd819f",
   "metadata": {},
   "outputs": [],
   "source": [
    "X=data.drop(columns=['y'])\n",
    "y=data['y']\n",
    "print(X.shape)\n",
    "print(y.shape)"
   ]
  },
  {
   "cell_type": "code",
   "execution_count": null,
   "id": "c57303f3",
   "metadata": {},
   "outputs": [],
   "source": [
    "data['y'].value_counts()"
   ]
  },
  {
   "cell_type": "code",
   "execution_count": null,
   "id": "e772d6d6",
   "metadata": {},
   "outputs": [],
   "source": [
    "preprocessor = ColumnTransformer(\n",
    "    transformers=[\n",
    "        ('cat', SimpleImputer(strategy='most_frequent'), ['category'])\n",
    "    ])"
   ]
  },
  {
   "cell_type": "code",
   "execution_count": null,
   "id": "890f64fc",
   "metadata": {},
   "outputs": [],
   "source": [
    "# Convert labels to integers (0, 1, ...)\n",
    "encoder = LabelEncoder()\n",
    "y_encoded = encoder.fit_transform(y)\n",
    "\n",
    "print(y_encoded)  # Output: [0 1 0]"
   ]
  },
  {
   "cell_type": "code",
   "execution_count": null,
   "id": "316d05a4",
   "metadata": {},
   "outputs": [],
   "source": [
    "# Fill missing values with a placeholder (e.g., 'missing') before encoding\n",
    "data_filled = data[['job', 'marital', 'education', 'default', 'housing', 'loan', 'contact', 'month', 'poutcome']].fillna('missing')\n",
    "\n",
    "# Convert to one-hot encoded format\n",
    "encoder = OneHotEncoder()\n",
    "data_encoded = encoder.fit_transform(data_filled).toarray()\n"
   ]
  },
  {
   "cell_type": "code",
   "execution_count": null,
   "id": "aa6c47a6",
   "metadata": {},
   "outputs": [],
   "source": [
    "# Convert the encoded data back to a DataFrame\n",
    "data_encoded_df = pd.DataFrame(data_encoded, columns=encoder.get_feature_names_out(data_filled.columns))\n",
    "# Concatenate the encoded data with the original DataFrame\n",
    "data_encoded_df"
   ]
  },
  {
   "cell_type": "code",
   "execution_count": null,
   "id": "7c8b71df",
   "metadata": {},
   "outputs": [],
   "source": [
    "data_encoded_df.head"
   ]
  },
  {
   "cell_type": "code",
   "execution_count": null,
   "id": "4cab18c9",
   "metadata": {},
   "outputs": [],
   "source": [
    "data_encoded.view()"
   ]
  },
  {
   "cell_type": "code",
   "execution_count": null,
   "id": "7196fd45",
   "metadata": {},
   "outputs": [],
   "source": []
  },
  {
   "cell_type": "code",
   "execution_count": null,
   "id": "0126da91",
   "metadata": {},
   "outputs": [],
   "source": [
    "X_train,X_test,y_train,y_test = train_test_split(X,y,train_size=0.8,stratify=y,random_state=78)"
   ]
  },
  {
   "cell_type": "code",
   "execution_count": null,
   "id": "e373566c",
   "metadata": {},
   "outputs": [],
   "source": [
    "y_test.shape"
   ]
  },
  {
   "cell_type": "code",
   "execution_count": null,
   "id": "b9a192fa",
   "metadata": {},
   "outputs": [],
   "source": [
    "X_train.shape"
   ]
  },
  {
   "cell_type": "code",
   "execution_count": null,
   "id": "c81f21d1",
   "metadata": {},
   "outputs": [],
   "source": [
    "y_train.shape"
   ]
  },
  {
   "cell_type": "code",
   "execution_count": null,
   "id": "9d449a42",
   "metadata": {},
   "outputs": [],
   "source": [
    "X_test.info\n"
   ]
  },
  {
   "cell_type": "code",
   "execution_count": null,
   "id": "de5373ed",
   "metadata": {},
   "outputs": [],
   "source": []
  }
 ],
 "metadata": {
  "kernelspec": {
   "display_name": "ml_clasfi",
   "language": "python",
   "name": "python3"
  },
  "language_info": {
   "codemirror_mode": {
    "name": "ipython",
    "version": 3
   },
   "file_extension": ".py",
   "mimetype": "text/x-python",
   "name": "python",
   "nbconvert_exporter": "python",
   "pygments_lexer": "ipython3",
   "version": "3.12.9"
  }
 },
 "nbformat": 4,
 "nbformat_minor": 5
}
