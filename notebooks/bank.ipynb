{
 "cells": [
  {
   "cell_type": "markdown",
   "id": "eb681ff5",
   "metadata": {},
   "source": [
    "This notebook is desined for tabular classification tasks with pandas and scikit-learn.\n",
    "It is a simple example of how to use pandas and scikit-learn to build a classification model using a tabular dataset. The code includes data preprocessing, model training, and evaluation steps.\n",
    "The dataset used in this example is the bank marketing dataset from the UCI Machine Learning Repository. The dataset contains information about a bank's marketing campaign and whether or not a customer subscribed to a term deposit.\n",
    "The goal is to predict whether a customer will subscribe to a term deposit based on their demographic and behavioral features.\n"
   ]
  },
  {
   "cell_type": "code",
   "execution_count": null,
   "id": "91399d33",
   "metadata": {},
   "outputs": [],
   "source": [
    "# Import necessary libraries\n",
    "from sklearn.linear_model import LogisticRegression\n",
    "from sklearn.tree import DecisionTreeClassifier\n",
    "from sklearn.ensemble import RandomForestClassifier\n",
    "from sklearn.ensemble import GradientBoostingClassifier\n",
    "from sklearn.svm import SVC\n",
    "from sklearn.naive_bayes import GaussianNB\n",
    "from sklearn.neighbors import KNeighborsClassifier\n",
    "from sklearn.metrics import accuracy_score, classification_report, confusion_matrix, roc_auc_score, roc_curve,auc\n",
    "from sklearn.model_selection import train_test_split\n",
    "from sklearn.preprocessing import StandardScaler,OneHotEncoder,LabelEncoder\n",
    "from sklearn.compose import ColumnTransformer\n",
    "from sklearn.pipeline import Pipeline\n",
    "from imblearn.over_sampling import SMOTE\n",
    "import numpy as np\n",
    "import pandas as pd\n",
    "import matplotlib.pyplot as plt\n",
    "import seaborn as sns\n",
    "import joblib\n",
    "\n"
   ]
  },
  {
   "cell_type": "code",
   "execution_count": null,
   "id": "b91faeb8",
   "metadata": {},
   "outputs": [],
   "source": [
    "data=pd.read_csv('/home/tisinr/MEGA/Dev/models/classifier/dataset/bank.csv',header=0, sep=';')\n",
    "# Display the first few rows of the dataset\n",
    "print(data.head())"
   ]
  },
  {
   "cell_type": "code",
   "execution_count": null,
   "id": "95e789dd",
   "metadata": {},
   "outputs": [],
   "source": [
    "def rename_n_change(data):\n",
    "    # Rename columns for better readability\n",
    "    data.rename(columns={\n",
    "        'marital':'marital_status',\n",
    "        'default':'credit_default',\n",
    "        'housing':'housing_loan',\n",
    "        'loan':'personal_loan',\n",
    "        'y':'target'}, inplace=True)\n",
    "    #change data types\n",
    "    data['target'] = data['target'].astype('category')\n",
    "    data['marital_status'] = data['marital_status'].astype('category')\n",
    "    data['education'] = data['education'].astype('category')\n",
    "    data['job'] = data['job'].astype('category')\n",
    "    data['contact'] = data['contact'].astype('category')\n",
    "    data['month'] = data['month'].astype('category')\n",
    "    data['day'] = data['day'].astype('category')\n",
    "    data['credit_default'] = data['credit_default'].astype('category')\n",
    "    data['housing_loan'] = data['housing_loan'].astype('category')\n",
    "    data['personal_loan'] = data['personal_loan'].astype('category')\n",
    "    return data\n",
    "data=rename_n_change(data)"
   ]
  },
  {
   "cell_type": "code",
   "execution_count": null,
   "id": "92a551bb",
   "metadata": {},
   "outputs": [],
   "source": [
    "data['poutcome'].value_counts(dropna=False)"
   ]
  },
  {
   "cell_type": "code",
   "execution_count": null,
   "id": "02ef2926",
   "metadata": {},
   "outputs": [],
   "source": [
    "data.head()"
   ]
  },
  {
   "cell_type": "code",
   "execution_count": null,
   "id": "ff4a5ef6",
   "metadata": {},
   "outputs": [],
   "source": [
    "data.isnull().sum()"
   ]
  },
  {
   "cell_type": "markdown",
   "id": "9ab84ac5",
   "metadata": {},
   "source": [
    "Determine if data is imbalance"
   ]
  },
  {
   "cell_type": "code",
   "execution_count": null,
   "id": "341a8081",
   "metadata": {},
   "outputs": [],
   "source": [
    "data['target'].value_counts()/len(data)*100"
   ]
  },
  {
   "cell_type": "code",
   "execution_count": null,
   "id": "5debbc34",
   "metadata": {},
   "outputs": [],
   "source": [
    "data['contact'].value_counts()/len(data)*100"
   ]
  },
  {
   "cell_type": "code",
   "execution_count": null,
   "id": "a35722bf",
   "metadata": {},
   "outputs": [],
   "source": [
    "def na_n_fill(data):\n",
    "    # Replace 'unknown' in 'contact' column with 'undefined'\n",
    "    data['contact'] = data['contact'].replace('unknown', 'undefine')\n",
    "    data['job'].fillna(data['job'].mode()[0], inplace=True)\n",
    "    data['education'].fillna(data['education'].mode()[0], inplace=True)\n",
    "    data.drop('poutcome', axis=1, inplace=True)\n",
    "    return data\n",
    "\n",
    "data = na_n_fill(data)\n"
   ]
  },
  {
   "cell_type": "code",
   "execution_count": null,
   "id": "bba9e7bc",
   "metadata": {},
   "outputs": [],
   "source": [
    "data.head"
   ]
  },
  {
   "cell_type": "markdown",
   "id": "31151b5b",
   "metadata": {},
   "source": [
    "Exploratory Data Analysis with Pandas"
   ]
  },
  {
   "cell_type": "code",
   "execution_count": null,
   "id": "fd69fa4d",
   "metadata": {},
   "outputs": [],
   "source": [
    "data.info()"
   ]
  },
  {
   "cell_type": "code",
   "execution_count": null,
   "id": "267def51",
   "metadata": {},
   "outputs": [],
   "source": [
    "data.describe()"
   ]
  },
  {
   "cell_type": "code",
   "execution_count": null,
   "id": "6aaa1ef5",
   "metadata": {},
   "outputs": [],
   "source": [
    "#Distribution plot of target variable\n",
    "plt.figure(figsize=(8, 6))\n",
    "sns.set_style('darkgrid')\n",
    "sns.countplot(x='target', data=data)\n",
    "plt.title('Distribution of Target Variable')\n",
    "plt.xlabel('target')\n",
    "plt.ylabel('Count')\n",
    "plt.show()\n"
   ]
  },
  {
   "cell_type": "code",
   "execution_count": null,
   "id": "8eef042c",
   "metadata": {},
   "outputs": [],
   "source": [
    "plt.figure(figsize=(8, 6))\n",
    "data['housing_loan'].value_counts().plot(kind='bar',color=['blue', 'orange'])\n",
    "plt.title('Distribution of Housing Loan')\n",
    "plt.xlabel('Housing Loan')\n",
    "plt.ylabel('Count')\n",
    "plt.show()"
   ]
  },
  {
   "cell_type": "code",
   "execution_count": null,
   "id": "7df5778d",
   "metadata": {},
   "outputs": [],
   "source": [
    "# Distribution plot of numeric features\n",
    "plt.figure(figsize=(12, 8))\n",
    "numeric_ft = data[['age', 'balance', 'day', 'duration', 'campaign', 'pdays', 'previous']]\n",
    "sns.pairplot(numeric_ft)\n",
    "plt.title('Pairplot of Numeric Features')\n",
    "plt.show()\n"
   ]
  },
  {
   "cell_type": "code",
   "execution_count": null,
   "id": "2da4b96f",
   "metadata": {},
   "outputs": [],
   "source": [
    "#Correlation matrix for numeric features\n",
    "plt.figure(figsize=(12, 8))\n",
    "corr_matrix = numeric_ft.corr()\n",
    "sns.heatmap(corr_matrix, annot=True, cmap='coolwarm', fmt='.2f')\n",
    "plt.title('Correlation Matrix')\n",
    "plt.show()\n"
   ]
  },
  {
   "cell_type": "code",
   "execution_count": null,
   "id": "f13299fa",
   "metadata": {},
   "outputs": [],
   "source": [
    "def plot_categorical_distribution(data, column):\n",
    "    plt.figure(figsize=(8, 6))\n",
    "    sns.countplot(x=column, data=data)\n",
    "    plt.title(f'Distribution of {column}')\n",
    "    plt.xlabel(column)\n",
    "    plt.ylabel('Count')\n",
    "    plt.show()\n",
    "plot_categorical_distribution(data, 'job')\n",
    "plot_categorical_distribution(data, 'marital_status')\n",
    "plot_categorical_distribution(data, 'education')\n",
    "plot_categorical_distribution(data, 'contact')\n",
    "plot_categorical_distribution(data, 'month')\n",
    "plot_categorical_distribution(data, 'day')\n",
    "plot_categorical_distribution(data, 'credit_default')\n",
    "plot_categorical_distribution(data, 'housing_loan')\n",
    "plot_categorical_distribution(data, 'personal_loan')\n",
    "plot_categorical_distribution(data, 'target')\n",
    "# Function to plot categorical features against the target variable\n",
    "def plot_categorical_vs_target(data, column):\n",
    "    plt.figure(figsize=(8, 6))\n",
    "    sns.countplot(x=column, hue='target', data=data)\n",
    "    plt.title(f'{column} vs Target Variable')\n",
    "    plt.xlabel(column)\n",
    "    plt.ylabel('Count')\n",
    "    plt.legend(title='Target', loc='upper right')\n",
    "    plt.show()\n",
    "plot_categorical_vs_target(data, 'job')\n",
    "plot_categorical_vs_target(data, 'marital_status')\n",
    "plot_categorical_vs_target(data, 'education') \n",
    "plot_categorical_vs_target(data, 'contact')\n",
    "plot_categorical_vs_target(data, 'month')\n",
    "plot_categorical_vs_target(data, 'day')\n",
    "plot_categorical_vs_target(data, 'credit_default')\n",
    "plot_categorical_vs_target(data, 'housing_loan')\n",
    "plot_categorical_vs_target(data, 'personal_loan')\n",
    "# Function to plot numeric features against the target variable\n",
    "def plot_numeric_vs_target(data, column):\n",
    "    plt.figure(figsize=(8, 6))\n",
    "    sns.boxplot(x='target', y=column, data=data)\n",
    "    plt.title(f'{column} vs Target Variable')\n",
    "    plt.xlabel('Target')\n",
    "    plt.ylabel(column)\n",
    "    plt.show()\n",
    "plot_numeric_vs_target(data, 'age')\n",
    "plot_numeric_vs_target(data, 'balance')\n",
    "plot_numeric_vs_target(data, 'day')\n",
    "plot_numeric_vs_target(data, 'duration')\n",
    "plot_numeric_vs_target(data, 'campaign')\n",
    "plot_numeric_vs_target(data, 'pdays')\n",
    "plot_numeric_vs_target(data, 'previous')\n",
    "# Function to plot the distribution of numeric features\n",
    "def plot_numeric_distribution(data, column):\n",
    "    plt.figure(figsize=(8, 6))\n",
    "    sns.histplot(data[column], bins=30, kde=True)\n",
    "    plt.title(f'Distribution of {column}')\n",
    "    plt.xlabel(column)\n",
    "    plt.ylabel('Count')\n",
    "    plt.show()\n",
    "plot_numeric_distribution(data, 'age')\n",
    "plot_numeric_distribution(data, 'balance')\n",
    "plot_numeric_distribution(data, 'day')\n",
    "plot_numeric_distribution(data, 'duration')\n",
    "plot_numeric_distribution(data, 'campaign')\n",
    "plot_numeric_distribution(data, 'pdays')\n",
    "plot_numeric_distribution(data, 'previous')\n"
   ]
  },
  {
   "cell_type": "markdown",
   "id": "a3a463e1",
   "metadata": {},
   "source": [
    "Assign features and labels"
   ]
  },
  {
   "cell_type": "code",
   "execution_count": null,
   "id": "b0cd819f",
   "metadata": {},
   "outputs": [],
   "source": [
    "X=data.drop(columns=['target'])\n",
    "y=data['target']\n",
    "print(X.shape)\n",
    "print(y.shape)"
   ]
  },
  {
   "cell_type": "markdown",
   "id": "c8bbcf42",
   "metadata": {},
   "source": [
    "Apply Preprocessing to Data"
   ]
  },
  {
   "cell_type": "code",
   "execution_count": null,
   "id": "8b706feb",
   "metadata": {},
   "outputs": [],
   "source": [
    "# Create a pipeline for preprocessing\n",
    "numeric_features = ['age', 'balance', 'day', 'duration', 'campaign', 'pdays', 'previous']\n",
    "categorical_features = ['job', 'marital_status', 'education', 'month', 'housing_loan', 'personal_loan','contact','credit_default']\n",
    "# Create a column transformer to apply different preprocessing steps to different columns\n",
    "pre_processor = ColumnTransformer(\n",
    "    transformers=[\n",
    "        ('num', StandardScaler(), numeric_features),\n",
    "        ('cat', OneHotEncoder(handle_unknown='ignore'), categorical_features)\n",
    "    ]\n",
    ")\n",
    "# Create a pipeline that first applies the preprocessor and then fits a classifier\n",
    "pre_pipeline = Pipeline(steps=[\n",
    "    ('preprocessor', pre_processor)\n",
    "])"
   ]
  },
  {
   "cell_type": "code",
   "execution_count": null,
   "id": "1ab63846",
   "metadata": {},
   "outputs": [],
   "source": [
    "#Split the data into training and testing sets\n",
    "X_train,X_test,y_train,y_test = train_test_split(X,y,train_size=0.8,stratify=y,random_state=78)"
   ]
  },
  {
   "cell_type": "code",
   "execution_count": null,
   "id": "34fff263",
   "metadata": {},
   "outputs": [],
   "source": [
    "# Label encode the target variable\n",
    "label_encoder = LabelEncoder()\n",
    "y_train = label_encoder.fit_transform(y_train)\n",
    "y_test = label_encoder.transform(y_test)"
   ]
  },
  {
   "cell_type": "code",
   "execution_count": null,
   "id": "6d1908c7",
   "metadata": {},
   "outputs": [],
   "source": [
    "# Fit preprocessing on training data and transform both sets\n",
    "X_train = pre_pipeline.fit_transform(X_train)\n",
    "X_test = pre_pipeline.transform(X_test)  # No fitting on test data!"
   ]
  },
  {
   "cell_type": "code",
   "execution_count": null,
   "id": "b9a192fa",
   "metadata": {},
   "outputs": [],
   "source": [
    "print(X_train.shape)\n",
    "print(X_test.shape)\n"
   ]
  },
  {
   "cell_type": "code",
   "execution_count": null,
   "id": "d9c3a7b3",
   "metadata": {},
   "outputs": [],
   "source": [
    "smote = SMOTE()\n",
    "X_resampled, y_resampled = smote.fit_resample(X_train, y_train)"
   ]
  },
  {
   "cell_type": "markdown",
   "id": "eddf7fb3",
   "metadata": {},
   "source": [
    "Logistic Regression with Scikit-learn training steps"
   ]
  },
  {
   "cell_type": "code",
   "execution_count": null,
   "id": "06006c52",
   "metadata": {},
   "outputs": [],
   "source": [
    "#Instantiate and train\n",
    "logreg=LogisticRegression(class_weight= 'balanced')\n",
    "logreg.fit(X_resampled,y_resampled)"
   ]
  },
  {
   "cell_type": "code",
   "execution_count": null,
   "id": "a2d376cc",
   "metadata": {},
   "outputs": [],
   "source": [
    "# Predict, Evaluate and plot\n",
    "y_pred=logreg.predict(X_test)\n",
    "y_pred_proba=logreg.predict_proba(X_test)[:,1]\n",
    "print(\"Logistic Regression\")\n",
    "print(\"Accuracy: \",accuracy_score(y_test,y_pred))\n",
    "print(\"Classification Report: \\n\",classification_report(y_test,y_pred))\n",
    "print(\"Confusion Matrix: \\n\",confusion_matrix(y_test,y_pred))\n",
    "print(\"ROC_AUC_Score: \",roc_auc_score(y_test,y_pred_proba))\n",
    "fpr, tpr, thresholds = roc_curve(y_test, y_pred_proba)\n",
    "roc_auc = auc(fpr, tpr)\n",
    "plt.figure(figsize=(8, 6))\n",
    "plt.plot(fpr, tpr, label= f'Logistic Regression (area = {roc_auc:.2f}')\n",
    "plt.plot([0, 1], [0, 1], 'k--')\n",
    "plt.xlim([0.0, 1.0])\n",
    "plt.ylim([0.0, 1.05])\n",
    "plt.xlabel('False Positive Rate')\n",
    "plt.ylabel('True Positive Rate')\n",
    "plt.title('Receiver Operating Characteristic')\n",
    "plt.legend(loc='lower right')\n",
    "plt.show()     "
   ]
  },
  {
   "cell_type": "markdown",
   "id": "5b6139f2",
   "metadata": {},
   "source": [
    "Decision Tree with Scikit-learn training steps"
   ]
  },
  {
   "cell_type": "code",
   "execution_count": null,
   "id": "248440f4",
   "metadata": {},
   "outputs": [],
   "source": [
    "fpr"
   ]
  },
  {
   "cell_type": "code",
   "execution_count": null,
   "id": "b5e0321b",
   "metadata": {},
   "outputs": [],
   "source": [
    "#Decision Tree Classifier\n",
    "dtree=DecisionTreeClassifier()\n",
    "dtree.fit(X_train,y_train)\n",
    "y_pred=dtree.predict(X_test)\n",
    "y_pred_proba=dtree.predict_proba(X_test)[:,1]\n",
    "print(\"Decision Tree Classifier\")\n",
    "print(\"Accuracy: \",accuracy_score(y_test,y_pred))\n",
    "print(\"Classification Report: \\n\",classification_report(y_test,y_pred))\n",
    "print(\"Confusion Matrix: \\n\",confusion_matrix(y_test,y_pred))\n",
    "print(\"ROC AUC Score: \",roc_auc_score(y_test,y_pred_proba))\n",
    "fpr, tpr, thresholds = roc_curve(y_test, y_pred_proba)\n",
    "roc_auc = auc(fpr, tpr)\n",
    "plt.figure(figsize=(8, 6))\n",
    "plt.plot(fpr, tpr, label= f'Decision Tree Classifier (area = {roc_auc:.2f}')\n",
    "plt.plot([0, 1], [0, 1], 'k--')\n",
    "plt.xlim([0.0, 1.0])\n",
    "plt.ylim([0.0, 1.05])\n",
    "plt.xlabel('False Positive Rate')\n",
    "plt.ylabel('True Positive Rate')\n",
    "plt.title('Receiver Operating Characteristic')\n",
    "plt.legend(loc='lower right')\n",
    "plt.show()"
   ]
  },
  {
   "cell_type": "markdown",
   "id": "9c108883",
   "metadata": {},
   "source": [
    "Random Forest with Scikit-learn training steps"
   ]
  },
  {
   "cell_type": "code",
   "execution_count": null,
   "id": "dcccfd7b",
   "metadata": {},
   "outputs": [],
   "source": [
    "#Random Forest Classifier\n",
    "rforest=RandomForestClassifier(class_weight= 'balanced',n_estimators=100)\n",
    "rforest.fit(X_train,y_train)\n",
    "y_pred=rforest.predict(X_test)\n",
    "y_pred_proba=rforest.predict_proba(X_test)[:,1]\n",
    "print(\"Random Forest Classifier\")\n",
    "print(\"Accuracy: \",accuracy_score(y_test,y_pred))\n",
    "print(\"Classification Report: \\n\",classification_report(y_test,y_pred))\n",
    "print(\"Confusion Matrix: \\n\",confusion_matrix(y_test,y_pred))\n",
    "print(\"ROC AUC Score: \",roc_auc_score(y_test,y_pred_proba))\n",
    "fpr, tpr, thresholds = roc_curve(y_test, y_pred_proba)\n",
    "roc_auc = auc(fpr, tpr)\n",
    "plt.figure(figsize=(8, 6))\n",
    "plt.plot(fpr, tpr, label= f'Random Forest Classifier (area = {roc_auc:.2f}')\n",
    "plt.plot([0, 1], [0, 1], 'k--')\n",
    "plt.xlim([0.0, 1.0])\n",
    "plt.ylim([0.0, 1.05])\n",
    "plt.xlabel('False Positive Rate')\n",
    "plt.ylabel('True Positive Rate')\n",
    "plt.title('Receiver Operating Characteristic')\n",
    "plt.legend(loc='lower right')\n",
    "plt.show()"
   ]
  },
  {
   "cell_type": "markdown",
   "id": "837c525f",
   "metadata": {},
   "source": [
    "Gradient Boosting with Scikit-learn training steps"
   ]
  },
  {
   "cell_type": "code",
   "execution_count": null,
   "id": "dedf0691",
   "metadata": {},
   "outputs": [],
   "source": [
    "#Gradient Boosting Classifier\n",
    "gbm=GradientBoostingClassifier()\n",
    "gbm.fit(X_train,y_train)\n",
    "y_pred=gbm.predict(X_test)\n",
    "y_pred_proba=gbm.predict_proba(X_test)[:,1]\n",
    "print(\"Gradient Boosting Classifier\")\n",
    "print(\"Accuracy: \",accuracy_score(y_test,y_pred))\n",
    "print(\"Classification Report: \\n\",classification_report(y_test,y_pred))\n",
    "print(\"Confusion Matrix: \\n\",confusion_matrix(y_test,y_pred))\n",
    "print(\"ROC AUC Score: \",roc_auc_score(y_test,y_pred_proba))\n",
    "fpr, tpr, thresholds = roc_curve(y_test, y_pred_proba)\n",
    "roc_auc = auc(fpr, tpr)\n",
    "plt.figure(figsize=(8, 6))\n",
    "plt.plot(fpr, tpr, label= f'Gradient Boosting Classifier (area = {roc_auc:.2f}')\n",
    "plt.plot([0, 1], [0, 1], 'k--')\n",
    "plt.xlim([0.0, 1.0])\n",
    "plt.ylim([0.0, 1.05])\n",
    "plt.xlabel('False Positive Rate')\n",
    "plt.ylabel('True Positive Rate')\n",
    "plt.title('Receiver Operating Characteristic')\n",
    "plt.legend(loc='lower right')\n",
    "plt.show()"
   ]
  },
  {
   "cell_type": "markdown",
   "id": "208e0045",
   "metadata": {},
   "source": [
    "SVC with Scikit-learn training steps"
   ]
  },
  {
   "cell_type": "code",
   "execution_count": null,
   "id": "f2d2dc55",
   "metadata": {},
   "outputs": [],
   "source": [
    "#Support Vector Classifier\n",
    "svc=SVC(class_weight= 'balanced',probability=True)\n",
    "svc.fit(X_train,y_train)\n",
    "y_pred=svc.predict(X_test)\n",
    "y_pred_proba=svc.predict_proba(X_test)[:,1]\n",
    "print(\"Support Vector Classifier\")\n",
    "print(\"Accuracy: \",accuracy_score(y_test,y_pred))\n",
    "print(\"Classification Report: \\n\",classification_report(y_test,y_pred))\n",
    "print(\"Confusion Matrix: \\n\",confusion_matrix(y_test,y_pred))\n",
    "print(\"ROC AUC Score: \",roc_auc_score(y_test,y_pred_proba))\n",
    "fpr, tpr, thresholds = roc_curve(y_test, y_pred_proba)\n",
    "roc_auc = auc(fpr, tpr)\n",
    "plt.figure(figsize=(8, 6))\n",
    "plt.plot(fpr, tpr, label= f'Support Vector Classifier (area = {roc_auc:.2f}')\n",
    "plt.plot([0, 1], [0, 1], 'k--')\n",
    "plt.xlim([0.0, 1.0])\n",
    "plt.ylim([0.0, 1.05])\n",
    "plt.xlabel('False Positive Rate')\n",
    "plt.ylabel('True Positive Rate')\n",
    "plt.title('Receiver Operating Characteristic')\n",
    "plt.legend(loc='lower right')\n",
    "plt.show()"
   ]
  },
  {
   "cell_type": "markdown",
   "id": "f62a014b",
   "metadata": {},
   "source": [
    "GaussianNB with Scikit-learn training steps"
   ]
  },
  {
   "cell_type": "code",
   "execution_count": null,
   "id": "a02299d2",
   "metadata": {},
   "outputs": [],
   "source": [
    "#Gaussian Naive Bayes\n",
    "gnb=GaussianNB()\n",
    "gnb.fit(X_train,y_train)\n",
    "y_pred=gnb.predict(X_test)\n",
    "y_pred_proba=gnb.predict_proba(X_test)[:,1]\n",
    "print(\"Gaussian Naive Bayes\")\n",
    "print(\"Accuracy: \",accuracy_score(y_test,y_pred))\n",
    "print(\"Classification Report: \\n\",classification_report(y_test,y_pred))\n",
    "print(\"Confusion Matrix: \\n\",confusion_matrix(y_test,y_pred))\n",
    "print(\"ROC AUC Score: \",roc_auc_score(y_test,y_pred_proba))\n",
    "fpr, tpr, thresholds = roc_curve(y_test, y_pred_proba)\n",
    "roc_auc = auc(fpr, tpr)\n",
    "plt.figure(figsize=(8, 6))\n",
    "plt.plot(fpr, tpr, label= f'Gaussian Naive Bayes ( area = {roc_auc:.2f}')\n",
    "plt.plot([0, 1], [0, 1], 'k--')\n",
    "plt.xlim([0.0, 1.0])\n",
    "plt.ylim([0.0, 1.05])\n",
    "plt.xlabel('False Positive Rate')\n",
    "plt.ylabel('True Positive Rate')\n",
    "plt.title('Receiver Operating Characteristic')\n",
    "plt.legend(loc='lower right')\n",
    "plt.show()"
   ]
  },
  {
   "cell_type": "markdown",
   "id": "901f275f",
   "metadata": {},
   "source": [
    "KNeighbors with Scikit-learn training steps"
   ]
  },
  {
   "cell_type": "code",
   "execution_count": null,
   "id": "aac419f7",
   "metadata": {},
   "outputs": [],
   "source": [
    "#K Neighbors Classifier\n",
    "knn=KNeighborsClassifier()\n",
    "knn.fit(X_train,y_train)\n",
    "y_pred=knn.predict(X_test)\n",
    "y_pred_proba=knn.predict_proba(X_test)[:,1]\n",
    "print(\"K Neighbors Classifier\")\n",
    "print(\"Accuracy: \",accuracy_score(y_test,y_pred))\n",
    "print(\"Classification Report: \\n\",classification_report(y_test,y_pred))\n",
    "print(\"Confusion Matrix: \\n\",confusion_matrix(y_test,y_pred))\n",
    "print(\"ROC AUC Score: \",roc_auc_score(y_test,y_pred_proba))\n",
    "fpr, tpr, thresholds = roc_curve(y_test, y_pred_proba)\n",
    "roc_auc = auc(fpr, tpr)\n",
    "plt.figure(figsize=(8, 6))\n",
    "plt.plot(fpr, tpr, label='K Neighbors Classifier (area = {:.2f})'.format(roc_auc))\n",
    "plt.plot([0, 1], [0, 1], 'k--')\n",
    "plt.xlim([0.0, 1.0])\n",
    "plt.ylim([0.0, 1.05])\n",
    "plt.xlabel('False Positive Rate')\n",
    "plt.ylabel('True Positive Rate')\n",
    "plt.title('Receiver Operating Characteristic')\n",
    "plt.legend(loc='lower right')\n",
    "plt.show()"
   ]
  },
  {
   "cell_type": "code",
   "execution_count": null,
   "id": "525cc4bf",
   "metadata": {},
   "outputs": [],
   "source": [
    "# Create a DataFrame to store the results\n",
    "results = pd.DataFrame({\n",
    "    'Model': ['Logistic Regression', 'Decision Tree', 'Random Forest', 'Gradient Boosting', 'SVC', 'Gaussian Naive Bayes', 'K Neighbors'],\n",
    "    'Accuracy': [accuracy_score(y_test, logreg.predict(X_test)), \n",
    "                 accuracy_score(y_test, dtree.predict(X_test)), \n",
    "                 accuracy_score(y_test, rforest.predict(X_test)), \n",
    "                 accuracy_score(y_test, gbm.predict(X_test)), \n",
    "                 accuracy_score(y_test, svc.predict(X_test)), \n",
    "                 accuracy_score(y_test, gnb.predict(X_test)), \n",
    "                 accuracy_score(y_test, knn.predict(X_test))],\n",
    "    'ROC_AUC_Score': [roc_auc_score(y_test, logreg.predict_proba(X_test)[:, 1]), \n",
    "                      roc_auc_score(y_test, dtree.predict_proba(X_test)[:, 1]), \n",
    "                      roc_auc_score(y_test, rforest.predict_proba(X_test)[:, 1]), \n",
    "                      roc_auc_score(y_test, gbm.predict_proba(X_test)[:, 1]), \n",
    "                      roc_auc_score(y_test, svc.predict_proba(X_test)[:, 1]), \n",
    "                      roc_auc_score(y_test, gnb.predict_proba(X_test)[:, 1]), \n",
    "                      roc_auc_score(y_test, knn.predict_proba(X_test)[:, 1])]\n",
    "})"
   ]
  },
  {
   "cell_type": "code",
   "execution_count": null,
   "id": "7822452d",
   "metadata": {},
   "outputs": [],
   "source": [
    "# Sort the results by ROC_AUC_Score in descending order\n",
    "results = results.sort_values(by='ROC_AUC_Score', ascending=False)\n",
    "# Display the results\n",
    "print(results)"
   ]
  },
  {
   "cell_type": "code",
   "execution_count": null,
   "id": "80453959",
   "metadata": {},
   "outputs": [],
   "source": [
    "# Save the model\n",
    "joblib.dump(logreg, 'logreg_model.pkl')\n",
    "joblib.dump(dtree, 'dtree_model.pkl')\n",
    "joblib.dump(rforest, 'rforest_model.pkl')\n",
    "joblib.dump(gbm, 'gbm_model.pkl')\n",
    "joblib.dump(svc, 'svc_model.pkl')\n",
    "joblib.dump(gnb, 'gnb_model.pkl')\n",
    "joblib.dump(knn, 'knn_model.pkl')\n",
    "joblib.dump(pre_pipeline, 'pre_pipeline.pkl')\n",
    "joblib.dump(label_encoder, 'label_encoder.pkl')"
   ]
  },
  {
   "cell_type": "code",
   "execution_count": null,
   "id": "4d5260cc",
   "metadata": {},
   "outputs": [],
   "source": [
    "# Load the model\n",
    "logreg = joblib.load('logreg_model.pkl')\n",
    "dtree = joblib.load('dtree_model.pkl')\n",
    "rforest = joblib.load('rforest_model.pkl')\n",
    "gbm = joblib.load('gbm_model.pkl')\n",
    "svc = joblib.load('svc_model.pkl')\n",
    "gnb = joblib.load('gnb_model.pkl')\n",
    "knn = joblib.load('knn_model.pkl')"
   ]
  },
  {
   "cell_type": "code",
   "execution_count": null,
   "id": "8db8a728",
   "metadata": {},
   "outputs": [],
   "source": [
    "# Make predictions on new data\n",
    "new_data = pd.DataFrame({\n",
    "    'age': [30],\n",
    "    'balance': [1000],\n",
    "    'day': [15],\n",
    "    'duration': [200],\n",
    "    'campaign': [1],\n",
    "    'pdays': [999],\n",
    "    'previous': [0],\n",
    "    'job': ['admin.'],\n",
    "    'contact': ['cellular'],\n",
    "    'marital_status': ['single'],\n",
    "    'education': ['university.degree'],\n",
    "    'month': ['may'],\n",
    "    'housing_loan': ['yes'],\n",
    "    'personal_loan': ['no'],\n",
    "    'credit_default': ['no']\n",
    "})"
   ]
  },
  {
   "cell_type": "code",
   "execution_count": null,
   "id": "39ddf635",
   "metadata": {},
   "outputs": [],
   "source": [
    "# Preprocess the new data\n",
    "new_data = pd.DataFrame(pre_processor.transform(new_data), columns=pre_processor.get_feature_names_out())\n",
    "# Make predictions\n",
    "logreg_pred = logreg.predict(new_data)\n",
    "dtree_pred = dtree.predict(new_data)\n",
    "rforest_pred = rforest.predict(new_data)\n",
    "gbm_pred = gbm.predict(new_data)\n",
    "svc_pred = svc.predict(new_data)\n",
    "gnb_pred = gnb.predict(new_data)\n",
    "knn_pred = knn.predict(new_data)\n",
    "# Print the predictions\n",
    "print(\"Logistic Regression Prediction: \", logreg_pred)\n",
    "print(\"Decision Tree Prediction: \", dtree_pred)\n",
    "print(\"Random Forest Prediction: \", rforest_pred)\n",
    "print(\"Gradient Boosting Prediction: \", gbm_pred)\n",
    "print(\"SVC Prediction: \", svc_pred)\n",
    "print(\"Gaussian Naive Bayes Prediction: \", gnb_pred)\n",
    "print(\"K Neighbors Prediction: \", knn_pred)"
   ]
  }
 ],
 "metadata": {
  "kernelspec": {
   "display_name": "clasfi",
   "language": "python",
   "name": "python3"
  },
  "language_info": {
   "name": "python"
  }
 },
 "nbformat": 4,
 "nbformat_minor": 5
}
