{
 "cells": [
  {
   "cell_type": "markdown",
   "id": "eb681ff5",
   "metadata": {},
   "source": [
    "This notebook desined for tabular classification tasks with pandas and scikit-learn.\n",
    "It is a simple example of how to use pandas and scikit-learn to build a classification model using a tabular dataset. The code includes data preprocessing, model training, and evaluation steps.\n",
    "The dataset used in this example is the bank marketing dataset from the UCI Machine Learning Repository. The dataset contains information about a bank's marketing campaign and whether or not a customer subscribed to a term deposit.\n",
    "The goal is to predict whether a customer will subscribe to a term deposit based on their demographic and behavioral features.\n"
   ]
  },
  {
   "cell_type": "code",
   "execution_count": 1,
   "id": "91399d33",
   "metadata": {},
   "outputs": [
    {
     "name": "stderr",
     "output_type": "stream",
     "text": [
      "Matplotlib is building the font cache; this may take a moment.\n"
     ]
    }
   ],
   "source": [
    "# Import necessary libraries\n",
    "from sklearn.model_selection import train_test_split\n",
    "from sklearn.preprocessing import StandardScaler\n",
    "from sklearn.preprocessing import LabelEncoder\n",
    "from sklearn.preprocessing import OneHotEncoder\n",
    "from sklearn.compose import ColumnTransformer\n",
    "from sklearn.pipeline import Pipeline\n",
    "#import numpy as np\n",
    "import pandas as pd\n",
    "import matplotlib.pyplot as plt\n",
    "import seaborn as sns\n",
    "\n"
   ]
  },
  {
   "cell_type": "code",
   "execution_count": 3,
   "id": "b91faeb8",
   "metadata": {},
   "outputs": [
    {
     "name": "stdout",
     "output_type": "stream",
     "text": [
      "   age           job  marital  education default  balance housing loan  \\\n",
      "0   58    management  married   tertiary      no     2143     yes   no   \n",
      "1   44    technician   single  secondary      no       29     yes   no   \n",
      "2   33  entrepreneur  married  secondary      no        2     yes  yes   \n",
      "3   47   blue-collar  married    unknown      no     1506     yes   no   \n",
      "4   33       unknown   single    unknown      no        1      no   no   \n",
      "\n",
      "   contact  day month  duration  campaign  pdays  previous poutcome   y  \n",
      "0  unknown    5   may       261         1     -1         0  unknown  no  \n",
      "1  unknown    5   may       151         1     -1         0  unknown  no  \n",
      "2  unknown    5   may        76         1     -1         0  unknown  no  \n",
      "3  unknown    5   may        92         1     -1         0  unknown  no  \n",
      "4  unknown    5   may       198         1     -1         0  unknown  no  \n"
     ]
    }
   ],
   "source": [
    "data=pd.read_csv('/home/tisinr/MEGA/Dev/models/classifier/dataset/bank.csv',header=0, sep=';')\n",
    "# Display the first few rows of the dataset\n",
    "print(data.head())"
   ]
  },
  {
   "cell_type": "code",
   "execution_count": null,
   "id": "fca7c7d0",
   "metadata": {},
   "outputs": [
    {
     "name": "stdout",
     "output_type": "stream",
     "text": [
      "   age           job marital_status  education credit_default  balance  \\\n",
      "0   58    management        married   tertiary             no     2143   \n",
      "1   44    technician         single  secondary             no       29   \n",
      "2   33  entrepreneur        married  secondary             no        2   \n",
      "3   47   blue-collar        married    unknown             no     1506   \n",
      "4   33       unknown         single    unknown             no        1   \n",
      "\n",
      "  housing_loan personal_loan  contact  day month  duration  campaign  pdays  \\\n",
      "0          yes            no  unknown    5   may       261         1     -1   \n",
      "1          yes            no  unknown    5   may       151         1     -1   \n",
      "2          yes           yes  unknown    5   may        76         1     -1   \n",
      "3          yes            no  unknown    5   may        92         1     -1   \n",
      "4           no            no  unknown    5   may       198         1     -1   \n",
      "\n",
      "   previous poutcome target  \n",
      "0         0  unknown     no  \n",
      "1         0  unknown     no  \n",
      "2         0  unknown     no  \n",
      "3         0  unknown     no  \n",
      "4         0  unknown     no  \n"
     ]
    }
   ],
   "source": [
    "#Rename some columns\n",
    "data.rename(columns={'marital':'marital_status','default':'credit_default','housing':'housing_loan','loan':'personal_loan','y':'target'}, inplace=True)\n",
    "# Display the first few rows of the dataset\n",
    "print(data.head())"
   ]
  },
  {
   "cell_type": "code",
   "execution_count": null,
   "id": "b59bfaed",
   "metadata": {},
   "outputs": [],
   "source": [
    "data.replace('unknown', pd.NA, inplace=True)"
   ]
  },
  {
   "cell_type": "code",
   "execution_count": null,
   "id": "ff4a5ef6",
   "metadata": {},
   "outputs": [],
   "source": [
    "data.isnull().sum()"
   ]
  },
  {
   "cell_type": "markdown",
   "id": "31151b5b",
   "metadata": {},
   "source": [
    "Exploratory Data Analysis with Pandas"
   ]
  },
  {
   "cell_type": "code",
   "execution_count": null,
   "id": "fd69fa4d",
   "metadata": {},
   "outputs": [],
   "source": [
    "data.info()"
   ]
  },
  {
   "cell_type": "code",
   "execution_count": null,
   "id": "267def51",
   "metadata": {},
   "outputs": [],
   "source": [
    "data.describe()"
   ]
  },
  {
   "cell_type": "code",
   "execution_count": null,
   "id": "6aaa1ef5",
   "metadata": {},
   "outputs": [],
   "source": [
    "#Distribution plot of target variable\n",
    "plt.figure(figsize=(8, 6))\n",
    "data['y'].value_counts().plot(kind='bar')\n",
    "plt.title('Distribution of Target Variable')\n",
    "plt.xlabel('y')\n",
    "plt.ylabel('Count')\n",
    "plt.show()\n",
    "\n"
   ]
  },
  {
   "cell_type": "code",
   "execution_count": null,
   "id": "8659cfdf",
   "metadata": {},
   "outputs": [],
   "source": [
    "data.dtypes"
   ]
  },
  {
   "cell_type": "code",
   "execution_count": null,
   "id": "a649178a",
   "metadata": {},
   "outputs": [],
   "source": [
    "data['poutcome'].value_counts()"
   ]
  },
  {
   "cell_type": "code",
   "execution_count": null,
   "id": "ba14627c",
   "metadata": {},
   "outputs": [],
   "source": [
    "##category distribution\n",
    "data['job'].value_counts()/len(data)*100\n"
   ]
  },
  {
   "cell_type": "code",
   "execution_count": null,
   "id": "b0cd819f",
   "metadata": {},
   "outputs": [],
   "source": [
    "X=data.drop(columns=['y'])\n",
    "y=data['y']\n",
    "print(X.shape)\n",
    "print(y.shape)"
   ]
  },
  {
   "cell_type": "code",
   "execution_count": null,
   "id": "c57303f3",
   "metadata": {},
   "outputs": [],
   "source": [
    "data['y'].value_counts()"
   ]
  },
  {
   "cell_type": "code",
   "execution_count": null,
   "id": "e772d6d6",
   "metadata": {},
   "outputs": [],
   "source": [
    "preprocessor = ColumnTransformer(\n",
    "    transformers=[\n",
    "        ('cat', SimpleImputer(strategy='most_frequent'), ['category'])\n",
    "    ])"
   ]
  },
  {
   "cell_type": "code",
   "execution_count": null,
   "id": "890f64fc",
   "metadata": {},
   "outputs": [],
   "source": [
    "# Convert labels to integers (0, 1, ...)\n",
    "encoder = LabelEncoder()\n",
    "y_encoded = encoder.fit_transform(y)\n",
    "\n",
    "print(y_encoded)  # Output: [0 1 0]"
   ]
  },
  {
   "cell_type": "code",
   "execution_count": null,
   "id": "316d05a4",
   "metadata": {},
   "outputs": [],
   "source": [
    "# Fill missing values with a placeholder (e.g., 'missing') before encoding\n",
    "data_filled = data[['job', 'marital', 'education', 'default', 'housing', 'loan', 'contact', 'month', 'poutcome']].fillna('missing')\n",
    "\n",
    "# Convert to one-hot encoded format\n",
    "encoder = OneHotEncoder()\n",
    "data_encoded = encoder.fit_transform(data_filled).toarray()\n"
   ]
  },
  {
   "cell_type": "code",
   "execution_count": null,
   "id": "aa6c47a6",
   "metadata": {},
   "outputs": [],
   "source": [
    "# Convert the encoded data back to a DataFrame\n",
    "data_encoded_df = pd.DataFrame(data_encoded, columns=encoder.get_feature_names_out(data_filled.columns))\n",
    "# Concatenate the encoded data with the original DataFrame\n",
    "data_encoded_df"
   ]
  },
  {
   "cell_type": "code",
   "execution_count": null,
   "id": "7c8b71df",
   "metadata": {},
   "outputs": [],
   "source": [
    "data_encoded_df.head"
   ]
  },
  {
   "cell_type": "code",
   "execution_count": null,
   "id": "4cab18c9",
   "metadata": {},
   "outputs": [],
   "source": [
    "data_encoded.view()"
   ]
  },
  {
   "cell_type": "code",
   "execution_count": null,
   "id": "7196fd45",
   "metadata": {},
   "outputs": [],
   "source": []
  },
  {
   "cell_type": "code",
   "execution_count": null,
   "id": "0126da91",
   "metadata": {},
   "outputs": [],
   "source": [
    "X_train,X_test,y_train,y_test = train_test_split(X,y,train_size=0.8,stratify=y,random_state=78)"
   ]
  },
  {
   "cell_type": "code",
   "execution_count": null,
   "id": "e373566c",
   "metadata": {},
   "outputs": [],
   "source": [
    "y_test.shape"
   ]
  },
  {
   "cell_type": "code",
   "execution_count": null,
   "id": "b9a192fa",
   "metadata": {},
   "outputs": [],
   "source": [
    "X_train.shape"
   ]
  },
  {
   "cell_type": "code",
   "execution_count": null,
   "id": "c81f21d1",
   "metadata": {},
   "outputs": [],
   "source": [
    "y_train.shape"
   ]
  },
  {
   "cell_type": "code",
   "execution_count": null,
   "id": "9d449a42",
   "metadata": {},
   "outputs": [],
   "source": [
    "X_test.info\n"
   ]
  },
  {
   "cell_type": "code",
   "execution_count": null,
   "id": "de5373ed",
   "metadata": {},
   "outputs": [],
   "source": []
  }
 ],
 "metadata": {
  "kernelspec": {
   "display_name": "ml_clasfi",
   "language": "python",
   "name": "python3"
  },
  "language_info": {
   "codemirror_mode": {
    "name": "ipython",
    "version": 3
   },
   "file_extension": ".py",
   "mimetype": "text/x-python",
   "name": "python",
   "nbconvert_exporter": "python",
   "pygments_lexer": "ipython3",
   "version": "3.12.9"
  }
 },
 "nbformat": 4,
 "nbformat_minor": 5
}
